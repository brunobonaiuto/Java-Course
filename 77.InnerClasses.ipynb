{
 "cells": [
  {
   "cell_type": "markdown",
   "metadata": {},
   "source": [
    "### Inner Classes\n",
    "* It's legal to have classes inside other classes\n",
    "* inner class : is a class inside of another class.\n",
    "    * inner classes are useful if a class should be limited in scope.\n",
    "    * They are usually private, but not necessary helps group classes that belong together extremely useful for listeners for specific events precursor for anonymous inner classes"
   ]
  },
  {
   "cell_type": "code",
   "execution_count": 2,
   "metadata": {},
   "outputs": [
    {
     "name": "stdout",
     "output_type": "stream",
     "text": [
      "Hello World!\n"
     ]
    }
   ],
   "source": [
    "public class Outside {\n",
    "\tString x = \"Hello \";\n",
    "\t\n",
    "\tpublic class Inside{\n",
    "\t\tString y = \"World!\";\n",
    "\t\t\n",
    "\t\tpublic void Greeting()\n",
    "\t\t{\n",
    "\t\t\tSystem.out.println(x+y);\n",
    "\t\t}\n",
    "\t}\n",
    "}\n",
    "\n",
    "//---------------------------------------------------\n",
    "public class Main {\n",
    "\n",
    "\tpublic static void main(String[] args) {\n",
    "\t\tOutside out = new Outside();\n",
    "\t\tOutside.Inside in = out.new Inside(); //instances of the inner class\n",
    "\t\t//or \n",
    "\t\t//System.out.println(out.x + in.y);\n",
    "\t\tin.Greeting(); //call the method of the inside class\n",
    "\t}\n",
    "}\n",
    "Main.main(new String []{});"
   ]
  }
 ],
 "metadata": {
  "kernelspec": {
   "display_name": "Java",
   "language": "java",
   "name": "java"
  },
  "language_info": {
   "codemirror_mode": "java",
   "file_extension": ".jshell",
   "mimetype": "text/x-java-source",
   "name": "java",
   "pygments_lexer": "java",
   "version": "21.0.2+13-LTS-58"
  }
 },
 "nbformat": 4,
 "nbformat_minor": 2
}
