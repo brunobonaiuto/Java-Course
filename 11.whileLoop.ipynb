{
 "cells": [
  {
   "cell_type": "markdown",
   "metadata": {},
   "source": [
    "### while loop\n",
    "* it executes a block of code as long as it's condition remains true"
   ]
  },
  {
   "cell_type": "code",
   "execution_count": 3,
   "metadata": {
    "vscode": {
     "languageId": "java"
    }
   },
   "outputs": [
    {
     "name": "stdout",
     "output_type": "stream",
     "text": [
      "enter your name: \n",
      "enter your name: \n",
      "enter your name: \n",
      "enter your name: \n",
      "hellobruno\n"
     ]
    }
   ],
   "source": [
    "import java.util.Scanner;\n",
    "\n",
    "public class Main{\n",
    "    public static void main (String[]args){\n",
    "\n",
    "        Scanner scanner = new Scanner(System.in);\n",
    "        String name = \"\";\n",
    "\n",
    "        //if the condition is true -> we will execute the block until condition is false\n",
    "\n",
    "        // .isBlank() --> returns true is variable is a empty string\n",
    "        while(name.isBlank()) {\n",
    "            System.out.println(\"enter your name: \");\n",
    "\n",
    "            name = scanner.nextLine();\n",
    "            //update should be inside the loop\n",
    "        }\n",
    "        //out of while loop\n",
    "        System.out.println(\"hello \" + name);\n",
    "    }\n",
    "}\n",
    "Main.main(new String[]{});"
   ]
  },
  {
   "cell_type": "code",
   "execution_count": 4,
   "metadata": {
    "vscode": {
     "languageId": "java"
    }
   },
   "outputs": [
    {
     "name": "stdout",
     "output_type": "stream",
     "text": [
      "enter your name: \n",
      "enter your name: \n",
      "enter your name: \n",
      "hello bruno\n"
     ]
    }
   ],
   "source": [
    "import java.util.Scanner;\n",
    "\n",
    "public class Main{\n",
    "    public static void main (String[]args){\n",
    "\n",
    "        Scanner scanner = new Scanner(System.in);\n",
    "        String name = \"\";\n",
    "        // we will always perform the block at least ONCE\n",
    "        //then we check the condition in While\n",
    "        do{\n",
    "            System.out.println(\"enter your name: \");\n",
    "            name = scanner.nextLine();\n",
    "        }while(name.isBlank());\n",
    "        //out of while loop\n",
    "        System.out.println(\"hello \" + name);\n",
    "    }\n",
    "}\n",
    "Main.main(new String[]{});"
   ]
  }
 ],
 "metadata": {
  "kernelspec": {
   "display_name": "Java",
   "language": "java",
   "name": "java"
  },
  "language_info": {
   "codemirror_mode": "java",
   "file_extension": ".jshell",
   "mimetype": "text/x-java-source",
   "name": "Java",
   "pygments_lexer": "java",
   "version": "11.0.1+13-LTS"
  }
 },
 "nbformat": 4,
 "nbformat_minor": 2
}
