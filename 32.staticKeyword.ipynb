{
 "cells": [
  {
   "cell_type": "markdown",
   "metadata": {},
   "source": [
    "### static keyword\n",
    "* Is a modifier. \n",
    "* A single copy of a variable/method is created and shared\n",
    "* The class \"owns\" the static member\n",
    "    * The class that containt the static member \"owns\" that member, and so as consecuense, anything that the class \"owns\" is shared by all instances of the class. Meaning that if we create object from the class they all HAVE to share the varaible or method "
   ]
  },
  {
   "cell_type": "markdown",
   "metadata": {},
   "source": [
    "--- -\n",
    "* Each of the friends object has it owns copy of the `numberOfFriends` variable"
   ]
  },
  {
   "cell_type": "code",
   "execution_count": 6,
   "metadata": {
    "vscode": {
     "languageId": "java"
    }
   },
   "outputs": [
    {
     "name": "stdout",
     "output_type": "stream",
     "text": [
      "3\n",
      "3\n",
      "3\n"
     ]
    }
   ],
   "source": [
    "public class Friend{\n",
    "    String name;\n",
    "    static int numberOfFriends;\n",
    "\n",
    "    Friend(String name){\n",
    "        this.name = name;\n",
    "        //all the instances has the same number of friends\n",
    "        numberOfFriends++;\n",
    "    }\n",
    "}\n",
    "\n",
    "public class Main {\n",
    "    public static void main(String[] args){\n",
    "        \n",
    "        Friend friend1 = new Friend(\"Vince\");\n",
    "        Friend friend2 = new Friend(\"Pedro\");\n",
    "        Friend friend3 = new Friend(\"Lucio\");\n",
    "        //the class owns the static variable\n",
    "        System.out.println(Friend.numberOfFriends);\n",
    "        //not recommended to do this\n",
    "        System.out.println(friend1.numberOfFriends);\n",
    "        System.out.println(friend2.numberOfFriends);\n",
    "    }\n",
    "}\n",
    "Main.main(new String[]{});"
   ]
  },
  {
   "cell_type": "markdown",
   "metadata": {},
   "source": [
    "* Static method"
   ]
  },
  {
   "cell_type": "code",
   "execution_count": 7,
   "metadata": {
    "vscode": {
     "languageId": "java"
    }
   },
   "outputs": [
    {
     "name": "stdout",
     "output_type": "stream",
     "text": [
      "you have 3 friends\n"
     ]
    }
   ],
   "source": [
    "public class Friend{\n",
    "    String name;\n",
    "    static int numberOfFriends;\n",
    "\n",
    "    Friend(String name){\n",
    "        this.name = name;\n",
    "        //all the instances has the same number of friends\n",
    "        numberOfFriends++;\n",
    "    }\n",
    "\n",
    "    static void displayFriends(){\n",
    "        System.out.println(\"you have \" + numberOfFriends + \" friends\");\n",
    "    }\n",
    "}\n",
    "\n",
    "public class Main {\n",
    "    public static void main(String[] args){\n",
    "        \n",
    "        Friend friend1 = new Friend(\"Vince\");\n",
    "        Friend friend2 = new Friend(\"Pedro\");\n",
    "        Friend friend3 = new Friend(\"Lucio\");\n",
    "\n",
    "        //calling the static method by CLASS NAME, dont use the instance name\n",
    "        Friend.displayFriends();\n",
    "    }\n",
    "}\n",
    "Main.main(new String[]{});"
   ]
  }
 ],
 "metadata": {
  "kernelspec": {
   "display_name": "Java",
   "language": "java",
   "name": "java"
  },
  "language_info": {
   "codemirror_mode": "java",
   "file_extension": ".jshell",
   "mimetype": "text/x-java-source",
   "name": "Java",
   "pygments_lexer": "java",
   "version": "11.0.21+9"
  }
 },
 "nbformat": 4,
 "nbformat_minor": 2
}
