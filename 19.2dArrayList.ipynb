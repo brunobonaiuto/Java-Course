{
 "cells": [
  {
   "cell_type": "markdown",
   "metadata": {},
   "source": [
    "### 2D ArrayList\n",
    "* is a dynamic list of list\n",
    "* you can change the size of these list during runtime (dynamic)\n",
    "```java\n",
    "ArrayList<ArrayList<String>> 2dArrayList = new ArrayList();\n",
    "```"
   ]
  },
  {
   "cell_type": "markdown",
   "metadata": {},
   "source": [
    "* array list of separate shopping lists\n",
    "    * sizes are allow to be different "
   ]
  },
  {
   "cell_type": "code",
   "execution_count": 9,
   "metadata": {
    "vscode": {
     "languageId": "java"
    }
   },
   "outputs": [
    {
     "name": "stdout",
     "output_type": "stream",
     "text": [
      "[pasta, garlic bread, donuts]\n",
      "[tomatoes, zucchini, peppers]"
     ]
    },
    {
     "name": "stdout",
     "output_type": "stream",
     "text": [
      "\n",
      "[soda, coff]\n"
     ]
    }
   ],
   "source": [
    "import java.util.*;\n",
    "public class Main {\n",
    "    public static void main (String[] args){\n",
    "        //lets create multiples arrayLists\n",
    "        ArrayList<String> bakeryList = new ArrayList();\n",
    "        bakeryList.add(\"pasta\");\n",
    "        bakeryList.add(\"garlic bread\");\n",
    "        bakeryList.add(\"donuts\");\n",
    "\n",
    "        ArrayList<String> produceList = new ArrayList();\n",
    "        produceList.add(\"tomatoes\");\n",
    "        produceList.add(\"zucchini\");\n",
    "        produceList.add(\"peppers\");\n",
    "\n",
    "        // size are allow to be different\n",
    "        ArrayList<String> drinkList = new ArrayList();\n",
    "        drinkList.add(\"soda\");\n",
    "        drinkList.add(\"coff\");\n",
    "\n",
    "        System.out.println(bakeryList);\n",
    "        System.out.println(produceList);\n",
    "        System.out.println(drinkList);\n",
    "\n",
    "    }\n",
    "}\n",
    "Main.main(new String[]{});"
   ]
  },
  {
   "cell_type": "code",
   "execution_count": 8,
   "metadata": {
    "vscode": {
     "languageId": "java"
    }
   },
   "outputs": [
    {
     "name": "stdout",
     "output_type": "stream",
     "text": [
      "[[pasta, garlic bread, donuts], [tomatoes, zucchini, peppers], [soda, coff]]\n",
      "[pasta, garlic bread, donuts]\n",
      "coff\n"
     ]
    }
   ],
   "source": [
    "import java.util.*;\n",
    "public class Main {\n",
    "    public static void main (String[] args){\n",
    "        //create the 2D array list\n",
    "\n",
    "        ArrayList<ArrayList<String>> groceryList = new ArrayList();\n",
    "        \n",
    "        ArrayList<String> bakeryList = new ArrayList();\n",
    "        bakeryList.add(\"pasta\");\n",
    "        bakeryList.add(\"garlic bread\");\n",
    "        bakeryList.add(\"donuts\");\n",
    "\n",
    "        ArrayList<String> produceList = new ArrayList();\n",
    "        produceList.add(\"tomatoes\");\n",
    "        produceList.add(\"zucchini\");\n",
    "        produceList.add(\"peppers\");\n",
    "\n",
    "        // size are allow to be different\n",
    "        ArrayList<String> drinkList = new ArrayList();\n",
    "        drinkList.add(\"soda\");\n",
    "        drinkList.add(\"coff\");\n",
    "\n",
    "        //Lets add ArraysList to the ArrayList to have a 2dArrayList\n",
    "        groceryList.add(bakeryList);\n",
    "        groceryList.add(produceList);\n",
    "        groceryList.add(drinkList);\n",
    "\n",
    "        System.out.println(groceryList);\n",
    "        System.out.println(groceryList.get(0));\n",
    "        System.out.println(groceryList.get(2).get(1));\n",
    "    }\n",
    "}\n",
    "Main.main(new String[]{});"
   ]
  }
 ],
 "metadata": {
  "kernelspec": {
   "display_name": "Java",
   "language": "java",
   "name": "java"
  },
  "language_info": {
   "codemirror_mode": "java",
   "file_extension": ".jshell",
   "mimetype": "text/x-java-source",
   "name": "Java",
   "pygments_lexer": "java",
   "version": "11.0.1+13-LTS"
  }
 },
 "nbformat": 4,
 "nbformat_minor": 2
}
