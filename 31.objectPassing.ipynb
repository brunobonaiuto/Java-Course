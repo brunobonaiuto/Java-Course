{
 "cells": [
  {
   "cell_type": "markdown",
   "metadata": {},
   "source": [
    "### Object passing\n",
    "* how to pass objects as arguments to a method\n",
    "* we want to send to cars to the garage\n",
    "* so, You can pass objects as arguments to a method, but when we decleare that method, the parameter should be set up to accept that object "
   ]
  },
  {
   "cell_type": "code",
   "execution_count": 9,
   "metadata": {
    "vscode": {
     "languageId": "java"
    }
   },
   "outputs": [
    {
     "name": "stdout",
     "output_type": "stream",
     "text": [
      "the BMW is parked in the garage\n",
      "the Tesla is parked in the garage\n"
     ]
    }
   ],
   "source": [
    "//Car\n",
    "public class Car{\n",
    "    //att\n",
    "    String name;\n",
    "    //constr\n",
    "    Car(String name){\n",
    "        this.name = name;\n",
    "    }\n",
    "}\n",
    "//Garage\n",
    "public class Garage{\n",
    "\n",
    "    /* Since we want to pass a car to the garage, we need to recive a \n",
    "    * Car object\n",
    "    */\n",
    "\n",
    "    //methods\n",
    "    //void: is not returning anything\n",
    "    void park(Car car){\n",
    "        System.out.println(\"the \"+ car.name + \" is parked in the garage\");\n",
    "    }\n",
    "}\n",
    "//Main\n",
    "public class Main{\n",
    "    public static void main(String[]args){\n",
    "        //create an instance of the garage\n",
    "        Garage garage = new Garage();\n",
    "        //create an instance of a car\n",
    "        Car car = new Car(\"BMW\");\n",
    "        //create another car\n",
    "        Car car2 = new Car(\"Tesla\");\n",
    "\n",
    "        //call the park method to send a Car object\n",
    "        garage.park(car);\n",
    "        garage.park(car2);\n",
    "    }\n",
    "}\n",
    "Main.main(new String[]{});"
   ]
  }
 ],
 "metadata": {
  "kernelspec": {
   "display_name": "Java",
   "language": "java",
   "name": "java"
  },
  "language_info": {
   "codemirror_mode": "java",
   "file_extension": ".jshell",
   "mimetype": "text/x-java-source",
   "name": "Java",
   "pygments_lexer": "java",
   "version": "11.0.21+9-post-Ubuntu-0ubuntu122.04"
  }
 },
 "nbformat": 4,
 "nbformat_minor": 2
}
