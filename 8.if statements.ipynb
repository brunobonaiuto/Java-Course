{
 "cells": [
  {
   "cell_type": "markdown",
   "metadata": {},
   "source": [
    "### If statements\n",
    "* perfoms a block of code if it'sm condition evaluate to be true\n",
    "* a form of decision making\n",
    "*"
   ]
  },
  {
   "cell_type": "code",
   "execution_count": 6,
   "metadata": {
    "vscode": {
     "languageId": "java"
    }
   },
   "outputs": [
    {
     "name": "stdout",
     "output_type": "stream",
     "text": [
      "Your are and adult\n"
     ]
    }
   ],
   "source": [
    "public class Main{\n",
    "    public static void main (String[]args){\n",
    "\n",
    "        int age = 25; //true\n",
    "        //int age = 12; //false\n",
    "        if(age>= 18){\n",
    "            System.out.println(\"Your are and adult\");\n",
    "        }\n",
    "    }\n",
    "}\n",
    "\n",
    "Main.main(new String[]{});"
   ]
  },
  {
   "cell_type": "markdown",
   "metadata": {},
   "source": [
    "* else"
   ]
  },
  {
   "cell_type": "code",
   "execution_count": 8,
   "metadata": {
    "vscode": {
     "languageId": "java"
    }
   },
   "outputs": [
    {
     "name": "stdout",
     "output_type": "stream",
     "text": [
      "you are not an adult\n"
     ]
    }
   ],
   "source": [
    "public class Main{\n",
    "    public static void main (String[]args){\n",
    "\n",
    "        // int age = 25; //true\n",
    "        int age = 12; //false\n",
    "        if(age>= 18){\n",
    "            System.out.println(\"Your are an adult\");\n",
    "        }else{\n",
    "            System.out.println(\"you are not an adult\");\n",
    "        }\n",
    "    }\n",
    "}\n",
    "Main.main(new String[]{});"
   ]
  },
  {
   "cell_type": "markdown",
   "metadata": {},
   "source": [
    "* else if\n",
    "    * to check for equality use `==` operator"
   ]
  },
  {
   "cell_type": "code",
   "execution_count": 12,
   "metadata": {
    "vscode": {
     "languageId": "java"
    }
   },
   "outputs": [
    {
     "name": "stdout",
     "output_type": "stream",
     "text": [
      "Ok boomer\n"
     ]
    }
   ],
   "source": [
    "public class Main{\n",
    "    public static void main (String[]args){\n",
    "\n",
    "        int age = 75; //false\n",
    "        \n",
    "        //if(condition)\n",
    "        if(age>= 75){\n",
    "            System.out.println(\"Ok boomer\");\n",
    "        }\n",
    "        else if(age >= 18){\n",
    "            System.out.println(\"you are an adult\");\n",
    "        }\n",
    "        else if(age >= 13){\n",
    "            System.out.println(\"you are a teenager\")\n",
    "        }\n",
    "        else{\n",
    "            System.out.println(\"you are not an adult\");\n",
    "        }\n",
    "    }\n",
    "}\n",
    "Main.main(new String[]{});"
   ]
  }
 ],
 "metadata": {
  "kernelspec": {
   "display_name": "Java",
   "language": "java",
   "name": "java"
  },
  "language_info": {
   "codemirror_mode": "java",
   "file_extension": ".jshell",
   "mimetype": "text/x-java-source",
   "name": "Java",
   "pygments_lexer": "java",
   "version": "11.0.1+13-LTS"
  }
 },
 "nbformat": 4,
 "nbformat_minor": 2
}
