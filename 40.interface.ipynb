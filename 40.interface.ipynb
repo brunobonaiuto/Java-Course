{
 "cells": [
  {
   "cell_type": "markdown",
   "metadata": {},
   "source": [
    "### Interface\n",
    "* A template that can be applied to a class.\n",
    "* Similar to inheritance, but specifies what the class has/must do.\n",
    "* Classes can apply more than one interface, inheritance is limited ot 1 super"
   ]
  },
  {
   "cell_type": "markdown",
   "metadata": {},
   "source": [
    "`Implements` can be used for more than one interface"
   ]
  },
  {
   "cell_type": "code",
   "execution_count": 1,
   "metadata": {},
   "outputs": [
    {
     "name": "stdout",
     "output_type": "stream",
     "text": [
      "*The fish is hunting*\n",
      "*The fish is fleeing*\n"
     ]
    }
   ],
   "source": [
    "//INTERFACES\n",
    "public interface Prey { //prey means \"presa\" in spanish\n",
    "\tvoid flee();\n",
    "}\n",
    "//\n",
    "public interface Predator {\n",
    "\tvoid hunt();\n",
    "}\n",
    "//CLASSES\n",
    "//-----------------------------\n",
    "public class Rabbit implements Prey{\n",
    "\t@Override\n",
    "\tpublic void flee() {\n",
    "\t\tSystem.out.println(\"*The rabbit is fleeing*\");\n",
    "        }\n",
    "}\n",
    "//\n",
    "public class Hawk implements Predator{\n",
    "\t@Override\n",
    "\tpublic void hunt() {\n",
    "\t\tSystem.out.println(\"*The hawk is hunting*\");\n",
    "        }\n",
    "}\n",
    "//\n",
    "public class Fish implements Prey,Predator{\n",
    "\t@Override\n",
    "\tpublic void hunt() {\n",
    "\t\tSystem.out.println(\"*The fish is hunting*\");\n",
    "\t}\n",
    "\n",
    "\t@Override\n",
    "\tpublic void flee() {\n",
    "\t\tSystem.out.println(\"*The fish is fleeing*\");\n",
    "\t}\n",
    "}\n",
    "\n",
    "//********************************************\n",
    "public class Main {\n",
    "\tpublic static void main(String[] args) {\n",
    "        //other calls for rabbit and hawk were skipped\n",
    "\n",
    "\t\tFish fish = new Fish();\n",
    "\t\t\n",
    "\t\tfish.hunt();\n",
    "\t\tfish.flee();\n",
    "\t\t\t\t\n",
    "\t}\n",
    "}\n",
    "\n",
    "Main.main(new String[]{});"
   ]
  }
 ],
 "metadata": {
  "kernelspec": {
   "display_name": "Java",
   "language": "java",
   "name": "java"
  },
  "language_info": {
   "codemirror_mode": "java",
   "file_extension": ".jshell",
   "mimetype": "text/x-java-source",
   "name": "java",
   "pygments_lexer": "java",
   "version": "21.0.3+9-LTS"
  }
 },
 "nbformat": 4,
 "nbformat_minor": 2
}
