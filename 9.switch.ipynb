{
 "cells": [
  {
   "cell_type": "markdown",
   "metadata": {},
   "source": [
    "### Switch\n",
    "* switch, is a statement that allows a variable to be tested for equality agains a list of values"
   ]
  },
  {
   "cell_type": "code",
   "execution_count": 2,
   "metadata": {},
   "outputs": [
    {
     "name": "stdout",
     "output_type": "stream",
     "text": [
      "Its Friday\n"
     ]
    }
   ],
   "source": [
    "public class Main{\n",
    "    public static void main (String[]args){\n",
    "        String day = \"Friday\";\n",
    "\n",
    "        //variable to test for equality\n",
    "        switch(day){\n",
    "            // It's going to evaluate ONE-BY-ONE\n",
    "            case \"Monday\": System.out.println(\"Its Monday\");\n",
    "            break;\n",
    "            case \"Tuesday\": System.out.println(\"Its Tuesday\");\n",
    "            break;\n",
    "            case \"Wednesday\": System.out.println(\"Its Wednesday\");\n",
    "            break;\n",
    "            case \"Thursday\": System.out.println(\"Its Thursday\");\n",
    "            break;\n",
    "            case \"Friday\": System.out.println(\"Its Friday\");\n",
    "            break;\n",
    "            case \"Saturday\": System.out.println(\"Its Saturday\");\n",
    "            break;\n",
    "            case \"Sunday\": System.out.println(\"Its sunday\");\n",
    "            break;       \n",
    "        }\n",
    "    }\n",
    "}\n",
    "Main.main(new String[]{});"
   ]
  },
  {
   "cell_type": "markdown",
   "metadata": {},
   "source": [
    "* If I dont have the breaks"
   ]
  },
  {
   "cell_type": "code",
   "execution_count": 3,
   "metadata": {},
   "outputs": [
    {
     "name": "stdout",
     "output_type": "stream",
     "text": [
      "Its Friday\n",
      "Its Saturday\n",
      "Its sunday\n"
     ]
    }
   ],
   "source": [
    "public class Main{\n",
    "    public static void main (String[]args){\n",
    "        String day = \"Friday\";\n",
    "\n",
    "        //variable to test for equality\n",
    "        switch(day){\n",
    "            // It's going to evaluate ONE-BY-ONE\n",
    "            case \"Monday\": System.out.println(\"Its Monday\");\n",
    "            case \"Tuesday\": System.out.println(\"Its Tuesday\");\n",
    "            case \"Wednesday\": System.out.println(\"Its Wednesday\");\n",
    "            case \"Thursday\": System.out.println(\"Its Thursday\");\n",
    "            case \"Friday\": System.out.println(\"Its Friday\");\n",
    "            case \"Saturday\": System.out.println(\"Its Saturday\");\n",
    "            case \"Sunday\": System.out.println(\"Its sunday\");       \n",
    "        }\n",
    "    }\n",
    "}\n",
    "Main.main(new String[]{});"
   ]
  },
  {
   "cell_type": "markdown",
   "metadata": {},
   "source": [
    "* If there is no match: it does nothing, because I dont have a defaul statement"
   ]
  },
  {
   "cell_type": "code",
   "execution_count": 4,
   "metadata": {},
   "outputs": [],
   "source": [
    "public class Main{\n",
    "    public static void main (String[]args){\n",
    "        String day = \"pizza\";\n",
    "\n",
    "        //variable to test for equality\n",
    "        switch(day){\n",
    "            // It's going to evaluate ONE-BY-ONE\n",
    "            case \"Monday\": System.out.println(\"Its Monday\");\n",
    "            break;\n",
    "            case \"Tuesday\": System.out.println(\"Its Tuesday\");\n",
    "            break;\n",
    "            case \"Wednesday\": System.out.println(\"Its Wednesday\");\n",
    "            break;\n",
    "            case \"Thursday\": System.out.println(\"Its Thursday\");\n",
    "            break;\n",
    "            case \"Friday\": System.out.println(\"Its Friday\");\n",
    "            break;\n",
    "            case \"Saturday\": System.out.println(\"Its Saturday\");\n",
    "            break;\n",
    "            case \"Sunday\": System.out.println(\"Its sunday\");\n",
    "            break;            \n",
    "        }\n",
    "    }\n",
    "}\n",
    "Main.main(new String[]{});"
   ]
  },
  {
   "cell_type": "markdown",
   "metadata": {},
   "source": [
    "* adding the default "
   ]
  },
  {
   "cell_type": "code",
   "execution_count": 6,
   "metadata": {},
   "outputs": [
    {
     "name": "stdout",
     "output_type": "stream",
     "text": [
      "pizza is not a day\n"
     ]
    }
   ],
   "source": [
    "public class Main{\n",
    "    public static void main (String[]args){\n",
    "        String day = \"pizza\";\n",
    "\n",
    "        //variable to test for equality\n",
    "        switch(day){\n",
    "            // It's going to evaluate ONE-BY-ONE\n",
    "            case \"Monday\": System.out.println(\"Its Monday\");\n",
    "            break;\n",
    "            case \"Tuesday\": System.out.println(\"Its Tuesday\");\n",
    "            break;\n",
    "            case \"Wednesday\": System.out.println(\"Its Wednesday\");\n",
    "            break;\n",
    "            case \"Thursday\": System.out.println(\"Its Thursday\");\n",
    "            break;\n",
    "            case \"Friday\": System.out.println(\"Its Friday\");\n",
    "            break;\n",
    "            case \"Saturday\": System.out.println(\"Its Saturday\");\n",
    "            break;\n",
    "            case \"Sunday\": System.out.println(\"Its sunday\");\n",
    "            break;\n",
    "            default: System.out.println(day+ \" is not a day\");         \n",
    "        }\n",
    "    }\n",
    "}\n",
    "Main.main(new String[]{});"
   ]
  }
 ],
 "metadata": {
  "kernelspec": {
   "display_name": "Java",
   "language": "java",
   "name": "java"
  },
  "language_info": {
   "codemirror_mode": "java",
   "file_extension": ".jshell",
   "mimetype": "text/x-java-source",
   "name": "java",
   "pygments_lexer": "java",
   "version": "11.0.21+9-post-Ubuntu-0ubuntu122.04"
  }
 },
 "nbformat": 4,
 "nbformat_minor": 2
}
