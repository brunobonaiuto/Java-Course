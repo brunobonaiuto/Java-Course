{
 "cells": [
  {
   "cell_type": "markdown",
   "metadata": {},
   "source": [
    "### logical operators\n",
    "* used to connect two or more expressions\n",
    "    * `&&` = (AND) both conditions must be true\n",
    "    * `||` = (OR) either condition must be true\n",
    "    * `!` = (NOT) reverse boolean value of condition"
   ]
  },
  {
   "cell_type": "code",
   "execution_count": 5,
   "metadata": {
    "vscode": {
     "languageId": "java"
    }
   },
   "outputs": [
    {
     "name": "stdout",
     "output_type": "stream",
     "text": [
      "Its hot outside\n"
     ]
    }
   ],
   "source": [
    "public class Main{\n",
    "    public static void main (String[]args){\n",
    "        \n",
    "        int temperature = 31;\n",
    "\n",
    "        if(temperature>30){\n",
    "            System.out.println(\"Its hot outside\");\n",
    "        //using the `&&`\n",
    "        }else if(temperature >= 20 && temperature<= 30){\n",
    "            //between that range\n",
    "            System.out.println(\"Its warm outside\");\n",
    "        }else{\n",
    "            System.out.println(\"Its cold outside\");\n",
    "        }\n",
    "    }\n",
    "}\n",
    "Main.main(new String[]{});"
   ]
  },
  {
   "cell_type": "markdown",
   "metadata": {},
   "source": [
    "* scanner.next will store only frist toke\n",
    "    * i.e. `bruno bonaiuto` --> the first token is just `bruno`"
   ]
  },
  {
   "cell_type": "code",
   "execution_count": 9,
   "metadata": {
    "vscode": {
     "languageId": "java"
    }
   },
   "outputs": [
    {
     "name": "stdout",
     "output_type": "stream",
     "text": [
      "you are playing a game, press q or Q to quit\n",
      "you are still playing the game \n"
     ]
    }
   ],
   "source": [
    "import java.util.Scanner;\n",
    "\n",
    "public class Main{\n",
    "    public static void main (String[]args){\n",
    "        //create a scanner object\n",
    "        Scanner scanner = new Scanner(System.in);\n",
    "\n",
    "        System.out.println(\"you are playing a game, press q or Q to quit\");\n",
    "        //store response (only the frist token)\n",
    "        String response = scanner.next();\n",
    "\n",
    "        if(response.equals(\"q\")||response.equals(\"Q\")){\n",
    "            System.out.println(\"you quit the game\");\n",
    "        } else{\n",
    "            System.out.println(\"you are still playing the game \");\n",
    "        }\n",
    "    }\n",
    "}\n",
    "Main.main(new String[]{});"
   ]
  },
  {
   "cell_type": "markdown",
   "metadata": {},
   "source": [
    "* using the NOT logical operator `!` \n",
    "    * it will reverse the boolean value that evalues"
   ]
  },
  {
   "cell_type": "code",
   "execution_count": 16,
   "metadata": {
    "vscode": {
     "languageId": "java"
    }
   },
   "outputs": [
    {
     "name": "stdout",
     "output_type": "stream",
     "text": [
      "you are playing a game, press q or Q to quit\n"
     ]
    },
    {
     "name": "stdout",
     "output_type": "stream",
     "text": [
      "you quit the game\n"
     ]
    }
   ],
   "source": [
    "import java.util.Scanner;\n",
    "\n",
    "public class Main{\n",
    "    public static void main (String[]args){\n",
    "        //create a scanner object\n",
    "        Scanner scanner = new Scanner(System.in);\n",
    "\n",
    "        System.out.println(\"you are playing a game, press q or Q to quit\");\n",
    "        //store response (only the frist token)\n",
    "        String response = scanner.next();\n",
    "        //if responde is not equal to q-Q\n",
    "        if(!response.equals(\"q\") && !response.equals(\"Q\")){\n",
    "            System.out.println(\"you are still playing the game \");\n",
    "        } else{\n",
    "            System.out.println(\"you quit the game\");\n",
    "        }\n",
    "    }\n",
    "}\n",
    "Main.main(new String[]{});"
   ]
  }
 ],
 "metadata": {
  "kernelspec": {
   "display_name": "Java",
   "language": "java",
   "name": "java"
  },
  "language_info": {
   "codemirror_mode": "java",
   "file_extension": ".jshell",
   "mimetype": "text/x-java-source",
   "name": "Java",
   "pygments_lexer": "java",
   "version": "11.0.1+13-LTS"
  }
 },
 "nbformat": 4,
 "nbformat_minor": 2
}
