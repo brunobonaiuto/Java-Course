{
 "cells": [
  {
   "cell_type": "markdown",
   "metadata": {},
   "source": [
    "###  for-each loop\n",
    "* is a traversing technique to iterate through the elements in a array/location\n",
    "    * less steps, more readable\n",
    "    * less flexible\n",
    "    * the `:` means \"in\" like in python\n",
    "```java\n",
    "for (String i : animals)\n",
    "```"
   ]
  },
  {
   "cell_type": "code",
   "execution_count": 1,
   "metadata": {},
   "outputs": [
    {
     "name": "stdout",
     "output_type": "stream",
     "text": [
      "cat\n",
      "dog\n",
      "rat\n",
      "bird\n"
     ]
    }
   ],
   "source": [
    "public class Main {\n",
    "    public static void main(String[] args){\n",
    "        //create an array of animals\n",
    "        String[] animals = {\"cat\",\"dog\",\"rat\",\"bird\"};\n",
    "\n",
    "        //iterate using a for each\n",
    "        //for (for every String index in array animals)\n",
    "        // the `:` means in\n",
    "        for(String i: animals){\n",
    "            System.out.println(i);\n",
    "        }\n",
    "    }\n",
    "}\n",
    "Main.main(new String[]{});"
   ]
  },
  {
   "cell_type": "markdown",
   "metadata": {},
   "source": [
    "* let's try the for-each using collections (ie. ArrayList)"
   ]
  },
  {
   "cell_type": "code",
   "execution_count": 3,
   "metadata": {},
   "outputs": [
    {
     "name": "stdout",
     "output_type": "stream",
     "text": [
      "cat\n",
      "dog\n",
      "rat\n",
      "bird\n"
     ]
    }
   ],
   "source": [
    "import java.util.*;\n",
    "public class Main {\n",
    "    public static void main(String[] args){\n",
    "        //ArrayList is a collection\n",
    "        ArrayList<String> animals = new ArrayList<String>();\n",
    "\n",
    "        animals.add(\"cat\");\n",
    "        animals.add(\"dog\");\n",
    "        animals.add(\"rat\");\n",
    "        animals.add(\"bird\");\n",
    "        //iterate using a for each\n",
    "        //for (for every String index in array animals)\n",
    "        // the `:` means in\n",
    "        for(String i: animals){\n",
    "            System.out.println(i);\n",
    "        }\n",
    "    }\n",
    "}\n",
    "Main.main(new String[]{});"
   ]
  }
 ],
 "metadata": {
  "kernelspec": {
   "display_name": "Java",
   "language": "java",
   "name": "java"
  },
  "language_info": {
   "codemirror_mode": "java",
   "file_extension": ".jshell",
   "mimetype": "text/x-java-source",
   "name": "java",
   "pygments_lexer": "java",
   "version": "11.0.1+13-LTS"
  }
 },
 "nbformat": 4,
 "nbformat_minor": 2
}
