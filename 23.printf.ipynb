{
 "cells": [
  {
   "cell_type": "markdown",
   "metadata": {},
   "source": [
    "### printf()\n",
    "* an optional method to control, format, and display text to the console window\n",
    "    * two arguments = format string + (object/variable/value)\n",
    "    * % [flags] [precision] [width] [conversion-character]\n",
    "    "
   ]
  },
  {
   "cell_type": "code",
   "execution_count": 1,
   "metadata": {
    "vscode": {
     "languageId": "java"
    }
   },
   "outputs": [
    {
     "name": "stdout",
     "output_type": "stream",
     "text": [
      "123 is a format string"
     ]
    }
   ],
   "source": [
    "public class Main {\n",
    "    public static void main(String[]args){\n",
    "        System.out.printf(\"%d is a format string\",123);\n",
    "    }\n",
    "}\n",
    "Main.main(new String[]{});"
   ]
  },
  {
   "cell_type": "code",
   "execution_count": 2,
   "metadata": {
    "vscode": {
     "languageId": "java"
    }
   },
   "outputs": [
    {
     "name": "stdout",
     "output_type": "stream",
     "text": [
      "hello      Bruno\n",
      "hello Bruno     \n",
      "you have this much money 1000.00\n",
      "you have this much money -1000.000000        \n",
      "you have this much money         -1000.000000\n",
      "you have this much money -1000.000000\n",
      "you have this much money -000000001000.000000\n",
      "you have this much money -1,000.000000"
     ]
    }
   ],
   "source": [
    "public class Main {\n",
    "    public static void main(String[]args){\n",
    "    \n",
    "        boolean myBoolean = true;\n",
    "        char myChar = '@';\n",
    "        String myString = \"Bruno\";\n",
    "        int myInt = 50;\n",
    "        double myDouble = 1000;\n",
    "\n",
    "        // [Conversion-character]\n",
    "        // System.out.printf(\"%b\\n\", myBoolean);\n",
    "        // System.out.printf(\"%c\\n\", myChar);\n",
    "        // System.out.printf(\"%s\\n\", myString);\n",
    "        // // %d for int\n",
    "        // System.out.printf(\"%d\\n\", myInt); //d means decimal\n",
    "        // // %f for double and float\n",
    "        // System.out.printf(\"%f\", myDouble); //f for floats and doubles\n",
    "\n",
    "\n",
    "        //[width] --> anchura\n",
    "        // minimun number of characters to be written as output\n",
    "        System.out.printf(\"hello %10s\\n\", myString);\n",
    "            //returns `hello           bruno`\n",
    "        System.out.printf(\"hello %-10s\\n\", myString);\n",
    "            //returns `hello bruno          `\n",
    "        \n",
    "        //[precision]\n",
    "        // to limit the amount of digits after the decimal number\n",
    "        System.out.printf(\"you have this much money %.2f\", myDouble);\n",
    "        \n",
    "        //[flags]\n",
    "        double myDouble2 = -1000;\n",
    "        System.out.printf(\"\\nyou have this much money %-20f\", myDouble2);\n",
    "        System.out.printf(\"\\nyou have this much money %20f\", myDouble2);\n",
    "        System.out.printf(\"\\nyou have this much money %+f\", myDouble2);\n",
    "        System.out.printf(\"\\nyou have this much money %020f\", myDouble2);\n",
    "        System.out.printf(\"\\nyou have this much money %,f\", myDouble2);\n",
    "    }\n",
    "}\n",
    "Main.main(new String[]{});"
   ]
  }
 ],
 "metadata": {
  "kernelspec": {
   "display_name": "Java",
   "language": "java",
   "name": "java"
  },
  "language_info": {
   "codemirror_mode": "java",
   "file_extension": ".jshell",
   "mimetype": "text/x-java-source",
   "name": "Java",
   "pygments_lexer": "java",
   "version": "11.0.1+13-LTS"
  }
 },
 "nbformat": 4,
 "nbformat_minor": 2
}
