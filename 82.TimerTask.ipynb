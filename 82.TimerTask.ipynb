{
 "cells": [
  {
   "cell_type": "markdown",
   "metadata": {},
   "source": [
    "### Timer Taks\n",
    "* Timer: Is a facility for threads to schedule tasks for future execution in a background thread\n",
    "    * In other words: it keeps track of the time in a background thread\n",
    "* TimerTask : Is a task that can be scheduled for one-time or repeated execution by a Timer\n",
    "    * In other words: when the timer reaches a certain time, it will execute either once or multiples times"
   ]
  },
  {
   "cell_type": "code",
   "execution_count": 8,
   "metadata": {},
   "outputs": [
    {
     "name": "stdout",
     "output_type": "stream",
     "text": [
      "Task is completed\n"
     ]
    }
   ],
   "source": [
    "import java.util.Calendar;\n",
    "import java.util.Timer;\n",
    "import java.util.TimerTask;\n",
    "\n",
    "public class Main {\n",
    "\tpublic static void main(String[] args) {\n",
    "\t\tTimer timer = new Timer();\n",
    "\t\t\n",
    "        //Anonymous Inner Class --> this will add unimplemented methods in this case the run method\n",
    "        TimerTask task = new TimerTask() {\n",
    "\t\t\t\n",
    "\t\t\tint counter = 10;\n",
    "            //When timer reaches at certain point, it will execute the run method\n",
    "\t\t\t@Override\n",
    "\t\t\tpublic void run() {\n",
    "\t\t\t\tSystem.out.println(\"Task is completed\");\n",
    "\t\t\t}\t\t\n",
    "\t\t};\n",
    "\t\t//we need to link the timer with the task, we can use the schedule method\n",
    "\t\t\n",
    "        timer.schedule(task, 0); //execute the task immediately\n",
    "        //timer.schedule(task, 3000); //delay the task for 3 seconds, we cannot see it because we are in jupyter \n",
    "\n",
    "\t}\n",
    "\n",
    "}\n",
    "Main.main(new String[]{});"
   ]
  },
  {
   "cell_type": "code",
   "execution_count": 13,
   "metadata": {},
   "outputs": [
    {
     "name": "stdout",
     "output_type": "stream",
     "text": [
      "9 seconds\n",
      "8 seconds\n",
      "10 seconds\n"
     ]
    },
    {
     "name": "stdout",
     "output_type": "stream",
     "text": [
      "7 seconds\n"
     ]
    }
   ],
   "source": [
    "import java.util.Calendar;\n",
    "import java.util.Timer;\n",
    "import java.util.TimerTask;\n",
    "\n",
    "public class Main {\n",
    "\tpublic static void main(String[] args) {\n",
    "\t\tTimer timer = new Timer();\n",
    "\t\t\n",
    "        //Anonymous Inner Class --> this will add unimplemented methods in this case the run method\n",
    "        TimerTask task = new TimerTask() {\n",
    "\t\t\t\n",
    "\t\t\tint counter = 10;\n",
    "            //When timer reaches at certain point, it will execute the run method\n",
    "\t\t\t@Override\n",
    "\t\t\tpublic void run() {\n",
    "\t\t\t\tif(counter>0) {\n",
    "\t\t\t\t\tSystem.out.println(counter+\" seconds\");\n",
    "\t\t\t\t\tcounter--;\n",
    "\t\t\t\t}\n",
    "\t\t\t\telse {\n",
    "\t\t\t\t\tSystem.out.println(\"HAPPY NEW YEAR!\");\n",
    "\t\t\t\t\ttimer.cancel();\n",
    "\t\t\t\t}\n",
    "\t\t\t}\t\t\n",
    "\t\t};\n",
    "\t\t\n",
    "        //we can specify a day in the future instead of a delay in seconds\n",
    "\t\tCalendar date = Calendar.getInstance();\n",
    "\n",
    "        //we gonna specify the date the exact time we want to execute the task\n",
    "\t\tdate.set(Calendar.YEAR,2024);\n",
    "\t\tdate.set(Calendar.MONTH,Calendar.OCTOBER);\n",
    "\t\tdate.set(Calendar.DAY_OF_MONTH,19);\n",
    "\t\tdate.set(Calendar.HOUR_OF_DAY,20);\n",
    "\t\tdate.set(Calendar.MINUTE,47);\n",
    "\t\tdate.set(Calendar.SECOND,04);\n",
    "\t\tdate.set(Calendar.MILLISECOND,0);\n",
    "\t\t\n",
    "\t\t//timer.schedule(task, 0);\n",
    "\t\t//timer.scheduleAtFixedRate(task, 0, 1000);\n",
    "\n",
    "        //the exact time we want to execute the task\n",
    "\t\t//timer.schedule(task, date.getTime());\n",
    "\n",
    "        //we want to execute the task every second\n",
    "\t\ttimer.scheduleAtFixedRate(task, date.getTime(), 1000);\n",
    "\t}\n",
    "}\n",
    "\n",
    "Main.main(new String[]{});"
   ]
  }
 ],
 "metadata": {
  "kernelspec": {
   "display_name": "Java",
   "language": "java",
   "name": "java"
  },
  "language_info": {
   "codemirror_mode": "java",
   "file_extension": ".jshell",
   "mimetype": "text/x-java-source",
   "name": "java",
   "pygments_lexer": "java",
   "version": "21.0.2+13-LTS-58"
  }
 },
 "nbformat": 4,
 "nbformat_minor": 2
}
