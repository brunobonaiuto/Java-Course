{
 "cells": [
  {
   "cell_type": "markdown",
   "metadata": {},
   "source": [
    "### Multithreading\n",
    "* Is the process of executing multiple threads simultaneously\n",
    "* It also helps to maximice the utilization of CPU\n",
    "* Threads are indipendent, so they don't affect the execution of other threads\n",
    "* An exception in one thread will not interrupt other threads\n",
    "* Useful for serving multiple clients, multiplayer games, or other mutually independent tasks"
   ]
  },
  {
   "cell_type": "markdown",
   "metadata": {},
   "source": [
    "* we can create a thread `extending Thread` or `implementing Runnable`\n",
    "* note: If a thread catch an expection, the JVM will not exit until if there is at least one `user` thread running\n",
    "    * In other words, if we have a `daemon` thread that fails and there is not `user` thread running, the JVM will exit the program without waiting for the daemon thread to finish (because daemon thread is low priority)"
   ]
  },
  {
   "cell_type": "code",
   "execution_count": 2,
   "metadata": {
    "vscode": {
     "languageId": "java"
    }
   },
   "outputs": [
    {
     "name": "stdout",
     "output_type": "stream",
     "text": [
      "Thread #1 : 10\n",
      "Thread #1 : 9\n",
      "Thread #1 : 8\n",
      "Thread #1 : 7\n",
      "Thread #1 : 6\n",
      "Thread #1 : 5\n",
      "Thread #1 : 4\n",
      "Thread #1 : 3\n",
      "Thread #1 : 2\n",
      "Thread #1 : 1\n",
      "Thread #1 is finished :)\n",
      "Thread #2 : 0\n"
     ]
    }
   ],
   "source": [
    "//*****************************************************\n",
    "public class MyThread extends Thread{\n",
    "\n",
    "\t@Override\n",
    "\tpublic void run() {\n",
    "\t\t\n",
    "\t\tfor(int i =10;i>0;i--) {\n",
    "\t\t\tSystem.out.println(\"Thread #1 : \"+i);\n",
    "\t\t\ttry {\n",
    "\t\t\t\tThread.sleep(1000);\n",
    "\t\t\t} catch (InterruptedException e) {\n",
    "\t\t\t\te.printStackTrace();\n",
    "\t\t\t}\n",
    "\t\t}\n",
    "\t\tSystem.out.println(\"Thread #1 is finished :)\");\n",
    "\t}\n",
    "}\n",
    "//*****************************************************\n",
    "public class MyRunnable implements Runnable{\n",
    "\n",
    "\t@Override\n",
    "\tpublic void run() {\n",
    "\t\tfor(int i =0;i<10;i++) {\n",
    "\t\t\tSystem.out.println(\"Thread #2 : \"+i);\n",
    "\t\t\ttry {\n",
    "\t\t\t\tThread.sleep(1000);\n",
    "\t\t\t} catch (InterruptedException e) {\n",
    "\t\t\t\te.printStackTrace();\n",
    "\t\t\t}\n",
    "\t\t}\n",
    "\t\tSystem.out.println(\"Thread #2 is finished :)\");\n",
    "\t}\n",
    "}\n",
    "//*****************************************************\n",
    "public class Main{\n",
    "  \n",
    "    public static void main(String[] args) throws InterruptedException{  \n",
    "\n",
    "    \t// we can create our thread object that extends Thread class\n",
    "    \tMyThread thread1 = new MyThread();\n",
    "    \t\n",
    "\t\t//-------------------- or we can also: -------------------------------------  \n",
    "\n",
    "    \t//we can create our Runnable object(a thread is a runnable) that implement Runnable interface \n",
    "    \tMyRunnable runnable1 = new MyRunnable();\n",
    "\t\t//we gonna create another thread object that takes our runnable object as a parameter\n",
    "    \tThread thread2 = new Thread(runnable1);\n",
    "    \t\n",
    "\t\t//The two threads are gonna be running at the same time\n",
    "\t\tthread1.start();\n",
    "\n",
    "\t\t//we are waiting for thread1 to die (finish) before starting thread2\n",
    "\t\tthread1.join();\n",
    "\t\t//thread1.join(3000) //waits until the specified thread dies or for x milliseconds\n",
    "\t\tthread2.start();\n",
    "\n",
    "\n",
    "\t\t//Java virtual machine will not wait for any deamon thread to finish, but it will wait for all the `user` threads to finish\n",
    "\n",
    "    \t//thread1.setDaemon(true);\n",
    "    \t//thread2.setDaemon(true);\n",
    "    } \n",
    "}\n",
    "\n",
    "Main.main(new String[]{});"
   ]
  }
 ],
 "metadata": {
  "kernelspec": {
   "display_name": "Java",
   "language": "java",
   "name": "java"
  },
  "language_info": {
   "codemirror_mode": "java",
   "file_extension": ".jshell",
   "mimetype": "text/x-java-source",
   "name": "Java",
   "pygments_lexer": "java",
   "version": "21.0.2+13-LTS-58"
  }
 },
 "nbformat": 4,
 "nbformat_minor": 2
}
