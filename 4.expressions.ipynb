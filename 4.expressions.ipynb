{
 "cells": [
  {
   "cell_type": "markdown",
   "metadata": {},
   "source": [
    "### Expressions\n",
    "* An expression =  operands & operators\n",
    "    * operands =  values, variables, number, quantity\n",
    "    * operators = `+ - * / %` arithmetic simbols\n"
   ]
  },
  {
   "cell_type": "code",
   "execution_count": 21,
   "metadata": {
    "vscode": {
     "languageId": "java"
    }
   },
   "outputs": [
    {
     "name": "stdout",
     "output_type": "stream",
     "text": [
      "3.0\n"
     ]
    }
   ],
   "source": [
    " public class Main {\n",
    "    public static void main (String[] args){\n",
    "\n",
    "        int friends = 10;\n",
    "        // to change the value use arithmetic expression = \n",
    "        friends = friends + 1;\n",
    "        \n",
    "        //short cut\n",
    "        //to increment\n",
    "        friends++;\n",
    "        //to decrement\n",
    "        friends--;\n",
    "\n",
    "        // friends = friends - 1;\n",
    "        // friends = friends * 2;\n",
    "        // friends = friends / 1;\n",
    "        // friends = friends % 3; remainder\n",
    "        // friends = friends % 2;\n",
    "\n",
    "        //div \n",
    "        // friends = friends / 3; //returns 3 instead of 3.33333\n",
    "        // //cast\n",
    "        double doubleFriends = friends / 3; //returns 3.0\n",
    "\n",
    "        System.out.println(doubleFriends);\n",
    "\n",
    "    }\n",
    "}\n",
    "Main.main(new String[]{});"
   ]
  }
 ],
 "metadata": {
  "kernelspec": {
   "display_name": "Java",
   "language": "java",
   "name": "java"
  },
  "language_info": {
   "codemirror_mode": "java",
   "file_extension": ".jshell",
   "mimetype": "text/x-java-source",
   "name": "Java",
   "pygments_lexer": "java",
   "version": "11.0.21+9-post-Ubuntu-0ubuntu122.04"
  }
 },
 "nbformat": 4,
 "nbformat_minor": 2
}
