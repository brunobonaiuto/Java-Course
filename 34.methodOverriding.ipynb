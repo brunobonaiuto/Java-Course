{
 "cells": [
  {
   "cell_type": "markdown",
   "metadata": {},
   "source": [
    "### Method Overriding\n",
    "* declaring a method in subclass, which is already present in parent class.\n",
    "* so that a child class can give its own implementation\n",
    "* Remember that overriding is not the same as calling the method\n",
    "    * Overriding is modificating the method, adding something extra\n",
    "    * `super.methodFromParent();` is calling the method instead"
   ]
  },
  {
   "cell_type": "code",
   "execution_count": 3,
   "metadata": {
    "vscode": {
     "languageId": "java"
    }
   },
   "outputs": [
    {
     "name": "stdout",
     "output_type": "stream",
     "text": [
      "The animal speaks\n",
      "The dog goes *bark*\n"
     ]
    }
   ],
   "source": [
    "public class Animal {\n",
    "\tvoid speak() {\n",
    "\t\tSystem.out.println(\"The animal speaks\");\n",
    "\t}\n",
    "}\n",
    "//*******************************************\n",
    "public class Dog extends Animal{\n",
    "    //overriding is own implementation of the speak method\n",
    "\t@Override\n",
    "\tvoid speak() {\n",
    "\t\tSystem.out.println(\"The dog goes *bark*\");\n",
    "\t}\n",
    "}\n",
    "//*******************************************\n",
    "public class Main {\n",
    "\tpublic static void main(String[] args) {\n",
    "\t\t\n",
    "\t\tAnimal animal = new Animal();\n",
    "        animal.speak();\n",
    "\n",
    "\t\tDog dog = new Dog();\n",
    "\t\tdog.speak();\n",
    "\t\t\t\t\n",
    "\t}\n",
    "}\n",
    "Main.main(new String[]{});"
   ]
  }
 ],
 "metadata": {
  "kernelspec": {
   "display_name": "Java",
   "language": "java",
   "name": "java"
  },
  "language_info": {
   "codemirror_mode": "java",
   "file_extension": ".jshell",
   "mimetype": "text/x-java-source",
   "name": "Java",
   "pygments_lexer": "java",
   "version": "11.0.21+9"
  }
 },
 "nbformat": 4,
 "nbformat_minor": 2
}
