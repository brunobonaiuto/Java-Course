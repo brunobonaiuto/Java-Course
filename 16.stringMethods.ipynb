{
 "cells": [
  {
   "cell_type": "markdown",
   "metadata": {},
   "source": [
    "### string methods\n",
    "* String is a reference data type that can store one or more characters\n",
    "    * A reference data types have access to useful methods"
   ]
  },
  {
   "cell_type": "code",
   "execution_count": 2,
   "metadata": {},
   "outputs": [
    {
     "name": "stdout",
     "output_type": "stream",
     "text": [
      "Bruno\n"
     ]
    }
   ],
   "source": [
    "public class Main {\n",
    "    public static void main (String[] args){\n",
    "        reference of type String\n",
    "        String name = \"Bruno\";\n",
    "\n",
    "        // boolean result =  name.equals(\"bruno\") //returns -> false\n",
    "        boolean result =  name.equalsIgnoreCase(\"Bruno\") //returns -> true\n",
    "        int result = name.length(); //returns -> 5\n",
    "        char result = name.charAt(0); //returns -> `B`\n",
    "        int result = name.indexOf('u'); //returns -> 2 \n",
    "        boolean result = name.isEmpty(); //returns -> false\n",
    "        String result = name.toUpperCase(); //returns -> BRUNO\n",
    "        String result = name.toLowerCase(); //returns -> bruno\n",
    "        \n",
    "        //to remove all empty space\n",
    "        String name2 = \"   Bruno    \";\n",
    "        String result = name2.trim(); //returns -> `Bruno`\n",
    "        // .replace(oldChar,newChar)\n",
    "        String result = name2.replace('o','iii'); //returns -> Bruniii\n",
    "\n",
    "        System.out.println(result);\n",
    "\n",
    "    }\n",
    "}\n",
    "Main.main(new String[]{});"
   ]
  }
 ],
 "metadata": {
  "kernelspec": {
   "display_name": "Java",
   "language": "java",
   "name": "java"
  },
  "language_info": {
   "codemirror_mode": "java",
   "file_extension": ".jshell",
   "mimetype": "text/x-java-source",
   "name": "java",
   "pygments_lexer": "java",
   "version": "11.0.1+13-LTS"
  }
 },
 "nbformat": 4,
 "nbformat_minor": 2
}
