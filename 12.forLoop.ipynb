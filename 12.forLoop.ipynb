{
 "cells": [
  {
   "cell_type": "markdown",
   "metadata": {},
   "source": [
    "### for loop\n",
    "* executes a block a limited amount of time\n",
    "* the while loop instead executes the block while condition is true (could continue infinitluy)"
   ]
  },
  {
   "cell_type": "code",
   "execution_count": 2,
   "metadata": {
    "vscode": {
     "languageId": "java"
    }
   },
   "outputs": [
    {
     "name": "stdout",
     "output_type": "stream",
     "text": [
      "0\n",
      "1\n",
      "2\n",
      "3\n",
      "4\n",
      "5\n",
      "6\n",
      "7\n",
      "8\n",
      "9\n",
      "10\n"
     ]
    }
   ],
   "source": [
    "public class Main{\n",
    "    public static void main (String[]args){\n",
    "        \n",
    "        for(int index = 0; index <= 10; index++){\n",
    "            //we are counting 0 \n",
    "            System.out.println(index);\n",
    "        }\n",
    "    }\n",
    "}\n",
    "Main.main(new String[]{});"
   ]
  },
  {
   "cell_type": "markdown",
   "metadata": {},
   "source": [
    "* reverse order (decrementing)"
   ]
  },
  {
   "cell_type": "code",
   "execution_count": 2,
   "metadata": {
    "vscode": {
     "languageId": "java"
    }
   },
   "outputs": [
    {
     "name": "stdout",
     "output_type": "stream",
     "text": [
      "10\n",
      "9\n",
      "8\n",
      "7\n",
      "6\n",
      "5\n",
      "4\n",
      "3\n",
      "2\n",
      "1\n",
      "0\n",
      "happy new year\n"
     ]
    }
   ],
   "source": [
    "public class Main{\n",
    "    public static void main (String[]args){\n",
    "        \n",
    "        for(int index = 10; index >= 0; index--){\n",
    "            System.out.println(index);\n",
    "        }\n",
    "        System.out.println(\"happy new year\");\n",
    "    }\n",
    "}\n",
    "Main.main(new String[]{});"
   ]
  },
  {
   "cell_type": "markdown",
   "metadata": {},
   "source": [
    "* decrementing by 2"
   ]
  },
  {
   "cell_type": "code",
   "execution_count": 3,
   "metadata": {
    "vscode": {
     "languageId": "java"
    }
   },
   "outputs": [
    {
     "name": "stdout",
     "output_type": "stream",
     "text": [
      "10\n",
      "8\n",
      "6\n",
      "4\n",
      "2\n",
      "0\n",
      "happy new year\n"
     ]
    }
   ],
   "source": [
    "public class Main{\n",
    "    public static void main (String[]args){\n",
    "        \n",
    "        for(int index = 10; index >= 0; index -= 2){\n",
    "            System.out.println(index);\n",
    "        }\n",
    "        System.out.println(\"happy new year\");\n",
    "    }\n",
    "}\n",
    "Main.main(new String[]{});"
   ]
  },
  {
   "cell_type": "markdown",
   "metadata": {},
   "source": [
    "* Optional"
   ]
  },
  {
   "cell_type": "code",
   "execution_count": 4,
   "metadata": {
    "vscode": {
     "languageId": "java"
    }
   },
   "outputs": [
    {
     "name": "stdout",
     "output_type": "stream",
     "text": [
      "10\n",
      "8\n",
      "6\n",
      "4\n",
      "2\n",
      "0\n",
      "happy new year\n"
     ]
    }
   ],
   "source": [
    "public class Main{\n",
    "    public static void main (String[]args){\n",
    "        \n",
    "        for(int index = 10; index >= 0;){\n",
    "            System.out.println(index);\n",
    "            // update can be here inside\n",
    "            index -= 2;\n",
    "        }\n",
    "        System.out.println(\"happy new year\");\n",
    "    }\n",
    "}\n",
    "Main.main(new String[]{});"
   ]
  }
 ],
 "metadata": {
  "kernelspec": {
   "display_name": "Java",
   "language": "java",
   "name": "java"
  },
  "language_info": {
   "codemirror_mode": "java",
   "file_extension": ".jshell",
   "mimetype": "text/x-java-source",
   "name": "Java",
   "pygments_lexer": "java",
   "version": "21.0.2+13-LTS-58"
  }
 },
 "nbformat": 4,
 "nbformat_minor": 2
}
