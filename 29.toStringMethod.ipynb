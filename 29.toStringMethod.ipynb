{
 "cells": [
  {
   "cell_type": "markdown",
   "metadata": {},
   "source": [
    "### toStringMethod\n",
    "* special method that all objects inherit, that rerturns a string that \"textually represents\" an object. \n",
    "* can be used both implictly and explicitly"
   ]
  },
  {
   "cell_type": "code",
   "execution_count": 1,
   "metadata": {
    "vscode": {
     "languageId": "java"
    }
   },
   "outputs": [
    {
     "name": "stdout",
     "output_type": "stream",
     "text": [
      "ford\n",
      "mustang\n",
      "red\n",
      "2021\n"
     ]
    }
   ],
   "source": [
    "//a class car\n",
    "public class Car {\n",
    "    //attributes\n",
    "    String make = \"ford\";\n",
    "    String model = \"mustang\";\n",
    "    String color =  \"red\";\n",
    "    int year = 2021;\n",
    "}\n",
    "\n",
    "//Main class\n",
    "public class Main{\n",
    "    public static void main(String[]args){\n",
    "        //display the car attributes\n",
    "        Car car  =  new Car();\n",
    "        System.out.println(car.make);\n",
    "        System.out.println(car.model);\n",
    "        System.out.println(car.color);\n",
    "        System.out.println(car.year);\n",
    "    }\n",
    "}\n",
    "Main.main(new String[]{});"
   ]
  },
  {
   "cell_type": "markdown",
   "metadata": {},
   "source": [
    "* but if I print the car object?"
   ]
  },
  {
   "cell_type": "code",
   "execution_count": 2,
   "metadata": {
    "vscode": {
     "languageId": "java"
    }
   },
   "outputs": [
    {
     "name": "stdout",
     "output_type": "stream",
     "text": [
      "REPL.$JShell$12$Car@2a37f58\n"
     ]
    }
   ],
   "source": [
    "//a class car\n",
    "public class Car {\n",
    "    //attributes\n",
    "    String make = \"ford\";\n",
    "    String model = \"mustang\";\n",
    "    String color =  \"red\";\n",
    "    int year = 2021;\n",
    "}\n",
    "\n",
    "//Main class\n",
    "public class Main{\n",
    "    public static void main(String[]args){\n",
    "        //display the car attributes\n",
    "        Car car  =  new Car();\n",
    "        System.out.println(car); //returns the address in memory\n",
    "    }\n",
    "}\n",
    "Main.main(new String[]{});"
   ]
  },
  {
   "cell_type": "markdown",
   "metadata": {},
   "source": [
    "* Use the toString() returns the same."
   ]
  },
  {
   "cell_type": "code",
   "execution_count": 3,
   "metadata": {
    "vscode": {
     "languageId": "java"
    }
   },
   "outputs": [
    {
     "name": "stdout",
     "output_type": "stream",
     "text": [
      "REPL.$JShell$12$Car@51233578\n"
     ]
    }
   ],
   "source": [
    "//a class car\n",
    "public class Car {\n",
    "    //attributes\n",
    "    String make = \"ford\";\n",
    "    String model = \"mustang\";\n",
    "    String color =  \"red\";\n",
    "    int year = 2021;\n",
    "}\n",
    "\n",
    "//Main class\n",
    "public class Main{\n",
    "    public static void main(String[]args){\n",
    "        //display the car attributes\n",
    "        Car car  =  new Car();\n",
    "        System.out.println(car.toString()); //returns the address in memory\n",
    "    }\n",
    "}\n",
    "Main.main(new String[]{});"
   ]
  },
  {
   "cell_type": "markdown",
   "metadata": {},
   "source": [
    "* What people do, is to overwrite the `toString()` and change it, to instead print a \"textual reprensetation\" of the object\n",
    "    * explicity"
   ]
  },
  {
   "cell_type": "code",
   "execution_count": 5,
   "metadata": {
    "vscode": {
     "languageId": "java"
    }
   },
   "outputs": [
    {
     "name": "stdout",
     "output_type": "stream",
     "text": [
      "ford\n",
      "mustang\n",
      "red\n",
      "2021\n"
     ]
    }
   ],
   "source": [
    "//a class car\n",
    "public class Car {\n",
    "    //attributes\n",
    "    String make = \"ford\";\n",
    "    String model = \"mustang\";\n",
    "    String color =  \"red\";\n",
    "    int year = 2021;\n",
    "\n",
    "    // public method, returns String\n",
    "    @Override\n",
    "    public String toString(){\n",
    "        // one way\n",
    "        String myString = make + \"\\n\" + model + \"\\n\" + color + \"\\n\" + year;\n",
    "        return myString;\n",
    "        // second way\n",
    "        // return make + \"\\n\" + model + \"\\n\" + color + \"\\n\" + year;\n",
    "    }\n",
    "}\n",
    "\n",
    "//Main class\n",
    "public class Main{\n",
    "    public static void main(String[]args){\n",
    "        //display the car attributes\n",
    "        Car car  =  new Car();\n",
    "        System.out.println(car.toString()); //returns the textual representation\n",
    "    }\n",
    "}\n",
    "Main.main(new String[]{});"
   ]
  },
  {
   "cell_type": "markdown",
   "metadata": {},
   "source": [
    "* Implicitly"
   ]
  },
  {
   "cell_type": "code",
   "execution_count": 8,
   "metadata": {
    "vscode": {
     "languageId": "java"
    }
   },
   "outputs": [
    {
     "name": "stdout",
     "output_type": "stream",
     "text": [
      "ford\n",
      "mustang\n",
      "red\n",
      "2021\n"
     ]
    }
   ],
   "source": [
    "public class Car {\n",
    "    //attributes\n",
    "    String make = \"ford\";\n",
    "    String model = \"mustang\";\n",
    "    String color =  \"red\";\n",
    "    int year = 2021;\n",
    "\n",
    "    // public method, returns String\n",
    "    @Override\n",
    "    public String toString(){\n",
    "        // one way\n",
    "        String myString = make + \"\\n\" + model + \"\\n\" + color + \"\\n\" + year;\n",
    "        return myString;\n",
    "    }\n",
    "}\n",
    "\n",
    "//Main class\n",
    "public class Main{\n",
    "    public static void main(String[]args){\n",
    "        //display the car attributes\n",
    "        Car car  =  new Car();\n",
    "        // one way\n",
    "        // System.out.println(car.toString()); // returns the textual representation\n",
    "        \n",
    "        // second way \n",
    "        System.out.println(car); // returns the same\n",
    "    }\n",
    "}\n",
    "Main.main(new String[]{});"
   ]
  }
 ],
 "metadata": {
  "kernelspec": {
   "display_name": "Java",
   "language": "java",
   "name": "java"
  },
  "language_info": {
   "codemirror_mode": "java",
   "file_extension": ".jshell",
   "mimetype": "text/x-java-source",
   "name": "Java",
   "pygments_lexer": "java",
   "version": "11.0.21+9-post-Ubuntu-0ubuntu122.04"
  }
 },
 "nbformat": 4,
 "nbformat_minor": 2
}
