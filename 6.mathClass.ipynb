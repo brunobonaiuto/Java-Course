{
 "cells": [
  {
   "cell_type": "markdown",
   "metadata": {},
   "source": [
    "### Math class"
   ]
  },
  {
   "cell_type": "code",
   "execution_count": 1,
   "metadata": {},
   "outputs": [
    {
     "name": "stdout",
     "output_type": "stream",
     "text": [
      "3.14\n",
      "-10.0\n",
      "10.0\n",
      "NaN\n",
      "3.0\n",
      "4.0\n",
      "3.0\n"
     ]
    }
   ],
   "source": [
    "public class Main{\n",
    "    public static void main (String[]args){\n",
    "\n",
    "        double x = 3.14;\n",
    "        double y = -10;\n",
    "\n",
    "        // max method\n",
    "        Math.max(x, y);\n",
    "        // or we can assig it to a var\n",
    "        double a = Math.max(x, y);\n",
    "        //print \n",
    "        System.out.println(a); // max\n",
    "\n",
    "        // mix method\n",
    "        Math.min(x, y);\n",
    "        // or we can assig it to a var\n",
    "        double b = Math.min(x, y);\n",
    "        //print \n",
    "        System.out.println(b); // min\n",
    "\n",
    "        //absolute value\n",
    "        double c = Math.abs(y);\n",
    "        //print \n",
    "        System.out.println(c); // abs\n",
    "\n",
    "        //square root \n",
    "        double d = Math.sqrt(y);\n",
    "        //print \n",
    "        System.out.println(d); // Nan\n",
    "\n",
    "        //round\n",
    "        double e = Math.round(x);\n",
    "        //print \n",
    "        System.out.println(e); // rounds\n",
    "\n",
    "        //ceil -- it rounds up\n",
    "        double f = Math.ceil(x);\n",
    "        //print \n",
    "        System.out.println(f); // rounds up\n",
    "\n",
    "        //floor -- it rounds down\n",
    "        double g = Math.round(x);\n",
    "        //print \n",
    "        System.out.println(g); // rounds down\n",
    "    }\n",
    "}\n",
    "Main.main(new String[]{});"
   ]
  },
  {
   "cell_type": "markdown",
   "metadata": {},
   "source": [
    "* find the Hipotenuse of a triangule"
   ]
  },
  {
   "cell_type": "code",
   "execution_count": 2,
   "metadata": {},
   "outputs": [
    {
     "name": "stdout",
     "output_type": "stream",
     "text": [
      "enter size x : enter size y : the Hipotenuse is 94.33981132056604\n"
     ]
    }
   ],
   "source": [
    "import java.util.Scanner;\n",
    "\n",
    "public class Main{\n",
    "    public static void main (String[]args){\n",
    "        double x;\n",
    "        double y;\n",
    "        double z; //the hipotenuse\n",
    "\n",
    "        Scanner scanner = new Scanner(System.in);\n",
    "\n",
    "        System.out.print(\"enter size x : \");\n",
    "        x = scanner.nextDouble();\n",
    "        System.out.print(\"enter size y : \");\n",
    "        y = scanner.nextDouble();\n",
    "        // hipotenuse is: sqrt(x^2 + y^2)\n",
    "        z = Math.sqrt((x*x)+(y*y));\n",
    "\n",
    "        System.out.println(\"the Hipotenuse is \" + z);\n",
    "\n",
    "        // good practice to close scanner\n",
    "        scanner.close();\n",
    "    }\n",
    "}\n",
    "\n",
    "Main.main(new String[]{});"
   ]
  }
 ],
 "metadata": {
  "kernelspec": {
   "display_name": "Java",
   "language": "java",
   "name": "java"
  },
  "language_info": {
   "codemirror_mode": "java",
   "file_extension": ".jshell",
   "mimetype": "text/x-java-source",
   "name": "java",
   "pygments_lexer": "java",
   "version": "11.0.21+9-post-Ubuntu-0ubuntu122.04"
  }
 },
 "nbformat": 4,
 "nbformat_minor": 2
}
