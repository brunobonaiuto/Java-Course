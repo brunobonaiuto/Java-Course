{
 "cells": [
  {
   "cell_type": "markdown",
   "metadata": {},
   "source": [
    "### Enum\n",
    "* Enum = means enumerated\n",
    "* like an ordered listing of items in a collection\n",
    "* Enums are listing of constants, but they behave like objects\n",
    "* A enum is a grouping of constanst that behave similarlly to objects"
   ]
  },
  {
   "cell_type": "code",
   "execution_count": 5,
   "metadata": {},
   "outputs": [
    {
     "name": "stdout",
     "output_type": "stream",
     "text": [
      "we can live here\n"
     ]
    }
   ],
   "source": [
    "//this is a class enum\n",
    "enum Planet{\n",
    "    //we can list some constants\n",
    "    MERCURY, VENUS, EARTH, MARS, JUPITER, STURN, URANUS, NEPTUNE, PLUTO;\n",
    "}\n",
    "\n",
    "public class Main{\n",
    "    public static void main(String[] args){\n",
    "        //Wrong way of instanciating enums\n",
    "        //Planet myPlanet = new Planet();\n",
    "\n",
    "        //rigth way \n",
    "        Planet myPlanet = Planet.EARTH;\n",
    "        //call the function and pass the planet as arg\n",
    "        canILiveHere(myPlanet);\n",
    "\n",
    "    }\n",
    "    static void canILiveHere(Planet myPlanet){\n",
    "        switch(myPlanet){\n",
    "            case EARTH:\n",
    "                System.out.println(\"we can live here\");\n",
    "                break;\n",
    "            default:\n",
    "                System.out.println(\"We CANNOTT live here\");\n",
    "                break;\n",
    "        }\n",
    "    }\n",
    "}\n",
    "Main.main(new String[]{});"
   ]
  },
  {
   "cell_type": "markdown",
   "metadata": {},
   "source": [
    "* We can associate a set of values for the constants, like using a constructor\n",
    "    * how far are the planets from the sun??? that is the value"
   ]
  },
  {
   "cell_type": "code",
   "execution_count": 6,
   "metadata": {},
   "outputs": [
    {
     "name": "stdout",
     "output_type": "stream",
     "text": [
      "We CANNOTT live here\n",
      "this is planet # 9\n"
     ]
    }
   ],
   "source": [
    "//this is a class enum\n",
    "enum Planet{\n",
    "    //we can list some constants\n",
    "    MERCURY(1), //for more values use: MERCURY(1,2,3,....,n values)\n",
    "    VENUS(2), \n",
    "    EARTH(3), \n",
    "    MARS(4), \n",
    "    JUPITER(5), \n",
    "    STURN(6), \n",
    "    URANUS(7), \n",
    "    NEPTUNE(8), \n",
    "    PLUTO(9);\n",
    "\n",
    "    //declare some variables\n",
    "    int number;\n",
    "\n",
    "    //create a constructor\n",
    "    Planet(int number){\n",
    "        this.number = number;\n",
    "    }\n",
    "}\n",
    "\n",
    "public class Main{\n",
    "    public static void main(String[] args){\n",
    "        //Wrong way of instanciating enums\n",
    "        //Planet myPlanet = new Planet();\n",
    "\n",
    "        //rigth way \n",
    "        Planet myPlanet = Planet.PLUTO;\n",
    "        //call the function and pass the planet as arg\n",
    "        canILiveHere(myPlanet);\n",
    "\n",
    "    }\n",
    "    static void canILiveHere(Planet myPlanet){\n",
    "        switch(myPlanet){\n",
    "            case EARTH:\n",
    "                System.out.println(\"we can live here\");\n",
    "                System.out.println(\"this is planet # \"+ myPlanet.number);\n",
    "                break;\n",
    "            default:\n",
    "                System.out.println(\"We CANNOTT live here\");\n",
    "                System.out.println(\"this is planet # \"+ myPlanet.number);\n",
    "                break;\n",
    "        }\n",
    "    }\n",
    "}\n",
    "Main.main(new String[]{});"
   ]
  }
 ],
 "metadata": {
  "kernelspec": {
   "display_name": "Java",
   "language": "java",
   "name": "java"
  },
  "language_info": {
   "codemirror_mode": "java",
   "file_extension": ".jshell",
   "mimetype": "text/x-java-source",
   "name": "java",
   "pygments_lexer": "java",
   "version": "11.0.21+9"
  }
 },
 "nbformat": 4,
 "nbformat_minor": 2
}
