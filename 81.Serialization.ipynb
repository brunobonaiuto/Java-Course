{
 "cells": [
  {
   "cell_type": "markdown",
   "metadata": {},
   "source": [
    "### Serialization\n",
    "* Is the process of converting an object into a byte stream.\n",
    "* The benefit of this is that the object persists, it saves the state the object after program exits\n",
    "* The file stream that we get can be save into a file or sent over the network (or to a different machine)\n",
    "* Byte stream can be saved as a file (.ser) which is platform independent\n",
    "* In other words: we can think of serialization like as we are saving a file with the object's information\n",
    "\n",
    "### Deserialization\n",
    "* Is the reverse process of converting a byte stream into an object\n",
    "    * Think of this as if you are loading a saved file"
   ]
  },
  {
   "cell_type": "markdown",
   "metadata": {},
   "source": [
    "* We gonna serialize the instance of the object User"
   ]
  },
  {
   "cell_type": "code",
   "execution_count": 5,
   "metadata": {
    "vscode": {
     "languageId": "java"
    }
   },
   "outputs": [
    {
     "name": "stdout",
     "output_type": "stream",
     "text": [
      "Object saved!\n"
     ]
    }
   ],
   "source": [
    "//Java Serialization\n",
    "import java.io.*;\n",
    "import java.io.Serializable;\n",
    "//----------------------------------------------------------------------------------------------\n",
    "public class User implements Serializable {\n",
    " \t\n",
    "\tString name;\n",
    "\tString password;\n",
    "   \n",
    "\tpublic void hello() {\n",
    "\t\tSystem.out.println(\"Welcome \"+name);\n",
    "\t}\n",
    "}\n",
    "\n",
    "//----------------------------------------------------------------------------------------------\n",
    "public class SerializeDemo {\n",
    "   public static void main(String [] args) {\t   \n",
    "\t   //\t\t\t\t\tSteps to Deserialize\n",
    "\t   //\t\t\t\t\t---------------------------------------------------------------\n",
    "\t   //\t\t\t\t\t1. Your class should implement Serializable interface\n",
    "\t   //\t\t\t\t\t2. add import java.io.Serializable;\n",
    "\t   //\t\t\t\t\t3. FileInputStream fileIn = new FileInputStream(file path);\n",
    "\t   //\t\t\t\t\t4. ObjectInputStream in = new ObjectInputStream(fileIn);\n",
    "\t   //\t\t\t\t\t5. objectNam = (Class) in.readObject();\n",
    "\t   //\t\t\t\t\t6. in.close(); fileIn.close();\n",
    "\t   //\t\t\t\t\t---------------------------------------------------------------\n",
    "\t   \n",
    "      User user = new User();\n",
    "      \n",
    "      user.name = \"Bruno\";\n",
    "      user.password = \"This is a serialized password\";\n",
    "      \n",
    "\t  //We use FileOutputStream to serialize, and FileInputStream to deserialize!!\n",
    "      try {\n",
    "         FileOutputStream fileOut = new FileOutputStream(\"C:\\\\Users\\\\bruno\\\\OneDrive\\\\Documents\\\\MEGA\\\\MEGA\\\\all_here\\\\courses\\\\freeCodeCamp\\\\Java programming\\\\Bro Code\\\\resources\\\\employee.ser\");\n",
    "         ObjectOutputStream out = new ObjectOutputStream(fileOut);\n",
    "         out.writeObject(user);\n",
    "         \n",
    "         out.close();\n",
    "         fileOut.close();\n",
    "         System.out.println(\"Object saved!\");\n",
    "      } catch (IOException i) {\n",
    "         i.printStackTrace();\n",
    "      }\n",
    "\n",
    "   }\n",
    "\n",
    "}\n",
    "SerializeDemo.main(new String[]{});"
   ]
  },
  {
   "cell_type": "markdown",
   "metadata": {},
   "source": [
    "* Let's deserialize the previous object User\n",
    "* we also need the class, to deserialize the object and save it in some object"
   ]
  },
  {
   "cell_type": "code",
   "execution_count": 6,
   "metadata": {
    "vscode": {
     "languageId": "java"
    }
   },
   "outputs": [
    {
     "name": "stdout",
     "output_type": "stream",
     "text": [
      "name: Bruno\n",
      "password: This is a serialized password\n",
      "Welcome Bruno\n"
     ]
    }
   ],
   "source": [
    "//Java Deserialization\n",
    "import java.io.*;\n",
    "import java.io.Serializable;\n",
    "//----------------------------------------------------------------------------------------------\n",
    "public class User implements Serializable {\n",
    " \t\n",
    "\tString name;\n",
    "\tString password;\n",
    "   \n",
    "\tpublic void hello() {\n",
    "\t\tSystem.out.println(\"Welcome \"+name);\n",
    "\t}\n",
    "}\n",
    "//----------------------------------------------------------------------------------------------\n",
    "public class Deserialize {\n",
    "   public static void main(String [] args) {\n",
    "\t   \n",
    "      User user = null;\n",
    "          \n",
    "\t  //FileInputStream to Deserialize\n",
    "      FileInputStream fileIn;\n",
    "\t\ttry {\n",
    "\t\t\tfileIn = new FileInputStream(\"C:\\\\Users\\\\bruno\\\\OneDrive\\\\Documents\\\\MEGA\\\\MEGA\\\\all_here\\\\courses\\\\freeCodeCamp\\\\Java programming\\\\Bro Code\\\\resources\\\\employee.ser\");\n",
    "\t         ObjectInputStream in = new ObjectInputStream(fileIn);\n",
    "\t\t\t //cast the object to the class\n",
    "\t         user = (User) in.readObject(); //converts from Object to UserObject\n",
    "\t         in.close();\n",
    "\t         fileIn.close();\n",
    "\t      \n",
    "\t\t} catch (FileNotFoundException e) {\n",
    "\t\t\t// TODO Auto-generated catch block\n",
    "\t\t\te.printStackTrace();\n",
    "\t\t} catch (IOException e) {\n",
    "\t\t\t// TODO Auto-generated catch block\n",
    "\t\t\te.printStackTrace();\n",
    "\t\t} catch (ClassNotFoundException e) {\n",
    "\t\t\t// TODO Auto-generated catch block\n",
    "\t\t\te.printStackTrace();\n",
    "\t\t}\n",
    "\t  //Prints the Fields from the Deserialized Object    \n",
    "      System.out.println(\"name: \" + user.name);\n",
    "      System.out.println(\"password: \" + user.password);\n",
    "\n",
    "      user.hello();\n",
    "      \n",
    "   }\n",
    "}\n",
    "Deserialize.main(new String[]{});"
   ]
  },
  {
   "cell_type": "markdown",
   "metadata": {},
   "source": [
    "-- -\n",
    "### Advanced Serialization\n",
    "* Any children of a serilizable class, will serialize also\n",
    "* any static field are not serialized (because they belong to the class and not to the individual object)\n",
    "* We need to cast when doing **Deserialization**\n",
    "* Any fields declared as \"transient\" are not going to be serialized, they will be ignored\n",
    "    * NOTE: The field to be `transient` should be declared for both, the class the serialize and the class that deserialize\n",
    "* serialVersionUID is a unique version ID for a class that is serializable    \n",
    "\n"
   ]
  },
  {
   "cell_type": "code",
   "execution_count": 12,
   "metadata": {
    "vscode": {
     "languageId": "java"
    }
   },
   "outputs": [
    {
     "name": "stdout",
     "output_type": "stream",
     "text": [
      "Object saved!\n",
      "serialVersionUID: 123\n"
     ]
    }
   ],
   "source": [
    "//Java Serialization\n",
    "import java.io.*;\n",
    "import java.io.Serializable;\n",
    "//----------------------------------------------------------------------------------------------\n",
    "public class User implements Serializable {\n",
    " \n",
    "\tprivate static final long serialVersionUID = 123;\n",
    "\t\n",
    "\tString name;\n",
    "\ttransient String password; //transient values are ignored during serialization\n",
    "   \n",
    "\tpublic void hello() {\n",
    "\t\tSystem.out.println(\"Welcome \"+name);\n",
    "\t}\n",
    "}\n",
    "\n",
    "//----------------------------------------------------------------------------------------------\n",
    "\n",
    "public class SerializeDemo {\n",
    "\n",
    "   public static void main(String [] args) {\t   \n",
    "  \n",
    "\t   // important notes\t1. Any children classes of a parent class that implements Serializable will do so as well\n",
    "\t   //\t\t\t\t\t2. static fields are not serialized (they belong to the class, not an individual object)\n",
    "\t   //\t\t\t\t\t3. Fields declared as \"transient\" aren't serialized, they're ignored\n",
    "\t   //\t\t\t\t\t4. the class's definition (\"class file\") itself is not recorded, cast it as the object type\n",
    "\t   //\t\t\t\t\t5. serialVersionUID is a unique version ID for a class that is serializable\n",
    "\t   \n",
    "\t   //SerialVersionUID =\tserialVersionUID is a unique ID that functions like a version number\n",
    "\t   //\t\t\t\t\tverifies that the sender and receiver of a serialized object,\n",
    "\t   //\t\t\t\t\thave loaded classes for that object match exactly\n",
    "\t   //\t\t\t\t\t* And it ensures object will be compatible between machines\n",
    "\t   //\t\t\t\t\tNumber must match. otherwise this will cause a InvalidClassException\n",
    "\t   //\t\t\t\t\tA SerialVersionUID will be calculated based on class properties, members, etc.\n",
    "\t   //\t\t\t\t\tA serializable class can declare its own serialVersionUID explicitly (recommended)\n",
    "\t   \n",
    "      User user = new User();\n",
    "      \n",
    "      user.name = \"Bruno\";\n",
    "      user.password = \"Password is transient\"; //transient values are ignored during serialization\n",
    "      \n",
    "      try {\n",
    "         FileOutputStream fileOut = new FileOutputStream(\"C:\\\\Users\\\\bruno\\\\OneDrive\\\\Documents\\\\MEGA\\\\MEGA\\\\all_here\\\\courses\\\\freeCodeCamp\\\\Java programming\\\\Bro Code\\\\resources\\\\employee2.ser\");\n",
    "         ObjectOutputStream out = new ObjectOutputStream(fileOut);\n",
    "         out.writeObject(user);\n",
    "         \n",
    "         out.close();\n",
    "         fileOut.close();\n",
    "         System.out.println(\"Object saved!\");\n",
    "      } catch (IOException i) {\n",
    "         i.printStackTrace();\n",
    "      }\n",
    "      \n",
    "      long serialVersionUID = ObjectStreamClass.lookup(user.getClass()).getSerialVersionUID();\n",
    "      System.out.println(\"serialVersionUID: \"+serialVersionUID);\n",
    "   }\n",
    "}\n",
    "\n",
    "SerializeDemo.main(new String[]{});"
   ]
  },
  {
   "cell_type": "code",
   "execution_count": 13,
   "metadata": {
    "vscode": {
     "languageId": "java"
    }
   },
   "outputs": [
    {
     "name": "stdout",
     "output_type": "stream",
     "text": [
      "serialVersionUID: 123\n",
      "name: Bruno\n",
      "password: null\n",
      "Welcome Bruno\n"
     ]
    }
   ],
   "source": [
    "//Java Deserialization\n",
    "import java.io.*;\n",
    "import java.io.Serializable;\n",
    "//----------------------------------------------------------------------------------------------\n",
    "public class User implements Serializable {\n",
    " \n",
    "\tprivate static final long serialVersionUID = 123;\n",
    "\t\n",
    "\tString name;\n",
    "\ttransient String password; //transient values are ignored during serialization\n",
    "   \n",
    "\tpublic void hello() {\n",
    "\t\tSystem.out.println(\"Welcome \"+name);\n",
    "\t}\n",
    "}\n",
    "//----------------------------------------------------------------------------------------------\n",
    "public class Deserialize {\n",
    "   public static void main(String [] args) {\n",
    "\t   \n",
    "      User user = null;\n",
    "          \n",
    "      FileInputStream fileIn;\n",
    "\t\ttry {\n",
    "\t\t\tfileIn = new FileInputStream(\"C:\\\\Users\\\\bruno\\\\OneDrive\\\\Documents\\\\MEGA\\\\MEGA\\\\all_here\\\\courses\\\\freeCodeCamp\\\\Java programming\\\\Bro Code\\\\resources\\\\employee2.ser\");\n",
    "\t         ObjectInputStream in = new ObjectInputStream(fileIn);\n",
    "\t         user = (User) in.readObject();\n",
    "\t         in.close();\n",
    "\t         fileIn.close();\n",
    "\t      \n",
    "\t\t} catch (FileNotFoundException e) {\n",
    "\t\t\t// TODO Auto-generated catch block\n",
    "\t\t\te.printStackTrace();\n",
    "\t\t} catch (IOException e) {\n",
    "\t\t\t// TODO Auto-generated catch block\n",
    "\t\t\te.printStackTrace();\n",
    "\t\t} catch (ClassNotFoundException e) {\n",
    "\t\t\t// TODO Auto-generated catch block\n",
    "\t\t\te.printStackTrace();\n",
    "\t\t}\n",
    "\n",
    "\t  long serialVersionUID = ObjectStreamClass.lookup(user.getClass()).getSerialVersionUID();\n",
    "\t  System.out.println(\"serialVersionUID: \"+serialVersionUID);\n",
    "\t      \n",
    "      System.out.println(\"name: \" + user.name);\n",
    "      System.out.println(\"password: \" + user.password); //null beacuse it's transient\n",
    "\n",
    "      user.hello();\n",
    "      \n",
    "   }\n",
    "}\n",
    "Deserialize.main(new String[]{});"
   ]
  }
 ],
 "metadata": {
  "kernelspec": {
   "display_name": "Java",
   "language": "java",
   "name": "java"
  },
  "language_info": {
   "codemirror_mode": "java",
   "file_extension": ".jshell",
   "mimetype": "text/x-java-source",
   "name": "Java",
   "pygments_lexer": "java",
   "version": "21.0.2+13-LTS-58"
  }
 },
 "nbformat": 4,
 "nbformat_minor": 2
}
