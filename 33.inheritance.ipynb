{
 "cells": [
  {
   "cell_type": "markdown",
   "metadata": {},
   "source": [
    "### Inheritance\n",
    "* the process where one class acquires the attributes and method of another."
   ]
  },
  {
   "cell_type": "code",
   "execution_count": 10,
   "metadata": {
    "vscode": {
     "languageId": "java"
    }
   },
   "outputs": [
    {
     "name": "stdout",
     "output_type": "stream",
     "text": [
      "This vehicle is moving\n",
      "This vehicle is stopped\n",
      "0.0\n",
      "0.0\n",
      "the car has: 4 doors\n",
      "the bike has: 2 pedals\n"
     ]
    }
   ],
   "source": [
    "//Car class and bicycle class INHERIT from vehicle class\n",
    "public class Vehicle {\n",
    "    double speed;\n",
    "    void go(){\n",
    "        System.out.println(\"This vehicle is moving\");\n",
    "    }\n",
    "    void stop(){\n",
    "        System.out.println(\"This vehicle is stopped\");\n",
    "    }\n",
    "}\n",
    "//*************************************\n",
    "public class Car extends Vehicle{\n",
    "    int wheels = 4;\n",
    "    int door = 4;\n",
    "}\n",
    "//*************************************\n",
    "public class Bicycle extends Vehicle{\n",
    "    int wheels = 2;\n",
    "    int pedals = 2;\n",
    "}\n",
    "//*************************************\n",
    "public class Main {\n",
    "\tpublic static void main(String[] args) {\t\t\n",
    "\t\t//the car inherits the methods from vehicule (parent class)\n",
    "        Car car = new Car();\n",
    "\t\tcar.go();\n",
    "\t\t\n",
    "\t\tBicycle bike = new Bicycle();\n",
    "\t\tbike.stop();\n",
    "\t\t\n",
    "\t\tSystem.out.println(car.speed); //speed is from parent class\n",
    "\t\tSystem.out.println(bike.speed);\n",
    "\n",
    "        System.out.println(\"the car has: \"+ car.door+ \" doors\");\n",
    "\t\tSystem.out.println(\"the bike has: \"+ bike.pedals + \" pedals\");\n",
    "\t\t\t\t\n",
    "\t}\n",
    "}\n",
    "Main.main(new String[]{});"
   ]
  }
 ],
 "metadata": {
  "kernelspec": {
   "display_name": "Java",
   "language": "java",
   "name": "java"
  },
  "language_info": {
   "codemirror_mode": "java",
   "file_extension": ".jshell",
   "mimetype": "text/x-java-source",
   "name": "Java",
   "pygments_lexer": "java",
   "version": "11.0.21+9"
  }
 },
 "nbformat": 4,
 "nbformat_minor": 2
}
