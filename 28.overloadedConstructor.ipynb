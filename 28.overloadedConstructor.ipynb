{
 "cells": [
  {
   "cell_type": "markdown",
   "metadata": {},
   "source": [
    "### Overloaded Constructor\n",
    "* overloaded constructor: these are multiple constructor within a class with the same name, \n",
    "    * but they have different paramters (important)\n",
    "        * `name + parameter = signature`"
   ]
  },
  {
   "cell_type": "code",
   "execution_count": 4,
   "metadata": {
    "vscode": {
     "languageId": "java"
    }
   },
   "outputs": [
    {
     "name": "stdout",
     "output_type": "stream",
     "text": [
      "this are the ingredients of the pizza: \n",
      "farina 00\n",
      "passata\n",
      "mozzarella\n",
      "patate\n"
     ]
    }
   ],
   "source": [
    "public class Pizza{\n",
    "    //attributes (variables)\n",
    "    String bread;\n",
    "    String sauce;\n",
    "    String chesse, topping;\n",
    "    \n",
    "    //constructor\n",
    "    Pizza(String bread, String sauce, String chesse, String topping){\n",
    "        this.bread = bread;\n",
    "        this.sauce = sauce;\n",
    "        this.chesse = chesse;\n",
    "        this.topping = topping;\n",
    "    }\n",
    "}\n",
    "public class Main{\n",
    "    public static void main(String[]args){\n",
    "        //create a pizza object\n",
    "        Pizza pizza = new Pizza(\"farina 00\",\"passata\",\"mozzarella\",\"patate\");\n",
    "        System.out.println(\"this are the ingredients of the pizza: \");\n",
    "\n",
    "        System.out.println(pizza.bread);\n",
    "        System.out.println(pizza.sauce);\n",
    "        System.out.println(pizza.chesse);\n",
    "        System.out.println(pizza.topping);\n",
    "    }\n",
    "}\n",
    "Main.main(new String[]{});"
   ]
  },
  {
   "cell_type": "markdown",
   "metadata": {},
   "source": [
    "* what is we want a \"pizza bianca\" (plain pizza, no passata, no patate)\n",
    "* sol: create another constructor\n",
    "* if we want to recive less paramters, we need another constructor, so on and so for"
   ]
  },
  {
   "cell_type": "code",
   "execution_count": 9,
   "metadata": {
    "vscode": {
     "languageId": "java"
    }
   },
   "outputs": [
    {
     "name": "stdout",
     "output_type": "stream",
     "text": [
      "this are the ingredients of the pizza: \n",
      "farina 00\n",
      "passata\n",
      "mozzarella\n",
      "patate\n",
      "\n",
      "now the other pizza\n",
      "this are the ingredients of the pizza: \n",
      "farina 00\n",
      "null\n",
      "mozzarella\n",
      "null\n",
      "\n",
      "now the other pizza\n",
      "this are the ingredients of the pizza: \n",
      "farina 00\n",
      "null\n",
      "null\n",
      "null\n",
      "\n",
      "now the other pizza\n",
      "this are the ingredients of the pizza: \n",
      "null\n",
      "null\n",
      "null\n",
      "null\n"
     ]
    }
   ],
   "source": [
    "public class Pizza{\n",
    "    //attributes (variables)\n",
    "    String bread;\n",
    "    String sauce;\n",
    "    String chesse, topping;\n",
    "    \n",
    "    //constructor\n",
    "    Pizza(String bread, String sauce, String chesse, String topping){\n",
    "        this.bread = bread;\n",
    "        this.sauce = sauce;\n",
    "        this.chesse = chesse;\n",
    "        this.topping = topping;\n",
    "    }\n",
    "    //constructor 2\n",
    "    Pizza(String bread, String chesse){\n",
    "        this.bread = bread;\n",
    "        // this.sauce = sauce;\n",
    "        this.chesse = chesse;\n",
    "        // this.topping = topping;\n",
    "    }\n",
    "      //constructor 3\n",
    "    Pizza(String bread){\n",
    "        this.bread = bread;\n",
    "        // this.sauce = sauce;\n",
    "        // this.chesse = chesse;\n",
    "        // this.topping = topping;\n",
    "    }\n",
    "      //constructor 4\n",
    "    Pizza(){\n",
    "        // this.bread = bread;\n",
    "        // this.sauce = sauce;\n",
    "        // this.chesse = chesse;\n",
    "        // this.topping = topping;\n",
    "    }\n",
    "\n",
    "}\n",
    "public class Main{\n",
    "    public static void main(String[]args){\n",
    "        //create a pizza object\n",
    "        Pizza pizza = new Pizza(\"farina 00\",\"passata\",\"mozzarella\",\"patate\");\n",
    "        System.out.println(\"this are the ingredients of the pizza: \");\n",
    "\n",
    "        System.out.println(pizza.bread);\n",
    "        System.out.println(pizza.sauce);\n",
    "        System.out.println(pizza.chesse);\n",
    "        System.out.println(pizza.topping);\n",
    "        \n",
    "        //another pizza taking constructor 2\n",
    "        System.out.println();\n",
    "        System.out.println(\"now the other pizza\");\n",
    "        Pizza pizza2 = new Pizza(\"farina 00\",\"mozzarella\");\n",
    "        System.out.println(\"this are the ingredients of the pizza: \");\n",
    "\n",
    "        System.out.println(pizza2.bread);\n",
    "        System.out.println(pizza2.sauce); // null\n",
    "        System.out.println(pizza2.chesse);\n",
    "        System.out.println(pizza2.topping); //null\n",
    "\n",
    "        //another pizza taking constructor 3\n",
    "        System.out.println();\n",
    "        System.out.println(\"now the other pizza\");\n",
    "        Pizza pizza3 = new Pizza(\"farina 00\");\n",
    "        System.out.println(\"this are the ingredients of the pizza: \");\n",
    "\n",
    "        System.out.println(pizza3.bread);\n",
    "        System.out.println(pizza3.sauce); // null\n",
    "        System.out.println(pizza3.chesse); // null\n",
    "        System.out.println(pizza3.topping); // null\n",
    "\n",
    "        //another pizza taking constructor 4\n",
    "        System.out.println();\n",
    "        System.out.println(\"now the other pizza\");\n",
    "        Pizza pizza4 = new Pizza();\n",
    "        System.out.println(\"this are the ingredients of the pizza: \");\n",
    "\n",
    "        System.out.println(pizza4.bread); // null\n",
    "        System.out.println(pizza4.sauce); // null\n",
    "        System.out.println(pizza4.chesse); // null\n",
    "        System.out.println(pizza4.topping); // null\n",
    "    }\n",
    "}\n",
    "Main.main(new String[]{});"
   ]
  }
 ],
 "metadata": {
  "kernelspec": {
   "display_name": "Java",
   "language": "java",
   "name": "java"
  },
  "language_info": {
   "codemirror_mode": "java",
   "file_extension": ".jshell",
   "mimetype": "text/x-java-source",
   "name": "Java",
   "pygments_lexer": "java",
   "version": "11.0.1+13-LTS"
  }
 },
 "nbformat": 4,
 "nbformat_minor": 2
}
