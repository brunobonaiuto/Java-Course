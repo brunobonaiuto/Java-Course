{
 "cells": [
  {
   "cell_type": "markdown",
   "metadata": {},
   "source": [
    "### FileReader\n",
    "* The FileReader class: reads the content of a file as a stream of characters. One by one read() returns an int value whcih conatins the byte value when read() returns -1, there is no more data to read"
   ]
  },
  {
   "cell_type": "markdown",
   "metadata": {},
   "source": [
    "* `reader.read()`: to read a single char in a file\n",
    "* `reader.close()`: to close the file at the end"
   ]
  },
  {
   "cell_type": "code",
   "execution_count": 1,
   "metadata": {},
   "outputs": [
    {
     "name": "stdout",
     "output_type": "stream",
     "text": [
      "            /`.                      \n",
      "           /   :.                        _\n",
      "          /     \\\\                      | |\n",
      "       ,;/,      ::              >>>>---: |>\n",
      "   ___:c/.(      ||                     | |\n",
      " ,'  _|:)>>>--,-'B)>                    | |\n",
      "(  '---'\\--'` _,'||                     | |\n",
      " `--.    \\ ,-'   ;;                     | |\n",
      "     |    \\|    //                  ,>-.| |\n",
      "     |     \\   ;'                  ^    |_|\n",
      "     |_____|\\,'                          |\n",
      "     :     :                             |\n",
      "     |  ,  |                             |\n",
      "     | : \\ :                             |\n",
      "     | | : :                             |\n",
      "     | | | |                            /|\\\n",
      "     | | |_`.  jah/SSt                 / | \\\n",
      "     '--`                             /  |  \\\n",
      "                                         '"
     ]
    }
   ],
   "source": [
    "public class Main {\n",
    "\n",
    "    public static void main(String[] args) {\n",
    "     \n",
    "     try {\n",
    "      FileReader reader = new FileReader(\"FileToRead.txt\");\n",
    "      int data = reader.read(); //read the first byte\n",
    "      while(data != -1) { // we gonna read more bytes while data is not -1, which means the end of the file\n",
    "       System.out.print((char)data); \n",
    "       data = reader.read();\n",
    "      }\n",
    "      reader.close();\n",
    "      \n",
    "     } catch (FileNotFoundException e) {\n",
    "      // TODO Auto-generated catch block\n",
    "      e.printStackTrace();\n",
    "     } catch (IOException e) {\n",
    "      // TODO Auto-generated catch block\n",
    "      e.printStackTrace();\n",
    "     }\n",
    "    }\n",
    "   }\n",
    "Main.main(new String []{});\n"
   ]
  }
 ],
 "metadata": {
  "kernelspec": {
   "display_name": "Java",
   "language": "java",
   "name": "java"
  },
  "language_info": {
   "codemirror_mode": "java",
   "file_extension": ".jshell",
   "mimetype": "text/x-java-source",
   "name": "java",
   "pygments_lexer": "java",
   "version": "21.0.3+9-LTS"
  }
 },
 "nbformat": 4,
 "nbformat_minor": 2
}
