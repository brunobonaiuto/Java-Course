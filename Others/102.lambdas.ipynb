{
 "cells": [
  {
   "cell_type": "markdown",
   "metadata": {},
   "source": [
    "### Lambdas"
   ]
  },
  {
   "cell_type": "code",
   "execution_count": 4,
   "metadata": {
    "vscode": {
     "languageId": "java"
    }
   },
   "outputs": [
    {
     "name": "stdout",
     "output_type": "stream",
     "text": [
      "Heello World\n",
      "It is a nice day Brunoo!\n",
      "Hello Brunoo!\n"
     ]
    }
   ],
   "source": [
    "@FunctionalInterface\n",
    "public interface MyInterface {\n",
    "\n",
    "\tpublic void message(String name,char symbol);\n",
    "}\n",
    "//******************************* Example 1 **************************************\n",
    "public class Main {\n",
    "\n",
    "\tpublic static void main(String[] args) {\n",
    "\t\t\n",
    "\t\t/* lambda expression = \tfeature for Java 8 and above\n",
    "\t\t* \t\t\t\t\t\talso known as an anonymous method\n",
    "\t\t* \t\t\t\t\t\ta shorter way to write anonymous classes with only one method\n",
    "\t\t*\n",
    "\t\t*\t\t\t\t\t\tneed to use a functional interface or use a pre-defined functional interface\n",
    "\t\t*\t\t\t\t\t\tthey contain only one abstract method\n",
    "\t\t*\t\t\t\t\t\tex. ActionListener, Runnable, (user-defined)\n",
    "\t\t*\n",
    "\t\t*\t\t\t\t\t\tA Lambda expression can be used in any place where a functional interface is required\n",
    "\t\t*\t\t\t\t\t\tHow to use a lambda expression:\n",
    "\t\t*\t\t\t\t\t\t(arguments) -> {statement/s}\n",
    "\t\t*/\n",
    "\t\t\n",
    "\t\tString name = \"Brunoo\";\n",
    "\t\tchar symbol = '!';\n",
    "\t\t\n",
    "\t\tMyInterface myInterface = (x,y) -> {\n",
    "\t\t\tSystem.out.println(\"Heello World\");\n",
    "\t\t\tSystem.out.println(\"It is a nice day \"+x+y);\n",
    "\t\t};\n",
    "\t\t\t\n",
    "\t\tMyInterface myInterface2 = (x,y) -> {\n",
    "\t\t\tSystem.out.println(\"Hello \"+x+y);\n",
    "\t\t};\n",
    "\t\t\t\n",
    "\t\tmyInterface.message(name,symbol);\n",
    "\t\tmyInterface2.message(name,symbol);\n",
    "\t\t\t\n",
    "\t}\n",
    "\n",
    "}\n",
    "Main.main(new String[]{});"
   ]
  },
  {
   "cell_type": "code",
   "execution_count": null,
   "metadata": {
    "vscode": {
     "languageId": "java"
    }
   },
   "outputs": [],
   "source": [
    "//******************************* Example 2 **************************************\n",
    "public class Main {\n",
    "\n",
    "\tpublic static void main(String[] args) {\n",
    "\t\t\n",
    "\t\tMyFrame myFrame = new MyFrame();\n",
    "\t}\n",
    "\n",
    "}\n",
    "//************************************************************************************\n",
    "\n",
    "import java.awt.event.*;\n",
    "import javax.swing.*;\n",
    "\n",
    "public class MyFrame extends JFrame{\n",
    "\n",
    "\tJButton myButton = new JButton(\"MY BUTTON 1\");\n",
    "\tJButton myButton2 = new JButton(\"MY BUTTON 2\");\n",
    "\t\n",
    "\tMyFrame(){\n",
    "\t\t\n",
    "\t\tmyButton.setBounds(100, 100, 200, 100);\n",
    "\t\tmyButton.addActionListener(\n",
    "\t\t\t\n",
    "\t\t\t(e) -> System.out.println(\"This is the first button\")\n",
    "\t\t\t\t\t\t\n",
    "\t\t);\t\n",
    "\t\t\n",
    "\t\tmyButton2.setBounds(100, 200, 200, 100);\n",
    "\t\tmyButton2.addActionListener(\n",
    "\t\t\t\n",
    "\t\t\t(e) -> System.out.println(\"This is the second button\")\n",
    "\t\t\t\t\t\t\n",
    "\t\t);\t\n",
    "\t\n",
    "\t\tthis.add(myButton);\n",
    "\t\tthis.add(myButton2);\n",
    "\t\tthis.setDefaultCloseOperation(JFrame.EXIT_ON_CLOSE);\n",
    "\t\tthis.setSize(420, 420);\n",
    "\t\tthis.setLayout(null);\n",
    "\t\tthis.setVisible(true);\n",
    "\t}\n",
    "}\n",
    "//************************************************************************************"
   ]
  },
  {
   "cell_type": "markdown",
   "metadata": {},
   "source": [
    "* Practicing lambda"
   ]
  },
  {
   "cell_type": "code",
   "execution_count": 10,
   "metadata": {
    "vscode": {
     "languageId": "java"
    }
   },
   "outputs": [
    {
     "name": "stdout",
     "output_type": "stream",
     "text": [
      "30\n",
      "-5\n",
      "0\n",
      "50\n"
     ]
    }
   ],
   "source": [
    "//given an interface\n",
    "public interface Operation{\n",
    "    public int operate(int number1, int number2);\n",
    "}\n",
    "\n",
    "public class Main{\n",
    "    public static void main(String[] args){\n",
    "\n",
    "        int number1 = 5;\n",
    "        int number2 = 10;\n",
    "\n",
    "        //create the interface, and define what to do:\n",
    "        Operation sum = (x,y) -> x+y; \n",
    "        Operation minus = (x,y) -> x-y;\n",
    "        Operation divide = (x,y) -> x/y;\n",
    "        Operation multiply = (x,y) -> x*y;\n",
    "\n",
    "        //we need to call the method operate\n",
    "//        System.out.println(sum.operate(number1, number2));\n",
    "        //or \n",
    "        System.out.println(sum.operate(10, 20));\n",
    "        System.out.println(minus.operate(number1, number2));\n",
    "        System.out.println(divide.operate(number1, number2));\n",
    "        System.out.println(multiply.operate(number1, number2));\n",
    "    }\n",
    "}\n",
    "\n",
    "Main.main(new String[]{});"
   ]
  },
  {
   "cell_type": "markdown",
   "metadata": {},
   "source": [
    "### Practicing Lambdas from Baeldung\n",
    "* Functional interface"
   ]
  },
  {
   "cell_type": "code",
   "execution_count": 2,
   "metadata": {
    "vscode": {
     "languageId": "java"
    }
   },
   "outputs": [
    {
     "name": "stdout",
     "output_type": "stream",
     "text": [
      "6.25\n"
     ]
    }
   ],
   "source": [
    "@FunctionalInterface\n",
    "public interface Area {\n",
    "    //Only one method\n",
    "    public double calculate(double length, double Width);\n",
    "    \n",
    "    //if I add more methods it will be a unusable interace instead( No functional anymore).\n",
    "\n",
    "    //default methods can be added also, as long as we have only one abstract method (a methods without a body)\n",
    "\n",
    "}\n",
    "\n",
    "//------------ Class that implements the method ------------//\n",
    "public class Rectangle {\n",
    "    double length;\n",
    "    double width;\n",
    "\n",
    "    public Rectangle(double length, double width) {\n",
    "        this.length = length;\n",
    "        this.width = width;\n",
    "    }\n",
    "\n",
    "    //needs to take the interface as a parameter\n",
    "    public double execute(Area area){\n",
    "        //this is the method from the functional interface\n",
    "        return area.calculate(length, width);\n",
    "    }\n",
    "}\n",
    "\n",
    "//------------ Main ------------//\n",
    "public class Main {\n",
    "    public static void main(String[] args) {\n",
    "        //create the object\n",
    "        Rectangle rectangle = new Rectangle(2.5, 2.5);\n",
    "        //create lambda, and specify the instruction\n",
    "        Area area = (x, y) -> x * y;\n",
    "        //execute the method which has the functional interface, and pass the lambda\n",
    "        System.out.println(rectangle.execute(area));\n",
    "    }\n",
    "}\n",
    "\n",
    "Main.main(new String[]{});\n"
   ]
  },
  {
   "cell_type": "markdown",
   "metadata": {},
   "source": [
    "`calculate` is nothing more than a function that accepts two arguments and does a multiplication. Java 8 already provides such an interface in `Function<T,R>` from the java.util.function package.\n",
    "* Function<T,R> is a functional interface"
   ]
  },
  {
   "cell_type": "code",
   "execution_count": 13,
   "metadata": {
    "vscode": {
     "languageId": "java"
    }
   },
   "outputs": [
    {
     "name": "stdout",
     "output_type": "stream",
     "text": [
      "Using Function<Input,Output> the output is : 25.0\n",
      "--- note that Function<Output> can work also without input! ---\n",
      "Using BiFunction<Input,Output> the output is : 6.25\n",
      "Using Supplier<Input> the output is : you used the supplier which takes no arguments\n"
     ]
    }
   ],
   "source": [
    "import java.util.function.BiFunction;\n",
    "import java.util.function.Function;\n",
    "import java.util.function.Supplier;\n",
    "\n",
    "/* NO NEED OF THE FUNCTIONAL INTERFACE \n",
    "   BECAUSE THE FUNCTION<T,R> IS ALREADY A FUNCTIONAL INTERFACE\n",
    "\n",
    "@FunctionalInterface\n",
    "public interface Area {\n",
    "    //Only one method to be functional\n",
    "    public double calculate(double length, double Width);\n",
    "    \n",
    "}\n",
    "*/\n",
    "\n",
    "//------------ Class that implements the method ------------//\n",
    "public class Rectangle {\n",
    "    double length;\n",
    "    double width; //not using in Function.\n",
    "\n",
    "    public Rectangle(double length, double width) {\n",
    "        this.length = length;\n",
    "        this.width = width;\n",
    "    }\n",
    "\n",
    "//    needs to take the interface as a parameter\n",
    "//    public double execute(Area area){\n",
    "//        return area.calculate(length, width);\n",
    "//    }\n",
    "\n",
    "    //another way\n",
    "    //using the Function<T,R>  -->  Function<Input,Output>\n",
    "    public double executeOneArg(Function<Double, Double> functionName){ //Function is already a interface\n",
    "        return functionName.apply(length);\n",
    "    }\n",
    "    //to take two arguments\n",
    "    public double executeTwoArg(BiFunction<Double,Double, Double> functionName){ //Bifunction is already a interface\n",
    "        //can receive two inputs\n",
    "        return functionName.apply(length,width);\n",
    "    }\n",
    "\n",
    "    public String executeNoArg(Supplier<String> functionName){\n",
    "        //can receive only one input :((((\n",
    "        return functionName.get();\n",
    "    }\n",
    "}\n",
    "//------------ Main ------------//\n",
    "public class Main {\n",
    "    public static void main(String[] args) {\n",
    "        //create the object\n",
    "        Rectangle rectangle = new Rectangle(2.5, 2.5);\n",
    "\n",
    "        //Instantiate the FI, then create the lambda, and specify the instruction\n",
    "        //Area area = (x, y) -> x * y;\n",
    "\n",
    "        //same as the example of Area above \n",
    "        Function<Double, Double> area = (x) -> x * 10;\n",
    "        //execute the method which has the functional interface, and pass the lambda\n",
    "        System.out.println(\"Using Function<Input,Output> the output is : \"+rectangle.executeOneArg(area));\n",
    "        System.out.println(\"--- note that Function<Output> can work also without input! ---\");\n",
    "        \n",
    "        BiFunction<Double, Double, Double> area2 = (x,y) -> x * y;\n",
    "        System.out.println(\"Using BiFunction<Input,Output> the output is : \"+rectangle.executeTwoArg(area2));\n",
    "\n",
    "        Supplier<String> area3 = () -> \"you used the supplier which takes no arguments\";\n",
    "        System.out.println(\"Using Supplier<Input> the output is : \"+rectangle.executeNoArg(area3));\n",
    "    }\n",
    "}\n",
    "Main.main(new String[]{});"
   ]
  },
  {
   "cell_type": "markdown",
   "metadata": {},
   "source": [
    "* Lambdas behaves like inner classes"
   ]
  },
  {
   "cell_type": "markdown",
   "metadata": {},
   "source": [
    "* Instanciating a functional interface with lambda expressions\n",
    "    * In this case, the class `Rectangule` is not used\n",
    "    * We use directly the functional interface by instanciating it\n",
    "    * this approach is valid, it tends to be more verbose and less readable, especially for simple implementations."
   ]
  },
  {
   "cell_type": "code",
   "execution_count": 10,
   "metadata": {
    "vscode": {
     "languageId": "java"
    }
   },
   "outputs": [
    {
     "name": "stdout",
     "output_type": "stream",
     "text": [
      "30.0\n"
     ]
    }
   ],
   "source": [
    "@FunctionalInterface\n",
    "public interface Area {\n",
    "    //Only one method to be functional\n",
    "    public double calculate(double length, double Width);\n",
    "\n",
    "    //if I add more methods it will be a unusable interace instead( No functional anymore).\n",
    "\n",
    "    //default methods can be added also, as long as we have only one abstract method (a methods without a body)\n",
    "}\n",
    "\n",
    "//------------ Main ------------//\n",
    "public class Main {\n",
    "    public static void main(String[] args) {\n",
    "        //------------ Instantiating a functional interface with lambda expression ------------//\n",
    "\n",
    "        //no lambda is used\n",
    "        //Area myArea = (x,y) -> x * y;\n",
    "\n",
    "        //the functional interface is Area, so instanciate it\n",
    "        Area areaByInnerClass = new Area() { //instanciate the functional interface\n",
    "            //this part is automatically generated by IntelliJ\n",
    "            @Override\n",
    "            public double calculate(double length, double width) {\n",
    "                return length * width;\n",
    "            }\n",
    "        };\n",
    "        \n",
    "        System.out.println(areaByInnerClass.calculate(5.0 , 6.0));\n",
    "    }\n",
    "}\n",
    "Main.main(new String[]{});"
   ]
  },
  {
   "cell_type": "markdown",
   "metadata": {},
   "source": [
    "* Instead we should do this:\n",
    "    * this is the prefered way"
   ]
  },
  {
   "cell_type": "code",
   "execution_count": 11,
   "metadata": {
    "vscode": {
     "languageId": "java"
    }
   },
   "outputs": [
    {
     "name": "stdout",
     "output_type": "stream",
     "text": [
      "30.0\n"
     ]
    }
   ],
   "source": [
    "@FunctionalInterface\n",
    "public interface Area {\n",
    "    //Only one method to be functional\n",
    "    public double calculate(double length, double Width);\n",
    "\n",
    "    //if I add more methods it will be a unusable interace instead( No functional anymore).\n",
    "\n",
    "    //default methods can be added also, as long as we have only one abstract method (a methods without a body)\n",
    "}\n",
    "\n",
    "//------------ Main ------------//\n",
    "public class Main {\n",
    "    public static void main(String[] args) {\n",
    "        // Using lambda expression to instantiate the Area interface\n",
    "        Area myArea = (x,y) -> x * y;\n",
    "        \n",
    "        // Calling the method defined in the interface using the lambda expression\n",
    "        System.out.println(myArea.calculate(5.0 , 6.0));\n",
    "    }\n",
    "}\n",
    "Main.main(new String[]{});"
   ]
  },
  {
   "cell_type": "markdown",
   "metadata": {},
   "source": [
    "* Don’t Treat Lambda Expressions as Inner Classes\n",
    "    * Lambda is accessing instance field\n",
    "    * from the Output below we can see that:\n",
    "        * When we use an inner class, it creates a new scope. We can hide local variables from the enclosing scope by instantiating new local variables with the same names. We can also use the keyword `this` inside our inner class as a reference to its instance\n",
    "        * When we use an lambda expression, this work with enclosing scope, we can’t hide variables from the enclosing scope inside the lambda’s body. In this case, the keyword this is a reference to an enclosing instance. "
   ]
  },
  {
   "cell_type": "code",
   "execution_count": 12,
   "metadata": {
    "vscode": {
     "languageId": "java"
    }
   },
   "outputs": [
    {
     "name": "stdout",
     "output_type": "stream",
     "text": [
      "Results: resultInnerClass = Inner class Value, resultLambda = Enclosing scope value\n"
     ]
    }
   ],
   "source": [
    "@FunctionalInterface\n",
    "public interface Print {\n",
    "    //Only one method to be functional\n",
    "    public String message(String string);\n",
    "}\n",
    "\n",
    "\n",
    "public class A {\n",
    "    // Instance variable, can be only access if we create the object\n",
    "    public String value = \"Enclosing scope value\";\n",
    "\n",
    "    //-------- Experiment ------------//\n",
    "    public String scopeExperiment(){\n",
    "        //-------- Instantiating the function interface (Inner class) ------------//\n",
    "        Print print1 = new Print() {\n",
    "\n",
    "            String value = \"Inner class Value\"; //ITS OWN INSTANCE\n",
    "\n",
    "            @Override\n",
    "            public String message(String string) {\n",
    "                return this.value; //CREATES IT OWNS INSTANCE, NO ACCESS TO GLOBAL VARIABLE\n",
    "            }\n",
    "        };\n",
    "        //save the result of inner class\n",
    "        String resultInnerClass = print1.message(\"\");\n",
    "\n",
    "        //-------- Lambda ------------//\n",
    "        Print print2 = (parameter) -> {\n",
    "            String value = \"Lambda value\"; //ITS OWN INSTANCE\n",
    "            return this.value; //DOESNT NOT CREATE ITS OWN INSTANCE, IT ACCESS THE GLOBAL VARIABLE\n",
    "        };\n",
    "        //save the result of lambda expression\n",
    "        String resultLambda = print2.message(\"\");\n",
    "\n",
    "        return \"Results: resultInnerClass = \" + resultInnerClass + \", resultLambda = \" + resultLambda;\n",
    "    }\n",
    "}\n",
    "\n",
    "//------------ Main ------------//\n",
    "public class Main {\n",
    "    public static void main(String[] args) {\n",
    "        A a = new A();\n",
    "        System.out.println(a.scopeExperiment());\n",
    "    }\n",
    "}\n",
    "Main.main(new String[]{});\n"
   ]
  },
  {
   "cell_type": "markdown",
   "metadata": {},
   "source": [
    "* In an ideal situation, lambdas should be written in one line of code."
   ]
  },
  {
   "cell_type": "code",
   "execution_count": 3,
   "metadata": {
    "vscode": {
     "languageId": "java"
    }
   },
   "outputs": [
    {
     "name": "stdout",
     "output_type": "stream",
     "text": [
      "I should not do it in this work\n",
      "I SHOULD DO IT IN THIS WAY work\n"
     ]
    }
   ],
   "source": [
    "@FunctionalInterface\n",
    "public interface Print {\n",
    "    //Only one method to be functional\n",
    "    public String message(String string);\n",
    "}\n",
    "\n",
    "//------------ Main ------------//\n",
    "public class Main {\n",
    "    public static void main(String[] args) {\n",
    "        //-------------------------------------------------------\n",
    "        //Wrong way\n",
    "        //I normally give the functionality to the lambda\n",
    "        Print print1 = (x) -> {\n",
    "            String result = \"I should not do it in this \" + x;\n",
    "            return result;\n",
    "        };\n",
    "\n",
    "        System.out.println(print1.message(\"work\"));\n",
    "\n",
    "        //-------------------------------------------------------\n",
    "        //right way\n",
    "        // Lambda expression using a static helper method\n",
    "        //Print print2 = (x) -> buildMessage(x);\n",
    "        //or\n",
    "        Print print2 = Main::buildMessage;\n",
    "        \n",
    "        System.out.println(print2.message(\"work\"));\n",
    "\n",
    "    }\n",
    "    //------- outside main -------\n",
    "    // Helper method to build a message\n",
    "    private static String buildMessage(String input){\n",
    "        String result2 = \"I SHOULD DO IT IN THIS WAY \" + input;\n",
    "        return result2;\n",
    "    }\n",
    "}\n",
    "Main.main(new String[]{});"
   ]
  },
  {
   "cell_type": "markdown",
   "metadata": {},
   "source": [
    "* Avoid Specifying Parameter Types\n",
    "    * right way\n",
    "    `(a, b) -> a.toLowerCase() + b.toLowerCase();`\n",
    "    * wrong way\n",
    "    `(String a, String b) -> a.toLowerCase() + b.toLowerCase();`\n",
    "---\n",
    "* Avoid Parentheses Around a Single Parameter\n",
    "    * right way\n",
    "    `a -> a.toLowerCase();`\n",
    "    * wrong way\n",
    "    `(a) -> a.toLowerCase();`\n",
    "---\n",
    "* Avoid Return Statement and Braces\n",
    "    * right way\n",
    "    `a -> a.toLowerCase();`\n",
    "    * wrong way\n",
    "    `a -> {return a.toLowerCase()};`\n",
    "---\n",
    "* Use Method References\n",
    "    * right way\n",
    "    `a -> a.toLowerCase();`\n",
    "    * even better way (This is not always shorter, but it makes the code more readable.)\n",
    "    `String::toLowerCase;`\n",
    "\n",
    "\n",
    "    "
   ]
  }
 ],
 "metadata": {
  "kernelspec": {
   "display_name": "Java",
   "language": "java",
   "name": "java"
  },
  "language_info": {
   "codemirror_mode": "java",
   "file_extension": ".jshell",
   "mimetype": "text/x-java-source",
   "name": "Java",
   "pygments_lexer": "java",
   "version": "11.0.21+9"
  }
 },
 "nbformat": 4,
 "nbformat_minor": 2
}
