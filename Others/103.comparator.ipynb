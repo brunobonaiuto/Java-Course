{
 "cells": [
  {
   "cell_type": "markdown",
   "metadata": {},
   "source": [
    "### Comparator"
   ]
  },
  {
   "cell_type": "code",
   "execution_count": 3,
   "metadata": {},
   "outputs": [
    {
     "name": "stdout",
     "output_type": "stream",
     "text": [
      "[5, 2, 3, 4]\n"
     ]
    }
   ],
   "source": [
    "public class Main{\n",
    "    public static void main(String[]args){\n",
    "\n",
    "        List<Integer> numbers = new ArrayList<>();\n",
    "        numbers.add(5);\n",
    "        numbers.add(2);\n",
    "        numbers.add(3);\n",
    "        numbers.add(4);\n",
    "\n",
    "        System.out.println(numbers);\n",
    "\n",
    "    }\n",
    "}\n",
    "Main.main(new String[]{});\n"
   ]
  },
  {
   "cell_type": "markdown",
   "metadata": {},
   "source": [
    "* we can sort them using:"
   ]
  },
  {
   "cell_type": "code",
   "execution_count": 1,
   "metadata": {},
   "outputs": [
    {
     "name": "stdout",
     "output_type": "stream",
     "text": [
      "[2, 3, 4, 5]\n"
     ]
    }
   ],
   "source": [
    "public class Main{\n",
    "    public static void main(String[]args){\n",
    "\n",
    "        List<Integer> numbers = new ArrayList<>();\n",
    "        numbers.add(5);\n",
    "        numbers.add(2);\n",
    "        numbers.add(3);\n",
    "        numbers.add(4);\n",
    "\n",
    "        //sort them\n",
    "        Collections.sort(numbers);\n",
    "        System.out.println(numbers);\n",
    "\n",
    "    }\n",
    "}\n",
    "Main.main(new String[]{});"
   ]
  },
  {
   "cell_type": "markdown",
   "metadata": {},
   "source": [
    "* what if we want to sort base in our own logic?\n",
    "    * ie. sorted based on the last digit\n",
    "    * ie. `[29, 31, 43, 72]` to be sorted based on the last digit -> `[31, 72, 43, 29]` now we have 1,2,3,9. \n",
    "    * nosotros especificamos el orden en el cual orderar los numbers, en este caso ordenados basado en el ultimo digito, entonces nos quedo 1,2,3,9."
   ]
  },
  {
   "cell_type": "markdown",
   "metadata": {},
   "source": [
    "* use comparator interface"
   ]
  },
  {
   "cell_type": "code",
   "execution_count": 7,
   "metadata": {},
   "outputs": [
    {
     "name": "stdout",
     "output_type": "stream",
     "text": [
      "[882, 773, 664, 995]\n"
     ]
    }
   ],
   "source": [
    "public class Main{\n",
    "    public static void main(String[]args){\n",
    "\n",
    "        Comparator<Integer> compare = new Comparator<>(){\n",
    "            //use method compare from comparator interface\n",
    "            public int compare(Integer a, Integer b){ //specify 2 values\n",
    "                //i want to check only the last number\n",
    "                if(a%10 > b%10){\n",
    "                    //if I return 1 it will swap, otherwise not\n",
    "                    return 1;\n",
    "                }else{\n",
    "                    return -1;\n",
    "                }\n",
    "        }\n",
    "    };\n",
    "\n",
    "\n",
    "        List<Integer> numbers = new ArrayList<>();\n",
    "        numbers.add(995);  //last\n",
    "        numbers.add(882); //first\n",
    "        numbers.add(773); //second\n",
    "        numbers.add(664); //third\n",
    "\n",
    "        //Collections.sort(arrayName);\n",
    "        Collections.sort(numbers, compare);\n",
    "        System.out.println(numbers);\n",
    "\n",
    "    }\n",
    "}\n",
    "Main.main(new String[]{});"
   ]
  },
  {
   "cell_type": "markdown",
   "metadata": {},
   "source": [
    "* another example"
   ]
  },
  {
   "cell_type": "code",
   "execution_count": 1,
   "metadata": {},
   "outputs": [
    {
     "name": "stdout",
     "output_type": "stream",
     "text": [
      "Persona{name='Bruno', lastName='Bonaiuto', age=25}\n",
      "Persona{name='Bruno', lastName='Bonaiuto', age=30}\n",
      "Persona{name='Rossana', lastName='Bonaiuto', age=23}\n",
      "Persona{name='Lucio', lastName='Bonaiuto', age=17}\n",
      "Persona{name='Morena', lastName='Colloricchio', age=23}\n",
      "Persona{name='Consuelo', lastName='Colloricchio', age=32}\n",
      "Persona{name='Michele', lastName='Bonaiuto', age=63}\n",
      "Persona{name='Virgelina', lastName='Bolivar', age=49}\n",
      "Persona{name='Gianna', lastName='Granzzotto', age=58}\n",
      "---- after sorting using comparator (lambda version) ----\n",
      "Persona{name='Virgelina', lastName='Bolivar', age=49}\n",
      "Persona{name='Bruno', lastName='Bonaiuto', age=25}\n",
      "Persona{name='Bruno', lastName='Bonaiuto', age=30}\n",
      "Persona{name='Rossana', lastName='Bonaiuto', age=23}\n",
      "Persona{name='Lucio', lastName='Bonaiuto', age=17}\n",
      "Persona{name='Michele', lastName='Bonaiuto', age=63}\n",
      "Persona{name='Morena', lastName='Colloricchio', age=23}\n",
      "Persona{name='Consuelo', lastName='Colloricchio', age=32}\n",
      "Persona{name='Gianna', lastName='Granzzotto', age=58}\n"
     ]
    }
   ],
   "source": [
    "\n",
    "public class Persona implements Comparable<Persona>{\n",
    "    private final String name;\n",
    "    private final String lastName;\n",
    "    private final int age;\n",
    "\n",
    "    public Persona(String name, String lastName, int age) {\n",
    "        this.name = name;\n",
    "        this.lastName = lastName;\n",
    "        this.age = age;\n",
    "    }\n",
    "\n",
    "    public String getName() {\n",
    "        return name;\n",
    "    }\n",
    "\n",
    "    public String getLastName() {\n",
    "        return lastName;\n",
    "    }\n",
    "\n",
    "    public Integer getAge() {\n",
    "        return age;\n",
    "    }\n",
    "\n",
    "    @Override\n",
    "    public String toString() {\n",
    "        return \"Persona{\" +\n",
    "                \"name='\" + name + '\\'' +\n",
    "                \", lastName='\" + lastName + '\\'' +\n",
    "                \", age=\" + age +\n",
    "                '}';\n",
    "    }\n",
    "\n",
    "    //what matter is the sing and not the actual value\n",
    "    @Override\n",
    "    public int compareTo(Persona o) {\n",
    "        // less than 0, if object 1 is before object2\n",
    "        // greater than 0, if the object 1 is after object2\n",
    "        // equal to 0, if object 1 is in same position of object2\n",
    "\n",
    "        //way1\n",
    "        //convert the primitive type to Big type\n",
    "        //return new Integer(this.getAge()).compareTo(new Integer(o.getAge()));\n",
    "\n",
    "        //way2\n",
    "        //return this.getAge()-o.getAge();\n",
    "\n",
    "        //order by name\n",
    "        //return this.getName().compareTo(o.getName());\n",
    "\n",
    "        //order by lastName\n",
    "        //return this.getLastName().compareTo(o.getLastName());\n",
    "\n",
    "        //order by lastname, in case of same lastname\n",
    "        //int order = this.getLastName().compareTo(o.getLastName()); //return 0 if they are equals\n",
    "        //if(order == 0){\n",
    "            //the last name was the same, so compare by name\n",
    "            //order = this.getName().compareTo(o.getName());\n",
    "        //}\n",
    "        //return order;\n",
    "\n",
    "        //order by lastname, then by name, then by age\n",
    "        int order = this.getName().compareTo(o.getName());\n",
    "        if(order==0){\n",
    "            //update order\n",
    "            order = this.getLastName().compareTo(o.getLastName());\n",
    "            if(order==0){\n",
    "                //update order\n",
    "                //order = this.getAge().compareTo(o.getAge());\n",
    "\n",
    "                //or\n",
    "                //order = this.getAge()-o.getAge();\n",
    "\n",
    "                //to invert the age, also works for name and last name\n",
    "                order = (this.getAge().compareTo(o.getAge()))*-1;\n",
    "            }\n",
    "        }\n",
    "        return order;\n",
    "    }\n",
    "}\n",
    "//----------------------------------------------------------------------//\n",
    "public class Main {\n",
    "    public static void main(String[] args) {\n",
    "        List<Persona> personas = new ArrayList<>();\n",
    "\n",
    "        //populate\n",
    "        personas.add(new Persona(\"Bruno\",\"Bonaiuto\", 25));\n",
    "        personas.add(new Persona(\"Bruno\",\"Bonaiuto\", 30));\n",
    "        personas.add(new Persona(\"Rossana\",\"Bonaiuto\", 23));\n",
    "        personas.add(new Persona(\"Lucio\",\"Bonaiuto\", 17));\n",
    "        personas.add(new Persona(\"Morena\",\"Colloricchio\", 23));\n",
    "        personas.add(new Persona(\"Consuelo\",\"Colloricchio\", 32));\n",
    "        personas.add(new Persona(\"Michele\",\"Bonaiuto\", 63));\n",
    "        personas.add(new Persona(\"Virgelina\",\"Bolivar\", 49));\n",
    "        personas.add(new Persona(\"Gianna\",\"Granzzotto\", 58));\n",
    "\n",
    "        personas.forEach(System.out::println);\n",
    "\n",
    "//        //COMPARABLE INTERFACE\n",
    "//        //How to order this?? OPTION1 --> define the order by default in the Persona class\n",
    "//        //def: So, we need to implement the interface comparable in the Persona class\n",
    "//        System.out.println(\"---- after sorting using comparable ----\");\n",
    "//        //using my comparable interface\n",
    "//        Collections.sort(personas);\n",
    "//        personas.forEach(System.out::println);\n",
    "\n",
    "\n",
    "//        //OPTION2 --> Ordering using COMPARATOR\n",
    "//        System.out.println(\"---- after sorting using comparator ----\");\n",
    "//        Collections.sort(personas, new Comparator<Persona>() {\n",
    "//            @Override\n",
    "//            public int compare(Persona o1, Persona o2) {\n",
    "//                //the body here can be the same as the one used in COMPARABLE\n",
    "//                 return o1.getName().compareTo(o2.getName());\n",
    "//            }\n",
    "//        });\n",
    "//        personas.forEach(System.out::println);\n",
    "\n",
    "        //OPTION 3 --> Using Comparator, in the shorter way (using lambdas)\n",
    "        System.out.println(\"---- after sorting using comparator (lambda version) ----\");\n",
    "        Collections.sort(personas, (o1, o2) -> o1.getLastName().compareTo(o2.getLastName()));\n",
    "        personas.forEach(System.out::println);\n",
    "    }\n",
    "}\n",
    "Main.main(new String[]{});"
   ]
  }
 ],
 "metadata": {
  "kernelspec": {
   "display_name": "Java",
   "language": "java",
   "name": "java"
  },
  "language_info": {
   "codemirror_mode": "java",
   "file_extension": ".jshell",
   "mimetype": "text/x-java-source",
   "name": "java",
   "pygments_lexer": "java",
   "version": "11.0.21+9"
  }
 },
 "nbformat": 4,
 "nbformat_minor": 2
}
