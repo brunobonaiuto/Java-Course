{
 "cells": [
  {
   "cell_type": "markdown",
   "metadata": {},
   "source": [
    "### Basic Input and Output\n",
    "* Reading a file from local file system\n",
    "* I/O streams represents a flow of *binary data*\n",
    "    * we read this binary data in chunks, they are row bites\n",
    "* `Input Stream `: is used to read the data given a source\n",
    "* `Output Stream`: is used to write data\n",
    "* Recommended to use BufferedStream as a Wrapper for InputStream and OutputStream\n",
    "* Also always close the Streams"
   ]
  },
  {
   "cell_type": "markdown",
   "metadata": {},
   "source": [
    "--- \n",
    "* Using `InputStream`\n",
    "    * Is a abstract class with only one abstract method called `read()`\n",
    "    * `read()`: Reads the next byte of data from the input stream\n",
    "        * returns the byte of the value as an integer from 0 to 255. If no byte is available because the end of the stream has been reached, the value -1 is returned.\n",
    "    * Remember to use `try`\n",
    "\n",
    "* Reading a file as a Stream of Binary data is the following example\n",
    "    * **Very low read()**, Because it reads one byte at a time, never use it"
   ]
  },
  {
   "cell_type": "code",
   "execution_count": 3,
   "metadata": {},
   "outputs": [
    {
     "name": "stdout",
     "output_type": "stream",
     "text": [
      "the file size after read is: 2625  bytes\n",
      "the file size after read is: 2.5634765625  KB\n"
     ]
    }
   ],
   "source": [
    "import java.io.FileInputStream;\n",
    "import java.io.IOException;\n",
    "import java.io.InputStream;\n",
    "\n",
    "public class Main{\n",
    "    public static void main(String[]args) throws IOException{\n",
    "\n",
    "        //file path\n",
    "        String fileName = \"C:\\\\Users\\\\bbbolivar\\\\Documents\\\\MEGA\\\\MEGA\\\\all_here\\\\courses\\\\freeCodeCamp\\\\Java programming\\\\Bro Code\\\\Others\\\\resources\\\\solid.txt\";\n",
    "\n",
    "        //Try to open the resource file \"Stream\".\n",
    "        try(InputStream fileStream = new FileInputStream(fileName)){\n",
    "            int countBytes = 0; //0 bytes\n",
    "            \n",
    "            //-1 is the end of the bytes, we have reach the end of the file \"Stream\".\n",
    "            while(fileStream.read() != -1){\n",
    "                countBytes++; //for each byte found do +1\n",
    "            }\n",
    "            //the length of the String of the file is\n",
    "            System.out.println(\"the file size after read is: \" + countBytes +\"  bytes\");\n",
    "            System.out.println(\"the file size after read is: \" + ((double) countBytes/1024) +\"  KB\");\n",
    "        }\n",
    "    }\n",
    "}\n",
    "Main.main(new String[]{});"
   ]
  },
  {
   "cell_type": "markdown",
   "metadata": {},
   "source": [
    "* Reading from a URL "
   ]
  },
  {
   "cell_type": "code",
   "execution_count": 4,
   "metadata": {},
   "outputs": [
    {
     "name": "stdout",
     "output_type": "stream",
     "text": [
      "<!doctype html><html itemscope=\"\" itemtype=\"http://schema.org/WebPage\" lang=\"it\"><head><meta content=\"text/html; charset=UTF-8\" http-equiv=\"Content-Type\"><meta content=\"/images/branding/googleg/1x/googleg_standard_color_128dp.png\" itemprop=\"image\"><title>Google</title><script nonce=\"w-5eEySMZdVlTP28KlqloQ\">(function(){var _g={kEI:'9n5ZZoWKLNHbptQPu8yLwAQ',kEXPI:'0,3700330,608,372,76,536433,2226,2872,2891,3926,69124,16105,230,107224,6654,19540,30211,2,39761,6699,41949,68696,15675,8155,23350,22436,9779,8213,4201,30045,20198,6050,38458,2750,5793,4,1,1,20122,3030,15816,1804,7759,19333,8176,961,10853,1635,43460,5224683,891,622,5991809,2839987,180,2,50,27981916,16672,43887,3,318,4,1281,3,2124363,23029351,12799,8409,16664,28027,36870,1922,10959,6407,2964,10881,15165,7968,214,389,5548,22762,4555,16241,2,1882,3179,4,4952,11587,3007,3744,156,399,2084,4401,5226,2822,1056,1005,6730,9,5155,3,1433,1426,690,423,969,539,3091,208,120,2669,548,5,126,98,3,2,186,2589,705,2677,896,1,2487,1411,2169,3810,1436,2717,224,241,1273,35,519,891,3517,3,1308,1277,2,146,244,1495,204,3839,97,1296,2320,818,1489,447,993,1119,3,53,24,233,997,441,23,156,422,553,917,461,735,2873,869,3,1417,3,9,370,1546,1274,409,254,1152,8,4,260,216,1106,640,764,329,762,966,686,378,33,21,315,373,496,10,30,197,158,75,2,372,18,66,121,2929,279,1931,64,780,4,816,657,3,521,129,364,524,1401,150,849,76,8,385,465,597,573,338,7,1,2500,1365,371,591,46,247,4,159,591,3,68,543,665,259,391,163,95,90,83,26,393,8,397,62,27,617,14,13,273,379,571,38,51,3,208,313,2,217,90,159,221,265,142,52,1014,32,93,67,150,46,271,132,3,596,396,339,10,465,333,222,849,837,1182,127,8,181,520,715,21580116,4267,3,5250,3044,1902,4,382,3586,1994,1421,2,607,1861',kBL:'hK_B',kOPI:89978449};(function(){var a;(null==(a=window.google)?0:a.stvsc)?google.kEI=_g.kEI:window.google=_g;}).call(this);})();(function(){google.sn='webhp';google.kHL='it';})();(function(){\n",
      "var h=this||self;function l(){return void 0!==window.google&&void 0!==window.google.kOPI&&0!==window.google.kOPI?window.google.kOPI:null};var m,n=[];function p(a){for(var b;a&&(!a.getAttribute||!(b=a.getAttribute(\"eid\")));)a=a.parentNode;return b||m}function q(a){for(var b=null;a&&(!a.getAttribute||!(b=a.getAttribute(\"leid\")));)a=a.parentNode;return b}function r(a){/^http:/i.test(a)&&\"https:\"===window.location.protocol&&(google.ml&&google.ml(Error(\"a\"),!1,{src:a,glmm:1}),a=\"\");return a}\n",
      "function t(a,b,c,d,k){var e=\"\";-1===b.search(\"&ei=\")&&(e=\"&ei=\"+p(d),-1===b.search(\"&lei=\")&&(d=q(d))&&(e+=\"&lei=\"+d));d=\"\";var g=-1===b.search(\"&cshid=\")&&\"slh\"!==a,f=[];f.push([\"zx\",Date.now().toString()]);h._cshid&&g&&f.push([\"cshid\",h._cshid]);c=c();null!=c&&f.push([\"opi\",c.toString()]);for(c=0;c<f.length;c++){if(0===c||0<c)d+=\"&\";d+=f[c][0]+\"=\"+f[c][1]}return\"/\"+(k||\"gen_204\")+\"?atyp=i&ct=\"+String(a)+\"&cad=\"+(b+e+d)};m=google.kEI;google.getEI=p;google.getLEI=q;google.ml=function(){return null};google.log=function(a,b,c,d,k,e){e=void 0===e?l:e;c||(c=t(a,b,e,d,k));if(c=r(c)){a=new Image;var g=n.length;n[g]=a;a.onerror=a.onload=a.onabort=function(){delete n[g]};a.src=c}};google.logUrl=function(a,b){b=void 0===b?l:b;return t(\"\",a,b)};}).call(this);(function(){google.y={};google.sy=[];google.x=function(a,b){if(a)var c=a.id;else{do c=Math.random();while(google.y[c])}google.y[c]=[a,b];return!1};google.sx=function(a){google.sy.push(a)};google.lm=[];google.plm=function(a){google.lm.push.apply(google.lm,a)};google.lq=[];google.load=function(a,b,c){google.lq.push([[a],b,c])};google.loadAll=function(a,b){google.lq.push([a,b])};google.bx=!1;google.lx=function(){};var d=[];google.fce=function(a,b,c,e){d.push([a,b,c,e])};google.qce=d;}).call(this);google.f={};(function(){\n",
      "document.documentElement.addEventListener(\"submit\",function(b){var a;if(a=b.target){var c=a.getAttribute(\"data-submitfalse\");a=\"1\"===c||\"q\"===c&&!a.elements.q.value?!0:!1}else a=!1;a&&(b.preventDefault(),b.stopPropagation())},!0);document.documentElement.addEventListener(\"click\",function(b){var a;a:{for(a=b.target;a&&a!==document.documentElement;a=a.parentElement)if(\"A\"===a.tagName){a=\"1\"===a.getAttribute(\"data-nohref\");break a}a=!1}a&&b.preventDefault()},!0);}).call(this);</script><style>#gbar,#guser{font-size:13px;padding-top:1px !important;}#gbar{height:22px}#guser{padding-bottom:7px !important;text-align:right}.gbh,.gbd{border-top:1px solid #c9d7f1;font-size:1px}.gbh{height:0;position:absolute;top:24px;width:100%}@media all{.gb1{height:22px;margin-right:.5em;vertical-align:top}#gbar{float:left}}a.gb1,a.gb4{text-decoration:underline !important}a.gb1,a.gb4{color:#00c !important}.gbi .gb4{color:#dd8e27 !important}.gbf .gb4{color:#900 !important}\n",
      "</style><style>body,td,a,p,.h{font-family:arial,sans-serif}body{margin:0;overflow-y:scroll}#gog{padding:3px 8px 0}td{line-height:.8em}.gac_m td{line-height:17px}form{margin-bottom:20px}.h{color:#1967d2}em{font-weight:bold;font-style:normal}.lst{height:25px;width:496px}.gsfi,.lst{font:18px arial,sans-serif}.gsfs{font:17px arial,sans-serif}.ds{display:inline-box;display:inline-block;margin:3px 0 4px;margin-left:4px}input{font-family:inherit}body{background:#fff;color:#000}a{color:#681da8;text-decoration:none}a:hover,a:active{text-decoration:underline}.fl a{color:#1967d2}a:visited{color:#681da8}.sblc{padding-top:5px}.sblc a{display:block;margin:2px 0;margin-left:13px;font-size:11px}.lsbb{background:#f8f9fa;border:solid 1px;border-color:#dadce0 #70757a #70757a #dadce0;height:30px}.lsbb{display:block}#WqQANb a{display:inline-block;margin:0 12px}.lsb{background:url(/images/nav_logo229.png) 0 -261px repeat-x;color:#000;border:none;cursor:pointer;height:30px;margin:0;outline:0;font:15px arial,sans-serif;vertical-align:top}.lsb:active{background:#dadce0}.lst:focus{outline:none}</style><script nonce=\"w-5eEySMZdVlTP28KlqloQ\">(function(){window.google.erd={jsr:1,bv:2018,de:true};\n",
      "var h=this||self;var k,l=null!=(k=h.mei)?k:1,n,p=null!=(n=h.sdo)?n:!0,q=0,r,t=google.erd,v=t.jsr;google.ml=function(a,b,d,m,e){e=void 0===e?2:e;b&&(r=a&&a.message);void 0===d&&(d={});d.cad=\"ple_\"+google.ple+\".aple_\"+google.aple;if(google.dl)return google.dl(a,e,d,!0),null;b=d;if(0>v){window.console&&console.error(a,b);if(-2===v)throw a;b=!1}else b=!a||!a.message||\"Error loading script\"===a.message||q>=l&&!m?!1:!0;if(!b)return null;q++;d=d||{};b=encodeURIComponent;var c=\"/gen_204?atyp=i&ei=\"+b(google.kEI);google.kEXPI&&(c+=\"&jexpid=\"+b(google.kEXPI));c+=\"&srcpg=\"+b(google.sn)+\"&jsr=\"+b(t.jsr)+\n",
      "\"&bver=\"+b(t.bv);var f=a.lineNumber;void 0!==f&&(c+=\"&line=\"+f);var g=a.fileName;g&&(0<g.indexOf(\"-extension:/\")&&(e=3),c+=\"&script=\"+b(g),f&&g===window.location.href&&(f=document.documentElement.outerHTML.split(\"\\n\")[f],c+=\"&cad=\"+b(f?f.substring(0,300):\"No script found.\")));google.ple&&1===google.ple&&(e=2);c+=\"&jsel=\"+e;for(var u in d)c+=\"&\",c+=b(u),c+=\"=\",c+=b(d[u]);c=c+\"&emsg=\"+b(a.name+\": \"+a.message);c=c+\"&jsst=\"+b(a.stack||\"N/A\");12288<=c.length&&(c=c.substr(0,12288));a=c;m||google.log(0,\"\",a);return a};window.onerror=function(a,b,d,m,e){r!==a&&(a=e instanceof Error?e:Error(a),void 0===d||\"lineNumber\"in a||(a.lineNumber=d),void 0===b||\"fileName\"in a||(a.fileName=b),google.ml(a,!1,void 0,!1,\"SyntaxError\"===a.name||\"SyntaxError\"===a.message.substring(0,11)||-1!==a.message.indexOf(\"Script error\")?3:0));r=null;p&&q>=l&&(window.onerror=null)};})();</script></head><body bgcolor=\"#fff\"><script nonce=\"w-5eEySMZdVlTP28KlqloQ\">(function(){var src='/images/nav_logo229.png';var iesg=false;document.body.onload = function(){window.n && window.n();if (document.images){new Image().src=src;}\n",
      "if (!iesg){document.f&&document.f.q.focus();document.gbqf&&document.gbqf.q.focus();}\n",
      "}\n",
      "})();</script><div id=\"mngb\"><div id=gbar><nobr><b class=gb1>Ricerca</b> <a class=gb1 href=\"https://www.google.it/imghp?hl=it&tab=wi\">Immagini</a> <a class=gb1 href=\"https://maps.google.it/maps?hl=it&tab=wl\">Maps</a> <a class=gb1 href=\"https://play.google.com/?hl=it&tab=w8\">Play</a> <a class=gb1 href=\"https://www.youtube.com/?tab=w1\">YouTube</a> <a class=gb1 href=\"https://news.google.com/?tab=wn\">News</a> <a class=gb1 href=\"https://mail.google.com/mail/?tab=wm\">Gmail</a> <a class=gb1 href=\"https://drive.google.com/?tab=wo\">Drive</a> <a class=gb1 style=\"text-decoration:none\" href=\"https://www.google.it/intl/it/about/products?tab=wh\"><u>Altro</u> &raquo;</a></nobr></div><div id=guser width=100%><nobr><span id=gbn class=gbi></span><span id=gbf class=gbf></span><span id=gbe></span><a href=\"http://www.google.it/history/optout?hl=it\" class=gb4>Cronologia web</a> | <a  href=\"/preferences?hl=it\" class=gb4>Impostazioni</a> | <a target=_top id=gb_70 href=\"https://accounts.google.com/ServiceLogin?hl=it&passive=true&continue=https://www.google.it/&ec=GAZAAQ\" class=gb4>Accedi</a></nobr></div><div class=gbh style=left:0></div><div class=gbh style=right:0></div></div><center><br clear=\"all\" id=\"lgpd\"><div id=\"lga\"><img alt=\"Google\" height=\"92\" src=\"/images/branding/googlelogo/1x/googlelogo_white_background_color_272x92dp.png\" style=\"padding:28px 0 14px\" width=\"272\" id=\"hplogo\"><br><br></div><form action=\"/search\" name=\"f\"><table cellpadding=\"0\" cellspacing=\"0\"><tr valign=\"top\"><td width=\"25%\">&nbsp;</td><td align=\"center\" nowrap=\"\"><input name=\"ie\" value=\"ISO-8859-1\" type=\"hidden\"><input value=\"it\" name=\"hl\" type=\"hidden\"><input name=\"source\" type=\"hidden\" value=\"hp\"><input name=\"biw\" type=\"hidden\"><input name=\"bih\" type=\"hidden\"><div class=\"ds\" style=\"height:32px;margin:4px 0\"><input class=\"lst\" style=\"margin:0;padding:5px 8px 0 6px;vertical-align:top;color:#000\" autocomplete=\"off\" value=\"\" title=\"Cerca con Google\" maxlength=\"2048\" name=\"q\" size=\"57\"></div><br style=\"line-height:0\"><span class=\"ds\"><span class=\"lsbb\"><input class=\"lsb\" value=\"Cerca con Google\" name=\"btnG\" type=\"submit\"></span></span><span class=\"ds\"><span class=\"lsbb\"><input class=\"lsb\" id=\"tsuid_1\" value=\"Mi sento fortunato\" name=\"btnI\" type=\"submit\"><script nonce=\"w-5eEySMZdVlTP28KlqloQ\">(function(){var id='tsuid_1';document.getElementById(id).onclick = function(){if (this.form.q.value){this.checked = 1;if (this.form.iflsig)this.form.iflsig.disabled = false;}\n",
      "else top.location='/doodles/';};})();</script><input value=\"AL9hbdgAAAAAZlmNBl8nVl0mXMA2wRUe5kPdXdHVl2WR\" name=\"iflsig\" type=\"hidden\"></span></span></td><td class=\"fl sblc\" align=\"left\" nowrap=\"\" width=\"25%\"><a href=\"/advanced_search?hl=it&amp;authuser=0\">Ricerca avanzata</a></td></tr></table><input id=\"gbv\" name=\"gbv\" type=\"hidden\" value=\"1\"><script nonce=\"w-5eEySMZdVlTP28KlqloQ\">(function(){var a,b=\"1\";if(document&&document.getElementById)if(\"undefined\"!=typeof XMLHttpRequest)b=\"2\";else if(\"undefined\"!=typeof ActiveXObject){var c,d,e=[\"MSXML2.XMLHTTP.6.0\",\"MSXML2.XMLHTTP.3.0\",\"MSXML2.XMLHTTP\",\"Microsoft.XMLHTTP\"];for(c=0;d=e[c++];)try{new ActiveXObject(d),b=\"2\"}catch(h){}}a=b;if(\"2\"==a&&-1==location.search.indexOf(\"&gbv=2\")){var f=google.gbvu,g=document.getElementById(\"gbv\");g&&(g.value=a);f&&window.setTimeout(function(){location.href=f},0)};}).call(this);</script></form><div id=\"gac_scont\"></div><div style=\"font-size:83%;min-height:3.5em\"><br></div><span id=\"footer\"><div style=\"font-size:10pt\"><div style=\"margin:19px auto;text-align:center\" id=\"WqQANb\"><a href=\"/intl/it/ads/\">Pubblicità</a><a href=\"http://www.google.it/intl/it/services/\">Soluzioni aziendali</a><a href=\"/intl/it/about.html\">Informazioni su Google</a><a href=\"https://www.google.it/setprefdomain?prefdom=US&amp;sig=K_McQzC7uSf_GpJlZi2Kvi6YHUOqw%3D\" id=\"fehl\">Google.com</a></div></div><p style=\"font-size:8pt;color:#70757a\">&copy; 2024 - <a href=\"/intl/it/policies/privacy/\">Privacy</a> - <a href=\"/intl/it/policies/terms/\">Termini</a></p></span></center><script nonce=\"w-5eEySMZdVlTP28KlqloQ\">(function(){window.google.cdo={height:757,width:1440};(function(){var a=window.innerWidth,b=window.innerHeight;if(!a||!b){var c=window.document,d=\"CSS1Compat\"==c.compatMode?c.documentElement:c.body;a=d.clientWidth;b=d.clientHeight}\n",
      "if(a&&b&&(a!=google.cdo.width||b!=google.cdo.height)){var e=google,f=e.log,g=\"/client_204?&atyp=i&biw=\"+a+\"&bih=\"+b+\"&ei=\"+google.kEI,h=\"\",k=[],l=void 0!==window.google&&void 0!==window.google.kOPI&&0!==window.google.kOPI?window.google.kOPI:null;null!=l&&k.push([\"opi\",l.toString()]);for(var m=0;m<k.length;m++){if(0===m||0<m)h+=\"&\";h+=k[m][0]+\"=\"+k[m][1]}f.call(e,\"\",\"\",g+h)};}).call(this);})();</script>  <script nonce=\"w-5eEySMZdVlTP28KlqloQ\">(function(){google.xjs={basecomb:'/xjs/_/js/k\\x3dxjs.hp.en.A4ukdtTvcdA.O/ck\\x3dxjs.hp.hQNhVcUfnfM.L.X.O/am\\x3dAQAAAAIAAAAAAAAAAAAAAAAAAAAACAAAAAAAAAAgAAcgAEAAgEAAAAAA-AEgAAAAAEQAAAEIAICD-I4AQAAWQQCAFw/d\\x3d1/ed\\x3d1/dg\\x3d0/ujg\\x3d1/rs\\x3dACT90oHzNaZU6Tklyvtg2hmcI1CUbVQFYQ',basecss:'/xjs/_/ss/k\\x3dxjs.hp.hQNhVcUfnfM.L.X.O/am\\x3dAQAAAAIAAAAAAAAAAAAAAAAAAAAAAAAAAAAAAAAAAAAgAEAAgEAAAAAAAAAgAAAAAEQAAAEI/rs\\x3dACT90oFzoQEkv4wk4TsaD7b154aEP2it_g',basejs:'/xjs/_/js/k\\x3dxjs.hp.en.A4ukdtTvcdA.O/am\\x3dAAAAAAAAAAAAAAAAAAAAAAAAAAAACAAAAAAAAAAgAAcAAAAAAAAAAAAA-AEAAAAAAAAAAAAAAICD-I4AQAAWQQCAFw/dg\\x3d0/rs\\x3dACT90oG0O_LoegGbo1n-ECzLfQgbJ-LkqA',excm:[]};})();</script> <link href=\"/xjs/_/ss/k=xjs.hp.hQNhVcUfnfM.L.X.O/am=AQAAAAIAAAAAAAAAAAAAAAAAAAAAAAAAAAAAAAAAAAAgAEAAgEAAAAAAAAAgAAAAAEQAAAEI/d=1/ed=1/rs=ACT90oFzoQEkv4wk4TsaD7b154aEP2it_g/m=sb_he,d\" rel=\"stylesheet\" nonce=\"w-5eEySMZdVlTP28KlqloQ\">    <script nonce=\"w-5eEySMZdVlTP28KlqloQ\">(function(){var u='/xjs/_/js/k\\x3dxjs.hp.en.A4ukdtTvcdA.O/am\\x3dAAAAAAAAAAAAAAAAAAAAAAAAAAAACAAAAAAAAAAgAAcAAAAAAAAAAAAA-AEAAAAAAAAAAAAAAICD-I4AQAAWQQCAFw/d\\x3d1/ed\\x3d1/rs\\x3dACT90oG0O_LoegGbo1n-ECzLfQgbJ-LkqA/m\\x3dsb_he,d';var st=0;var amd=0;var v=false;\n",
      "var e=this||self,f=function(a){return a};var g;var h=function(a){this.g=a};h.prototype.toString=function(){return this.g+\"\"};var k={};\n",
      "function l(a,b){a.src=b instanceof h&&b.constructor===h?b.g:\"type_error:TrustedResourceUrl\";var c,d;(c=(b=null==(d=(c=(a.ownerDocument&&a.ownerDocument.defaultView||window).document).querySelector)?void 0:d.call(c,\"script[nonce]\"))?b.nonce||b.getAttribute(\"nonce\")||\"\":\"\")&&a.setAttribute(\"nonce\",c)};var m=function(){var a=document;var b=\"SCRIPT\";\"application/xhtml+xml\"===a.contentType&&(b=b.toLowerCase());return a.createElement(b)};function n(a){a=null===a?\"null\":void 0===a?\"undefined\":a;if(void 0===g){var b=null;var c=e.trustedTypes;if(c&&c.createPolicy){try{b=c.createPolicy(\"goog#html\",{createHTML:f,createScript:f,createScriptURL:f})}catch(d){e.console&&e.console.error(d.message)}g=b}else g=b}a=(b=g)?b.createScriptURL(a):a;return new h(a,k)};void 0===google.ps&&(google.ps=[]);function p(){var a=u,b=function(){};google.lx=google.stvsc?b:function(){q(a);google.lx=b};google.bx||google.lx()}function r(a,b){b&&l(a,n(b));var c=a.onload;a.onload=function(d){c&&c(d);google.ps=google.ps.filter(function(B){return a!==B})};google.ps.push(a);document.body.appendChild(a)}google.as=r;function q(a){google.timers&&google.timers.load&&google.tick&&google.tick(\"load\",\"xjsls\");var b=m();b.onerror=function(){google.ple=1};b.onload=function(){google.ple=0};google.xjsus=void 0;r(b,a);google.aple=-1;google.psa=!0};function t(a){var b=a.getAttribute(\"jscontroller\");return(\"UBXHI\"===b||\"R3fhkb\"===b||\"TSZEqd\"===b)&&a.hasAttribute(\"data-src\")}for(var w=document.getElementsByTagName(\"img\"),x=0,y=w.length;x<y;++x){var z=w[x];Number(z.getAttribute(\"data-atf\"))&1&&t(z)&&(z.src=z.getAttribute(\"data-src\"))};google.xjsu=u;e._F_jsUrl=u;var A=!1;function C(){A||(p(),A=!0)}\n",
      "setTimeout(function(){google&&google.tick&&google.timers&&google.timers.load&&google.tick(\"load\",\"xjspls\");var a;if(!(a=1!==st||!google.caft||v&&\"visible\"!==document.visibilityState))a:{a=document.getElementsByTagName(\"img\");for(var b=0,c=a.length;b<c;b++){var d=a[b];if(d.hasAttribute(\"data-lzy_\")&&Number(d.getAttribute(\"data-atf\"))&1&&!t(d)){a=!0;break a}}a=!1}a?2!==st||!google.rairicb||v&&\"visible\"!==document.visibilityState?p():(window.setTimeout(C,amd),google.rairicb(C)):(window.setTimeout(C,amd),google.caft(C))},0);})();window._ = window._ || {};window._DumpException = _._DumpException = function(e){throw e;};window._s = window._s || {};_s._DumpException = _._DumpException;window._qs = window._qs || {};_qs._DumpException = _._DumpException;(function(){var t=[1,8,0,0,0,6815744,0,142616640,3147521,33554688,37748740,134249984,0,67109136,939524260,2342432,18227264,6160385];window._F_toggles = window._xjs_toggles = t;})();function _F_installCss(c){}\n",
      "(function(){google.jl={bfl:0,dw:false,ine:false,ubm:false,uwp:true,vs:false};})();(function(){var pmc='{\\x22csies\\x22:{},\\x22d\\x22:{},\\x22sb_he\\x22:{\\x22agen\\x22:false,\\x22cgen\\x22:false,\\x22client\\x22:\\x22heirloom-hp\\x22,\\x22dh\\x22:true,\\x22ds\\x22:\\x22\\x22,\\x22fl\\x22:true,\\x22host\\x22:\\x22google.it\\x22,\\x22jsonp\\x22:true,\\x22lm\\x22:true,\\x22msgs\\x22:{\\x22cibl\\x22:\\x22Cancella ricerca\\x22,\\x22dym\\x22:\\x22Forse cercavi:\\x22,\\x22lcky\\x22:\\x22Mi sento fortunato\\x22,\\x22lml\\x22:\\x22Ulteriori informazioni\\x22,\\x22psrc\\x22:\\x22Questa ricerca \\\\u00e8 stata rimossa dalla tua \\\\u003Ca href\\x3d\\\\\\x22/history\\\\\\x22\\\\u003ECronologia web\\\\u003C/a\\\\u003E\\x22,\\x22psrl\\x22:\\x22Rimuovi\\x22,\\x22sbit\\x22:\\x22Ricerca tramite immagine\\x22,\\x22srch\\x22:\\x22Cerca con Google\\x22},\\x22ovr\\x22:{},\\x22pq\\x22:\\x22\\x22,\\x22rfs\\x22:[],\\x22sbas\\x22:\\x220 3px 8px 0 rgba(0,0,0,0.2),0 0 0 1px rgba(0,0,0,0.08)\\x22,\\x22stok\\x22:\\x22pzyeqfZV-fjE_5qjp4cn7_LdUxI\\x22}}';google.pmc=JSON.parse(pmc);})();(function(){var c=function(a){var b=0;return function(){return b<a.length?{done:!1,value:a[b++]}:{done:!0}}};\n",
      "var e=this||self;var g,h;a:{for(var k=[\"CLOSURE_FLAGS\"],l=e,n=0;n<k.length;n++)if(l=l[k[n]],null==l){h=null;break a}h=l}var p=h&&h[610401301];g=null!=p?p:!1;var q,r=e.navigator;q=r?r.userAgentData||null:null;function t(a){return g?q?q.brands.some(function(b){return(b=b.brand)&&-1!=b.indexOf(a)}):!1:!1}function u(a){var b;a:{if(b=e.navigator)if(b=b.userAgent)break a;b=\"\"}return-1!=b.indexOf(a)};function v(){return g?!!q&&0<q.brands.length:!1}function w(){return u(\"Safari\")&&!(x()||(v()?0:u(\"Coast\"))||(v()?0:u(\"Opera\"))||(v()?0:u(\"Edge\"))||(v()?t(\"Microsoft Edge\"):u(\"Edg/\"))||(v()?t(\"Opera\"):u(\"OPR\"))||u(\"Firefox\")||u(\"FxiOS\")||u(\"Silk\")||u(\"Android\"))}function x(){return v()?t(\"Chromium\"):(u(\"Chrome\")||u(\"CriOS\"))&&!(v()?0:u(\"Edge\"))||u(\"Silk\")}function y(){return u(\"Android\")&&!(x()||u(\"Firefox\")||u(\"FxiOS\")||(v()?0:u(\"Opera\"))||u(\"Silk\"))};var z=v()?!1:u(\"Trident\")||u(\"MSIE\");y();x();w();var A;A=\"function\"===typeof Symbol&&\"symbol\"===typeof Symbol()?Symbol():void 0;var B=[];(A?function(a,b){a[A]=b}:function(a,b){void 0!==a.g?a.g=b:Object.defineProperties(a,{g:{value:b,configurable:!0,writable:!0,enumerable:!1}})})(B,55);Object.freeze(B);var C=function(){};Object.freeze(new function(){});Object.freeze(new C);Object.freeze(new C);var D=!z&&!w(),G=function(a){if(/-[a-z]/.test(\"ved\"))return null;if(D&&a.dataset){if(y()&&!(\"ved\"in a.dataset))return null;a=a.dataset.ved;return void 0===a?null:a}return a.getAttribute(\"data-\"+\"ved\".replace(/([A-Z])/g,\"-$1\").toLowerCase())};var H=[],I=null;function J(a){a=a.target;var b=performance.now(),f=[],K=f.concat,d=H;if(!(d instanceof Array)){var m=\"undefined\"!=typeof Symbol&&Symbol.iterator&&d[Symbol.iterator];if(m)d=m.call(d);else if(\"number\"==typeof d.length)d={next:c(d)};else throw Error(\"b`\"+String(d));for(var E=[];!(m=d.next()).done;)E.push(m.value);d=E}H=K.call(f,d,[b]);if(a&&a instanceof HTMLElement)if(a===I){if(b=4<=H.length)b=5>(H[H.length-1]-H[H.length-4])/1E3;if(b){b=google.getEI(a);a.hasAttribute(\"data-ved\")?f=a?G(a)||\"\":\"\":f=(f=\n",
      "a.closest(\"[data-ved]\"))?G(f)||\"\":\"\";f=f||\"\";if(a.hasAttribute(\"jsname\"))a=a.getAttribute(\"jsname\");else{var F;a=null==(F=a.closest(\"[jsname]\"))?void 0:F.getAttribute(\"jsname\")}google.log(\"rcm\",\"&ei=\"+b+\"&tgtved=\"+f+\"&jsname=\"+(a||\"\"))}}else I=a,H=[b]}window.document.addEventListener(\"DOMContentLoaded\",function(){document.body.addEventListener(\"click\",J)});}).call(this);</script></body></html>"
     ]
    }
   ],
   "source": [
    "import java.io.IOException;\n",
    "import java.io.InputStream;\n",
    "import java.net.URL;\n",
    "\n",
    "public class Main{\n",
    "    public static void main(String[]args) throws IOException{\n",
    "        //create a URL object\n",
    "        URL url = new URL(\"https://www.google.it/\");\n",
    "\n",
    "        //Try to open the url file \"Stream\".\n",
    "        try(InputStream urlStream = url.openStream()){\n",
    "            int read;\n",
    "            \n",
    "            while((read = urlStream.read()) != -1){\n",
    "                //converting bytes into char\n",
    "                System.out.print((char) read); \n",
    "            }\n",
    "\n",
    "        }\n",
    "    }\n",
    "}\n",
    "Main.main(new String[]{});"
   ]
  },
  {
   "cell_type": "markdown",
   "metadata": {},
   "source": [
    "* Reading an String, and converting it into an array of bytes"
   ]
  },
  {
   "cell_type": "code",
   "execution_count": 5,
   "metadata": {},
   "outputs": [
    {
     "name": "stdout",
     "output_type": "stream",
     "text": [
      "The byte representation\n",
      "H:72, e:101, l:108, l:108, o:111,  :32, W:87, o:111, r:114, l:108, d:100, !:33, \n",
      "Hello World!\n"
     ]
    }
   ],
   "source": [
    "import java.io.ByteArrayInputStream;\n",
    "import java.io.IOException;\n",
    "import java.io.InputStream;\n",
    "import java.nio.charset.StandardCharsets;\n",
    "\n",
    "\n",
    "//you have to specify what is the encoding to convert from characters to bytes\n",
    "public class Main{\n",
    "    public static void main(String[]args) throws IOException{\n",
    "        //primitive tye, from chars to bytes\n",
    "        byte[] byteArrayPrimitive = \"Hello World!\".getBytes(StandardCharsets.US_ASCII);\n",
    "        //convert it into a ByteArrayInputStream\n",
    "        ByteArrayInputStream byteArrayIS = new ByteArrayInputStream(byteArrayPrimitive);\n",
    "\n",
    "        //Try to open the ByteArrayInputStream (type).\n",
    "        try(InputStream inputStream = byteArrayIS){\n",
    "            int read;\n",
    "            System.out.println(\"The byte representation\");\n",
    "            while((read = inputStream.read()) != -1){\n",
    "                //converting bytes into char\n",
    "                System.out.print((char)read);\n",
    "                \n",
    "                System.out.print(\":\"+read +\", \");\n",
    "            }\n",
    "        }\n",
    "        System.out.println(\"\\nHello World!\");\n",
    "    }\n",
    "}\n",
    "Main.main(new String[]{});"
   ]
  },
  {
   "cell_type": "markdown",
   "metadata": {},
   "source": [
    "* A better way of reading data from InputStream is: use `BufferedInputStream` **Wrapping** InputStream\n",
    "* **Very Fast**"
   ]
  },
  {
   "cell_type": "code",
   "execution_count": 6,
   "metadata": {},
   "outputs": [
    {
     "name": "stdout",
     "output_type": "stream",
     "text": [
      "the file size after read is: 2625  bytes\n",
      "the file size after read is: 2.5634765625  KB\n"
     ]
    }
   ],
   "source": [
    "import java.io.BufferedInputStream;\n",
    "import java.io.FileInputStream;\n",
    "import java.io.IOException;\n",
    "import java.io.InputStream;\n",
    "\n",
    "public class Main{\n",
    "    public static void main(String[]args) throws IOException{\n",
    "\n",
    "        //file path\n",
    "        String fileName = \"C:\\\\Users\\\\bbbolivar\\\\Documents\\\\MEGA\\\\MEGA\\\\all_here\\\\courses\\\\freeCodeCamp\\\\Java programming\\\\Bro Code\\\\Others\\\\resources\\\\solid.txt\";\n",
    "\n",
    "        //wrapping the InputStream into a BufferedInputStream\n",
    "        BufferedInputStream bufferWrapper =  new BufferedInputStream(new FileInputStream(fileName));\n",
    "        //Try to open the resource file \"Stream\".\n",
    "        try(InputStream fileStream = bufferWrapper){\n",
    "            int countBytes = 0; //0 bytes\n",
    "\n",
    "            //-1 is the end of the bytes, we have reach the end of the file \"Stream\".\n",
    "            while(fileStream.read() != -1){\n",
    "                countBytes++; //for each byte found do +1\n",
    "            }\n",
    "            //the length of the String of the file is\n",
    "            System.out.println(\"the file size after read is: \" + countBytes +\"  bytes\");\n",
    "            System.out.println(\"the file size after read is: \" + ((double) countBytes/1024) +\"  KB\");\n",
    "        }\n",
    "    }\n",
    "}\n",
    "Main.main(new String[]{});"
   ]
  },
  {
   "cell_type": "markdown",
   "metadata": {},
   "source": [
    "* Another way of using the `Try`"
   ]
  },
  {
   "cell_type": "code",
   "execution_count": 7,
   "metadata": {},
   "outputs": [],
   "source": [
    "import java.io.BufferedInputStream;\n",
    "import java.io.FileInputStream;\n",
    "import java.io.IOException;\n",
    "import java.io.InputStream;\n",
    "\n",
    "public class Main{\n",
    "    public static void main(String[]args) throws IOException{\n",
    "\n",
    "        //file path\n",
    "        String fileName = \"C:\\\\Users\\\\bbbolivar\\\\Documents\\\\MEGA\\\\MEGA\\\\all_here\\\\courses\\\\freeCodeCamp\\\\Java programming\\\\Bro Code\\\\Others\\\\resources\\\\solid.txt\";\n",
    "\n",
    "        //wrapping the InputStream into a BufferedInputStream\n",
    "        BufferedInputStream bufferWrapper =  new BufferedInputStream(new FileInputStream(fileName));\n",
    "        //Try to open the resource file \"Stream\".\n",
    "        InputStream fileStream = bufferWrapper;\n",
    "\n",
    "        try{\n",
    "            int countBytes = 0; //0 bytes\n",
    "\n",
    "            //-1 is the end of the bytes, we have reach the end of the file \"Stream\".\n",
    "            while(fileStream.read() != -1){\n",
    "                countBytes++; //for each byte found do +1\n",
    "            }\n",
    "            //the length of the String of the file is\n",
    "            System.out.println(\"the file size after read is: \" + countBytes +\"  bytes\");\n",
    "            System.out.println(\"the file size after read is: \" + ((double) countBytes/1024) +\"  KB\");\n",
    "        }finally {\n",
    "            fileStream.close(); //this also throws EX, you might want to enclosed it with try and catch also\n",
    "        }\n",
    "    }\n",
    "}"
   ]
  },
  {
   "cell_type": "markdown",
   "metadata": {},
   "source": [
    "* we can use BufferedInputStream also for URL"
   ]
  },
  {
   "cell_type": "code",
   "execution_count": 8,
   "metadata": {},
   "outputs": [
    {
     "name": "stdout",
     "output_type": "stream",
     "text": [
      "<!doctype html><html itemscope=\"\" itemtype=\"http://schema.org/WebPage\" lang=\"it\"><head><meta content=\"text/html; charset=UTF-8\" http-equiv=\"Content-Type\"><meta content=\"/images/branding/googleg/1x/googleg_standard_color_128dp.png\" itemprop=\"image\"><title>Google</title><script nonce=\"Tl2rvOrurNhe_fBB47WEZQ\">(function(){var _g={kEI:'CH9ZZs-FEsTdptQPx-S82As',kEXPI:'0,3700332,617,361,77,541530,2891,3926,7828,77401,230,63353,43865,6660,49751,2,39761,6699,41949,64698,19673,8155,23350,22436,9779,42459,20198,47258,5793,4,1,1,20122,3030,15816,1804,26408,11274,9400,1428,87,120,42266,5225878,890,623,38,44,5991726,2839987,180,2,50,26676273,1305643,16672,43887,3,318,4,1281,3,2124363,23029351,12799,8408,16665,28027,36870,1923,10958,6407,2866,5182,5797,15165,7981,201,389,5548,11938,15379,13461,12799,11581,3012,1792,1953,156,399,2084,4401,5226,3878,1005,406,6324,8,5155,1437,1036,390,1114,744,2,1,759,3092,208,120,1372,1277,568,5,123,2881,707,409,3162,1,3898,2168,5247,2716,229,1510,35,357,162,754,137,2874,643,3,2733,1738,151,3894,96,23,1272,5075,908,85,1119,3,473,781,52,442,22,83,72,424,34,519,113,1265,739,833,1396,2,750,757,3,1396,21,3,5,1352,1842,1815,255,11,33,975,2,317,124,1133,147,325,5,1605,810,117,261,53,689,732,233,375,20,57,126,2731,478,1931,843,6,1544,2870,148,854,223,98,135,8,468,1168,1225,4,1618,1365,371,591,44,409,594,3,68,1146,15,48,259,653,90,104,536,262,90,642,282,371,656,3,213,423,199,378,160,106,142,1066,1390,396,339,10,798,222,720,129,533,1,1614,187,520,710,21580124,4264,3,980,5,4265,3044,1902,4,382,3587,1996,659,759,609,1230',kBL:'hK_B',kOPI:89978449};(function(){var a;(null==(a=window.google)?0:a.stvsc)?google.kEI=_g.kEI:window.google=_g;}).call(this);})();(function(){google.sn='webhp';google.kHL='it';})();(function(){\n",
      "var h=this||self;function l(){return void 0!==window.google&&void 0!==window.google.kOPI&&0!==window.google.kOPI?window.google.kOPI:null};var m,n=[];function p(a){for(var b;a&&(!a.getAttribute||!(b=a.getAttribute(\"eid\")));)a=a.parentNode;return b||m}function q(a){for(var b=null;a&&(!a.getAttribute||!(b=a.getAttribute(\"leid\")));)a=a.parentNode;return b}function r(a){/^http:/i.test(a)&&\"https:\"===window.location.protocol&&(google.ml&&google.ml(Error(\"a\"),!1,{src:a,glmm:1}),a=\"\");return a}\n",
      "function t(a,b,c,d,k){var e=\"\";-1===b.search(\"&ei=\")&&(e=\"&ei=\"+p(d),-1===b.search(\"&lei=\")&&(d=q(d))&&(e+=\"&lei=\"+d));d=\"\";var g=-1===b.search(\"&cshid=\")&&\"slh\"!==a,f=[];f.push([\"zx\",Date.now().toString()]);h._cshid&&g&&f.push([\"cshid\",h._cshid]);c=c();null!=c&&f.push([\"opi\",c.toString()]);for(c=0;c<f.length;c++){if(0===c||0<c)d+=\"&\";d+=f[c][0]+\"=\"+f[c][1]}return\"/\"+(k||\"gen_204\")+\"?atyp=i&ct=\"+String(a)+\"&cad=\"+(b+e+d)};m=google.kEI;google.getEI=p;google.getLEI=q;google.ml=function(){return null};google.log=function(a,b,c,d,k,e){e=void 0===e?l:e;c||(c=t(a,b,e,d,k));if(c=r(c)){a=new Image;var g=n.length;n[g]=a;a.onerror=a.onload=a.onabort=function(){delete n[g]};a.src=c}};google.logUrl=function(a,b){b=void 0===b?l:b;return t(\"\",a,b)};}).call(this);(function(){google.y={};google.sy=[];google.x=function(a,b){if(a)var c=a.id;else{do c=Math.random();while(google.y[c])}google.y[c]=[a,b];return!1};google.sx=function(a){google.sy.push(a)};google.lm=[];google.plm=function(a){google.lm.push.apply(google.lm,a)};google.lq=[];google.load=function(a,b,c){google.lq.push([[a],b,c])};google.loadAll=function(a,b){google.lq.push([a,b])};google.bx=!1;google.lx=function(){};var d=[];google.fce=function(a,b,c,e){d.push([a,b,c,e])};google.qce=d;}).call(this);google.f={};(function(){\n",
      "document.documentElement.addEventListener(\"submit\",function(b){var a;if(a=b.target){var c=a.getAttribute(\"data-submitfalse\");a=\"1\"===c||\"q\"===c&&!a.elements.q.value?!0:!1}else a=!1;a&&(b.preventDefault(),b.stopPropagation())},!0);document.documentElement.addEventListener(\"click\",function(b){var a;a:{for(a=b.target;a&&a!==document.documentElement;a=a.parentElement)if(\"A\"===a.tagName){a=\"1\"===a.getAttribute(\"data-nohref\");break a}a=!1}a&&b.preventDefault()},!0);}).call(this);</script><style>#gbar,#guser{font-size:13px;padding-top:1px !important;}#gbar{height:22px}#guser{padding-bottom:7px !important;text-align:right}.gbh,.gbd{border-top:1px solid #c9d7f1;font-size:1px}.gbh{height:0;position:absolute;top:24px;width:100%}@media all{.gb1{height:22px;margin-right:.5em;vertical-align:top}#gbar{float:left}}a.gb1,a.gb4{text-decoration:underline !important}a.gb1,a.gb4{color:#00c !important}.gbi .gb4{color:#dd8e27 !important}.gbf .gb4{color:#900 !important}\n",
      "</style><style>body,td,a,p,.h{font-family:arial,sans-serif}body{margin:0;overflow-y:scroll}#gog{padding:3px 8px 0}td{line-height:.8em}.gac_m td{line-height:17px}form{margin-bottom:20px}.h{color:#1967d2}em{font-weight:bold;font-style:normal}.lst{height:25px;width:496px}.gsfi,.lst{font:18px arial,sans-serif}.gsfs{font:17px arial,sans-serif}.ds{display:inline-box;display:inline-block;margin:3px 0 4px;margin-left:4px}input{font-family:inherit}body{background:#fff;color:#000}a{color:#681da8;text-decoration:none}a:hover,a:active{text-decoration:underline}.fl a{color:#1967d2}a:visited{color:#681da8}.sblc{padding-top:5px}.sblc a{display:block;margin:2px 0;margin-left:13px;font-size:11px}.lsbb{background:#f8f9fa;border:solid 1px;border-color:#dadce0 #70757a #70757a #dadce0;height:30px}.lsbb{display:block}#WqQANb a{display:inline-block;margin:0 12px}.lsb{background:url(/images/nav_logo229.png) 0 -261px repeat-x;color:#000;border:none;cursor:pointer;height:30px;margin:0;outline:0;font:15px arial,sans-serif;vertical-align:top}.lsb:active{background:#dadce0}.lst:focus{outline:none}</style><script nonce=\"Tl2rvOrurNhe_fBB47WEZQ\">(function(){window.google.erd={jsr:1,bv:2018,de:true};\n",
      "var h=this||self;var k,l=null!=(k=h.mei)?k:1,n,p=null!=(n=h.sdo)?n:!0,q=0,r,t=google.erd,v=t.jsr;google.ml=function(a,b,d,m,e){e=void 0===e?2:e;b&&(r=a&&a.message);void 0===d&&(d={});d.cad=\"ple_\"+google.ple+\".aple_\"+google.aple;if(google.dl)return google.dl(a,e,d,!0),null;b=d;if(0>v){window.console&&console.error(a,b);if(-2===v)throw a;b=!1}else b=!a||!a.message||\"Error loading script\"===a.message||q>=l&&!m?!1:!0;if(!b)return null;q++;d=d||{};b=encodeURIComponent;var c=\"/gen_204?atyp=i&ei=\"+b(google.kEI);google.kEXPI&&(c+=\"&jexpid=\"+b(google.kEXPI));c+=\"&srcpg=\"+b(google.sn)+\"&jsr=\"+b(t.jsr)+\n",
      "\"&bver=\"+b(t.bv);var f=a.lineNumber;void 0!==f&&(c+=\"&line=\"+f);var g=a.fileName;g&&(0<g.indexOf(\"-extension:/\")&&(e=3),c+=\"&script=\"+b(g),f&&g===window.location.href&&(f=document.documentElement.outerHTML.split(\"\\n\")[f],c+=\"&cad=\"+b(f?f.substring(0,300):\"No script found.\")));google.ple&&1===google.ple&&(e=2);c+=\"&jsel=\"+e;for(var u in d)c+=\"&\",c+=b(u),c+=\"=\",c+=b(d[u]);c=c+\"&emsg=\"+b(a.name+\": \"+a.message);c=c+\"&jsst=\"+b(a.stack||\"N/A\");12288<=c.length&&(c=c.substr(0,12288));a=c;m||google.log(0,\"\",a);return a};window.onerror=function(a,b,d,m,e){r!==a&&(a=e instanceof Error?e:Error(a),void 0===d||\"lineNumber\"in a||(a.lineNumber=d),void 0===b||\"fileName\"in a||(a.fileName=b),google.ml(a,!1,void 0,!1,\"SyntaxError\"===a.name||\"SyntaxError\"===a.message.substring(0,11)||-1!==a.message.indexOf(\"Script error\")?3:0));r=null;p&&q>=l&&(window.onerror=null)};})();</script></head><body bgcolor=\"#fff\"><script nonce=\"Tl2rvOrurNhe_fBB47WEZQ\">(function(){var src='/images/nav_logo229.png';var iesg=false;document.body.onload = function(){window.n && window.n();if (document.images){new Image().src=src;}\n",
      "if (!iesg){document.f&&document.f.q.focus();document.gbqf&&document.gbqf.q.focus();}\n",
      "}\n",
      "})();</script><div id=\"mngb\"><div id=gbar><nobr><b class=gb1>Ricerca</b> <a class=gb1 href=\"https://www.google.it/imghp?hl=it&tab=wi\">Immagini</a> <a class=gb1 href=\"https://maps.google.it/maps?hl=it&tab=wl\">Maps</a> <a class=gb1 href=\"https://play.google.com/?hl=it&tab=w8\">Play</a> <a class=gb1 href=\"https://www.youtube.com/?tab=w1\">YouTube</a> <a class=gb1 href=\"https://news.google.com/?tab=wn\">News</a> <a class=gb1 href=\"https://mail.google.com/mail/?tab=wm\">Gmail</a> <a class=gb1 href=\"https://drive.google.com/?tab=wo\">Drive</a> <a class=gb1 style=\"text-decoration:none\" href=\"https://www.google.it/intl/it/about/products?tab=wh\"><u>Altro</u> &raquo;</a></nobr></div><div id=guser width=100%><nobr><span id=gbn class=gbi></span><span id=gbf class=gbf></span><span id=gbe></span><a href=\"http://www.google.it/history/optout?hl=it\" class=gb4>Cronologia web</a> | <a  href=\"/preferences?hl=it\" class=gb4>Impostazioni</a> | <a target=_top id=gb_70 href=\"https://accounts.google.com/ServiceLogin?hl=it&passive=true&continue=https://www.google.it/&ec=GAZAAQ\" class=gb4>Accedi</a></nobr></div><div class=gbh style=left:0></div><div class=gbh style=right:0></div></div><center><br clear=\"all\" id=\"lgpd\"><div id=\"lga\"><img alt=\"Google\" height=\"92\" src=\"/images/branding/googlelogo/1x/googlelogo_white_background_color_272x92dp.png\" style=\"padding:28px 0 14px\" width=\"272\" id=\"hplogo\"><br><br></div><form action=\"/search\" name=\"f\"><table cellpadding=\"0\" cellspacing=\"0\"><tr valign=\"top\"><td width=\"25%\">&nbsp;</td><td align=\"center\" nowrap=\"\"><input name=\"ie\" value=\"ISO-8859-1\" type=\"hidden\"><input value=\"it\" name=\"hl\" type=\"hidden\"><input name=\"source\" type=\"hidden\" value=\"hp\"><input name=\"biw\" type=\"hidden\"><input name=\"bih\" type=\"hidden\"><div class=\"ds\" style=\"height:32px;margin:4px 0\"><input class=\"lst\" style=\"margin:0;padding:5px 8px 0 6px;vertical-align:top;color:#000\" autocomplete=\"off\" value=\"\" title=\"Cerca con Google\" maxlength=\"2048\" name=\"q\" size=\"57\"></div><br style=\"line-height:0\"><span class=\"ds\"><span class=\"lsbb\"><input class=\"lsb\" value=\"Cerca con Google\" name=\"btnG\" type=\"submit\"></span></span><span class=\"ds\"><span class=\"lsbb\"><input class=\"lsb\" id=\"tsuid_1\" value=\"Mi sento fortunato\" name=\"btnI\" type=\"submit\"><script nonce=\"Tl2rvOrurNhe_fBB47WEZQ\">(function(){var id='tsuid_1';document.getElementById(id).onclick = function(){if (this.form.q.value){this.checked = 1;if (this.form.iflsig)this.form.iflsig.disabled = false;}\n",
      "else top.location='/doodles/';};})();</script><input value=\"AL9hbdgAAAAAZlmNGE9QArblguY4B36xCjr7zr7sfIDz\" name=\"iflsig\" type=\"hidden\"></span></span></td><td class=\"fl sblc\" align=\"left\" nowrap=\"\" width=\"25%\"><a href=\"/advanced_search?hl=it&amp;authuser=0\">Ricerca avanzata</a></td></tr></table><input id=\"gbv\" name=\"gbv\" type=\"hidden\" value=\"1\"><script nonce=\"Tl2rvOrurNhe_fBB47WEZQ\">(function(){var a,b=\"1\";if(document&&document.getElementById)if(\"undefined\"!=typeof XMLHttpRequest)b=\"2\";else if(\"undefined\"!=typeof ActiveXObject){var c,d,e=[\"MSXML2.XMLHTTP.6.0\",\"MSXML2.XMLHTTP.3.0\",\"MSXML2.XMLHTTP\",\"Microsoft.XMLHTTP\"];for(c=0;d=e[c++];)try{new ActiveXObject(d),b=\"2\"}catch(h){}}a=b;if(\"2\"==a&&-1==location.search.indexOf(\"&gbv=2\")){var f=google.gbvu,g=document.getElementById(\"gbv\");g&&(g.value=a);f&&window.setTimeout(function(){location.href=f},0)};}).call(this);</script></form><div id=\"gac_scont\"></div><div style=\"font-size:83%;min-height:3.5em\"><br></div><span id=\"footer\"><div style=\"font-size:10pt\"><div style=\"margin:19px auto;text-align:center\" id=\"WqQANb\"><a href=\"/intl/it/ads/\">Pubblicità</a><a href=\"http://www.google.it/intl/it/services/\">Soluzioni aziendali</a><a href=\"/intl/it/about.html\">Informazioni su Google</a><a href=\"https://www.google.it/setprefdomain?prefdom=US&amp;sig=K_3ZDMeJqTft9P76oD0Y3hRwN0GEQ%3D\" id=\"fehl\">Google.com</a></div></div><p style=\"font-size:8pt;color:#70757a\">&copy; 2024 - <a href=\"/intl/it/policies/privacy/\">Privacy</a> - <a href=\"/intl/it/policies/terms/\">Termini</a></p></span></center><script nonce=\"Tl2rvOrurNhe_fBB47WEZQ\">(function(){window.google.cdo={height:757,width:1440};(function(){var a=window.innerWidth,b=window.innerHeight;if(!a||!b){var c=window.document,d=\"CSS1Compat\"==c.compatMode?c.documentElement:c.body;a=d.clientWidth;b=d.clientHeight}\n",
      "if(a&&b&&(a!=google.cdo.width||b!=google.cdo.height)){var e=google,f=e.log,g=\"/client_204?&atyp=i&biw=\"+a+\"&bih=\"+b+\"&ei=\"+google.kEI,h=\"\",k=[],l=void 0!==window.google&&void 0!==window.google.kOPI&&0!==window.google.kOPI?window.google.kOPI:null;null!=l&&k.push([\"opi\",l.toString()]);for(var m=0;m<k.length;m++){if(0===m||0<m)h+=\"&\";h+=k[m][0]+\"=\"+k[m][1]}f.call(e,\"\",\"\",g+h)};}).call(this);})();</script>  <script nonce=\"Tl2rvOrurNhe_fBB47WEZQ\">(function(){google.xjs={basecomb:'/xjs/_/js/k\\x3dxjs.hp.en.A4ukdtTvcdA.O/ck\\x3dxjs.hp.hQNhVcUfnfM.L.X.O/am\\x3dAQAAAAIAAAAAAAAAAAAAAAAAAAAACAAAAAAAAAAgAAcgAEAAgEAAAAAA-AEgAAAAAEQAAAEIAICD-I4AQAAWQQCAFw/d\\x3d1/ed\\x3d1/dg\\x3d0/ujg\\x3d1/rs\\x3dACT90oHzNaZU6Tklyvtg2hmcI1CUbVQFYQ',basecss:'/xjs/_/ss/k\\x3dxjs.hp.hQNhVcUfnfM.L.X.O/am\\x3dAQAAAAIAAAAAAAAAAAAAAAAAAAAAAAAAAAAAAAAAAAAgAEAAgEAAAAAAAAAgAAAAAEQAAAEI/rs\\x3dACT90oFzoQEkv4wk4TsaD7b154aEP2it_g',basejs:'/xjs/_/js/k\\x3dxjs.hp.en.A4ukdtTvcdA.O/am\\x3dAAAAAAAAAAAAAAAAAAAAAAAAAAAACAAAAAAAAAAgAAcAAAAAAAAAAAAA-AEAAAAAAAAAAAAAAICD-I4AQAAWQQCAFw/dg\\x3d0/rs\\x3dACT90oG0O_LoegGbo1n-ECzLfQgbJ-LkqA',excm:[]};})();</script> <link href=\"/xjs/_/ss/k=xjs.hp.hQNhVcUfnfM.L.X.O/am=AQAAAAIAAAAAAAAAAAAAAAAAAAAAAAAAAAAAAAAAAAAgAEAAgEAAAAAAAAAgAAAAAEQAAAEI/d=1/ed=1/rs=ACT90oFzoQEkv4wk4TsaD7b154aEP2it_g/m=sb_he,d\" rel=\"stylesheet\" nonce=\"Tl2rvOrurNhe_fBB47WEZQ\">    <script nonce=\"Tl2rvOrurNhe_fBB47WEZQ\">(function(){var u='/xjs/_/js/k\\x3dxjs.hp.en.A4ukdtTvcdA.O/am\\x3dAAAAAAAAAAAAAAAAAAAAAAAAAAAACAAAAAAAAAAgAAcAAAAAAAAAAAAA-AEAAAAAAAAAAAAAAICD-I4AQAAWQQCAFw/d\\x3d1/ed\\x3d1/rs\\x3dACT90oG0O_LoegGbo1n-ECzLfQgbJ-LkqA/m\\x3dsb_he,d';var st=0;var amd=0;var v=false;\n",
      "var e=this||self,f=function(a){return a};var g;var h=function(a){this.g=a};h.prototype.toString=function(){return this.g+\"\"};var k={};\n",
      "function l(a,b){a.src=b instanceof h&&b.constructor===h?b.g:\"type_error:TrustedResourceUrl\";var c,d;(c=(b=null==(d=(c=(a.ownerDocument&&a.ownerDocument.defaultView||window).document).querySelector)?void 0:d.call(c,\"script[nonce]\"))?b.nonce||b.getAttribute(\"nonce\")||\"\":\"\")&&a.setAttribute(\"nonce\",c)};var m=function(){var a=document;var b=\"SCRIPT\";\"application/xhtml+xml\"===a.contentType&&(b=b.toLowerCase());return a.createElement(b)};function n(a){a=null===a?\"null\":void 0===a?\"undefined\":a;if(void 0===g){var b=null;var c=e.trustedTypes;if(c&&c.createPolicy){try{b=c.createPolicy(\"goog#html\",{createHTML:f,createScript:f,createScriptURL:f})}catch(d){e.console&&e.console.error(d.message)}g=b}else g=b}a=(b=g)?b.createScriptURL(a):a;return new h(a,k)};void 0===google.ps&&(google.ps=[]);function p(){var a=u,b=function(){};google.lx=google.stvsc?b:function(){q(a);google.lx=b};google.bx||google.lx()}function r(a,b){b&&l(a,n(b));var c=a.onload;a.onload=function(d){c&&c(d);google.ps=google.ps.filter(function(B){return a!==B})};google.ps.push(a);document.body.appendChild(a)}google.as=r;function q(a){google.timers&&google.timers.load&&google.tick&&google.tick(\"load\",\"xjsls\");var b=m();b.onerror=function(){google.ple=1};b.onload=function(){google.ple=0};google.xjsus=void 0;r(b,a);google.aple=-1;google.psa=!0};function t(a){var b=a.getAttribute(\"jscontroller\");return(\"UBXHI\"===b||\"R3fhkb\"===b||\"TSZEqd\"===b)&&a.hasAttribute(\"data-src\")}for(var w=document.getElementsByTagName(\"img\"),x=0,y=w.length;x<y;++x){var z=w[x];Number(z.getAttribute(\"data-atf\"))&1&&t(z)&&(z.src=z.getAttribute(\"data-src\"))};google.xjsu=u;e._F_jsUrl=u;var A=!1;function C(){A||(p(),A=!0)}\n",
      "setTimeout(function(){google&&google.tick&&google.timers&&google.timers.load&&google.tick(\"load\",\"xjspls\");var a;if(!(a=1!==st||!google.caft||v&&\"visible\"!==document.visibilityState))a:{a=document.getElementsByTagName(\"img\");for(var b=0,c=a.length;b<c;b++){var d=a[b];if(d.hasAttribute(\"data-lzy_\")&&Number(d.getAttribute(\"data-atf\"))&1&&!t(d)){a=!0;break a}}a=!1}a?2!==st||!google.rairicb||v&&\"visible\"!==document.visibilityState?p():(window.setTimeout(C,amd),google.rairicb(C)):(window.setTimeout(C,amd),google.caft(C))},0);})();window._ = window._ || {};window._DumpException = _._DumpException = function(e){throw e;};window._s = window._s || {};_s._DumpException = _._DumpException;window._qs = window._qs || {};_qs._DumpException = _._DumpException;(function(){var t=[1,8,0,0,0,2621440,0,142616640,3147521,33554688,37748740,134249984,0,67109136,939524260,2342432,18227264,6160385];window._F_toggles = window._xjs_toggles = t;})();function _F_installCss(c){}\n",
      "(function(){google.jl={bfl:0,dw:false,ine:false,ubm:false,uwp:true,vs:false};})();(function(){var pmc='{\\x22d\\x22:{},\\x22sb_he\\x22:{\\x22agen\\x22:false,\\x22cgen\\x22:false,\\x22client\\x22:\\x22heirloom-hp\\x22,\\x22dh\\x22:true,\\x22ds\\x22:\\x22\\x22,\\x22fl\\x22:true,\\x22host\\x22:\\x22google.it\\x22,\\x22jsonp\\x22:true,\\x22lm\\x22:true,\\x22msgs\\x22:{\\x22cibl\\x22:\\x22Cancella ricerca\\x22,\\x22dym\\x22:\\x22Forse cercavi:\\x22,\\x22lcky\\x22:\\x22Mi sento fortunato\\x22,\\x22lml\\x22:\\x22Ulteriori informazioni\\x22,\\x22psrc\\x22:\\x22Questa ricerca \\\\u00e8 stata rimossa dalla tua \\\\u003Ca href\\x3d\\\\\\x22/history\\\\\\x22\\\\u003ECronologia web\\\\u003C/a\\\\u003E\\x22,\\x22psrl\\x22:\\x22Rimuovi\\x22,\\x22sbit\\x22:\\x22Ricerca tramite immagine\\x22,\\x22srch\\x22:\\x22Cerca con Google\\x22},\\x22ovr\\x22:{},\\x22pq\\x22:\\x22\\x22,\\x22rfs\\x22:[],\\x22sbas\\x22:\\x220 3px 8px 0 rgba(0,0,0,0.2),0 0 0 1px rgba(0,0,0,0.08)\\x22,\\x22stok\\x22:\\x22wvylKqg7w2gIQLsSUxXROX8wdVY\\x22}}';google.pmc=JSON.parse(pmc);})();(function(){var c=function(a){var b=0;return function(){return b<a.length?{done:!1,value:a[b++]}:{done:!0}}};\n",
      "var e=this||self;var g,h;a:{for(var k=[\"CLOSURE_FLAGS\"],l=e,n=0;n<k.length;n++)if(l=l[k[n]],null==l){h=null;break a}h=l}var p=h&&h[610401301];g=null!=p?p:!1;var q,r=e.navigator;q=r?r.userAgentData||null:null;function t(a){return g?q?q.brands.some(function(b){return(b=b.brand)&&-1!=b.indexOf(a)}):!1:!1}function u(a){var b;a:{if(b=e.navigator)if(b=b.userAgent)break a;b=\"\"}return-1!=b.indexOf(a)};function v(){return g?!!q&&0<q.brands.length:!1}function w(){return u(\"Safari\")&&!(x()||(v()?0:u(\"Coast\"))||(v()?0:u(\"Opera\"))||(v()?0:u(\"Edge\"))||(v()?t(\"Microsoft Edge\"):u(\"Edg/\"))||(v()?t(\"Opera\"):u(\"OPR\"))||u(\"Firefox\")||u(\"FxiOS\")||u(\"Silk\")||u(\"Android\"))}function x(){return v()?t(\"Chromium\"):(u(\"Chrome\")||u(\"CriOS\"))&&!(v()?0:u(\"Edge\"))||u(\"Silk\")}function y(){return u(\"Android\")&&!(x()||u(\"Firefox\")||u(\"FxiOS\")||(v()?0:u(\"Opera\"))||u(\"Silk\"))};var z=v()?!1:u(\"Trident\")||u(\"MSIE\");y();x();w();var A;A=\"function\"===typeof Symbol&&\"symbol\"===typeof Symbol()?Symbol():void 0;var B=[];(A?function(a,b){a[A]=b}:function(a,b){void 0!==a.g?a.g=b:Object.defineProperties(a,{g:{value:b,configurable:!0,writable:!0,enumerable:!1}})})(B,55);Object.freeze(B);var C=function(){};Object.freeze(new function(){});Object.freeze(new C);Object.freeze(new C);var D=!z&&!w(),G=function(a){if(/-[a-z]/.test(\"ved\"))return null;if(D&&a.dataset){if(y()&&!(\"ved\"in a.dataset))return null;a=a.dataset.ved;return void 0===a?null:a}return a.getAttribute(\"data-\"+\"ved\".replace(/([A-Z])/g,\"-$1\").toLowerCase())};var H=[],I=null;function J(a){a=a.target;var b=performance.now(),f=[],K=f.concat,d=H;if(!(d instanceof Array)){var m=\"undefined\"!=typeof Symbol&&Symbol.iterator&&d[Symbol.iterator];if(m)d=m.call(d);else if(\"number\"==typeof d.length)d={next:c(d)};else throw Error(\"b`\"+String(d));for(var E=[];!(m=d.next()).done;)E.push(m.value);d=E}H=K.call(f,d,[b]);if(a&&a instanceof HTMLElement)if(a===I){if(b=4<=H.length)b=5>(H[H.length-1]-H[H.length-4])/1E3;if(b){b=google.getEI(a);a.hasAttribute(\"data-ved\")?f=a?G(a)||\"\":\"\":f=(f=\n",
      "a.closest(\"[data-ved]\"))?G(f)||\"\":\"\";f=f||\"\";if(a.hasAttribute(\"jsname\"))a=a.getAttribute(\"jsname\");else{var F;a=null==(F=a.closest(\"[jsname]\"))?void 0:F.getAttribute(\"jsname\")}google.log(\"rcm\",\"&ei=\"+b+\"&tgtved=\"+f+\"&jsname=\"+(a||\"\"))}}else I=a,H=[b]}window.document.addEventListener(\"DOMContentLoaded\",function(){document.body.addEventListener(\"click\",J)});}).call(this);</script></body></html>"
     ]
    }
   ],
   "source": [
    "import java.io.IOException;\n",
    "import java.io.InputStream;\n",
    "import java.net.URL;\n",
    "\n",
    "public class Main{\n",
    "    public static void main(String[]args) throws IOException{\n",
    "        //create a URL object\n",
    "        URL url = new URL(\"https://www.google.it/\");\n",
    "\n",
    "        //Try to open the url file \"Stream\" wrapped by BufferedInputStream\n",
    "        try(InputStream urlStream = new BufferedInputStream(url.openStream())){\n",
    "            int read;\n",
    "            \n",
    "            while((read = urlStream.read()) != -1){\n",
    "                //converting bytes into char\n",
    "                System.out.print((char) read); \n",
    "            }\n",
    "\n",
    "        }\n",
    "    }\n",
    "}\n",
    "Main.main(new String[]{});"
   ]
  },
  {
   "cell_type": "markdown",
   "metadata": {},
   "source": [
    "* **No** recommended to use BufferedInputStream for ByteArrayInputStream"
   ]
  },
  {
   "cell_type": "markdown",
   "metadata": {},
   "source": [
    "--- \n",
    "* Using `OutputStream`\n",
    "    * `write()`: used to write an specific byte to the outputStream\n",
    "    * We can write in the file system or in a ByteArray also\n",
    "    * Also recommended to use BufferedOutputStream\n",
    "    * append to file, might be true or false, as you prefer\n",
    "    * Option 1: `OutputStream name = new FileOutputStream(filePathWithFileName, append:true);`\n",
    "    * Option 2: `OutputStream name = new BufferedOutputStream(new FileOutputStream(filePathWithFileName, append:true);`\n",
    "    * If it is a .txt file, use writter\n",
    "    * Option 3: `FileWriter name = new FileWriter(filePathWithFileName, append:true);` \n",
    "    * Option 4: `BufferedWriter name = new BufferedWriter(new FileWriter(filePathWithFileName,  append:true);` "
   ]
  },
  {
   "cell_type": "code",
   "execution_count": 9,
   "metadata": {},
   "outputs": [],
   "source": [
    "import java.io.*;\n",
    "\n",
    "public class Main{\n",
    "    public static void main(String[]args) throws IOException{\n",
    "\n",
    "        //file path\n",
    "        String filePath = \"C:\\\\Users\\\\bbbolivar\\\\Documents\\\\MEGA\\\\MEGA\\\\all_here\\\\courses\\\\freeCodeCamp\\\\Java programming\\\\Bro Code\\\\Others\\\\resources\\\\outputStream1.txt\";\n",
    "        String filePath2 = \"C:\\\\Users\\\\bbbolivar\\\\Documents\\\\MEGA\\\\MEGA\\\\all_here\\\\courses\\\\freeCodeCamp\\\\Java programming\\\\Bro Code\\\\Others\\\\resources\\\\outputStream2.txt\";\n",
    "        //wrapping the InputStream into a BufferedInputStream\n",
    "        BufferedOutputStream theOutputStream = new BufferedOutputStream(new FileOutputStream(filePath, true));\n",
    "        //Try to open the resource file \"Stream\".\n",
    "\n",
    "        try(OutputStream outputFileStream = theOutputStream){ //append to file: true\n",
    "            int number = 10;\n",
    "            String stringNumber = String.valueOf(number);\n",
    "            outputFileStream.write(20); //error, will write something strange\n",
    "            outputFileStream.write(' ');\n",
    "            outputFileStream.write(Integer.parseInt(String.valueOf(20))); //solved\n",
    "            outputFileStream.write(' ');\n",
    "            outputFileStream.write('A');\n",
    "            outputFileStream.write(' ');\n",
    "            //outputFileStream.write(\"String\"); //error, does not compile even\n",
    "            outputFileStream.write(' ');\n",
    "            outputFileStream.write(\"String\".getBytes()); //solved\n",
    "            outputFileStream.write(' ');\n",
    "            //outputFileStream.write(String.valueOf(30)); //error, only with writter\n",
    "            outputFileStream.write(' ');\n",
    "            outputFileStream.write(String.valueOf(30).getBytes()); //solved\n",
    "            outputFileStream.write(' ');\n",
    "            outputFileStream.write(stringNumber.getBytes()); //same as before\n",
    "            outputFileStream.write(' ');\n",
    "        }\n",
    "\n",
    "        \n",
    "//        //if file is a txt we can use FileWritter\n",
    "//        try(FileWriter outputFileStream = new FileWriter(filePath2, true)){\n",
    "//            outputFileStream.write(\"String allowed here, but integer not allowed\");\n",
    "//            outputFileStream.write(' ');\n",
    "//            outputFileStream.write('A');\n",
    "//            outputFileStream.write(' ');\n",
    "//            outputFileStream.write(10); //error, not allow integer\n",
    "//            outputFileStream.write(String.valueOf(10));\n",
    "//        }\n",
    "        \n",
    "// Or using buffer, the better way\n",
    "        BufferedWriter theOutputStream2 = new BufferedWriter(new FileWriter(filePath2, true));\n",
    "        //if file is a txt we can use FileWritter\n",
    "        try(BufferedWriter outputFileStream = theOutputStream2){\n",
    "            outputFileStream.write(\"String allowed here, but integer not allowed\");\n",
    "            outputFileStream.write(' ');\n",
    "            outputFileStream.write('A');\n",
    "            outputFileStream.write(' ');\n",
    "            outputFileStream.write(10); //error, not allow integer\n",
    "            outputFileStream.write(String.valueOf(10));\n",
    "        }\n",
    "    }\n",
    "}\n",
    "Main.main(new String[]{});\n"
   ]
  },
  {
   "cell_type": "markdown",
   "metadata": {},
   "source": [
    "* Remmember to do the same but using ByteArray for OutputStream"
   ]
  },
  {
   "cell_type": "markdown",
   "metadata": {},
   "source": [
    "* To write data use `Writer`, and `Reader`, to work with the method `read and write`\n",
    "---"
   ]
  },
  {
   "cell_type": "markdown",
   "metadata": {},
   "source": [
    "* Wrapping with `InputStreamReader` instead of `BufferedInputStream`\n",
    "* Or directly use `FileReader` without any wrapping of type `InputStreamReader`, `BufferedInputStream` and also without `FileInputStream`"
   ]
  },
  {
   "cell_type": "code",
   "execution_count": 10,
   "metadata": {},
   "outputs": [
    {
     "name": "stdout",
     "output_type": "stream",
     "text": [
      "SOLID PRINCIPLES\n",
      "-----------------------------\n",
      "\n",
      "* Single responsability: Each class should have only one sole purpose, and not be filled with excessive functionality\n",
      "\t* ie. adding printing function to a class that calculates the area of a figure, violates this principle\n",
      "\t\t* sol: creates a class that prints\n",
      "-----------------------------\n",
      "* Open Closed: Classes should be open for EXTENSION, closed for modification. Modification means changing the code of an existing class, and extension means adding new functionality.\n",
      "\t* If i add another object, should i modify the existing code ? I should not.. otherwise is not open closed\n",
      "\t*  ie. in a class that calculates the area of figure, adding another figure to calculate shape violates this principle\n",
      "\t* extending means that the area calculator class can recieve more shapes objects (interface) and works, but we are not modifing it\n",
      "\t* In order words, we should know how to re-write our existing class for implementing new features (re-write means the refactoring face)\n",
      "\t\t* sol: create a interface, that has the thing in common with all the other classes. In this case Interface Shape, because each figure has\n",
      "\t\tit owns shape\n",
      "\t\t\tInterface shape() has inside the area methods. and each class can implement it owns version of area, and area calculator recieve them\n",
      "-----------------------------\n",
      "* Liskov Substitution: this means that every subclass or derived class should be Sustitutable for their based or parent class\n",
      "\t* this means that: a class implementing an interface should be able to use all the methods, and not returning 0 or null. this is wrong\n",
      "\t* the class is not able to do(abstract methods) what the parent class (also the interface) must to.\n",
      "-----------------------------\n",
      "* Interface segreation: Interfaces should not force classes to implemetn what the class cannot do. Large interfaces (interfaces that are growing) should be divided into small ones\n",
      "\t* in other words, if a new shape is called cube implements shape, them shape added another abstract method called volumen, then all the previous figures using interface cannot use this method because they dont have volume. IN THIS CASE WE NEED TO CREATE A NEW INTERFACE CALLED \n",
      "\tThreeDimensionShape, and Cube implements the two interfaces, the shape and the ThreeDimensionShape.\n",
      "\t* Now the ThreeDimensionShape has the abstract method \"volume\" and the other figures will continue using the normal shape interface.\n",
      "-----------------------------\n",
      "* Dependency Inversionç Components should depend on abstraction not on concretions\n",
      "\t* ie. Components should depend on interfaces for example"
     ]
    }
   ],
   "source": [
    "import java.io.*;\n",
    "\n",
    "import static java.nio.charset.StandardCharsets.UTF_8;\n",
    "\n",
    "public class Main{\n",
    "    public static void main(String[]args) throws IOException{\n",
    "\n",
    "        //file path\n",
    "        String fileName = \"C:\\\\Users\\\\bbbolivar\\\\Documents\\\\MEGA\\\\MEGA\\\\all_here\\\\courses\\\\freeCodeCamp\\\\Java programming\\\\Bro Code\\\\Others\\\\resources\\\\solid.txt\";\n",
    "\n",
    "        //Try to open the resource file \"Stream\".\n",
    "        try(Reader reader = new InputStreamReader(new FileInputStream(fileName), UTF_8)){\n",
    "            int ch;\n",
    "            //int ch = -1; //same\n",
    "            while((ch = reader.read()) != -1) {\n",
    "                System.out.print((char)ch);\n",
    "            }\n",
    "        }\n",
    "    }\n",
    "}\n",
    "Main.main(new String[]{});"
   ]
  },
  {
   "cell_type": "markdown",
   "metadata": {},
   "source": [
    "* The same but using the FileReader\n",
    "* reading by bytes, slower since we are not using the buffer"
   ]
  },
  {
   "cell_type": "code",
   "execution_count": 11,
   "metadata": {},
   "outputs": [
    {
     "name": "stdout",
     "output_type": "stream",
     "text": [
      "SOLID PRINCIPLES\n",
      "-----------------------------\n",
      "\n",
      "* Single responsability: Each class should have only one sole purpose, and not be filled with excessive functionality\n",
      "\t* ie. adding printing function to a class that calculates the area of a figure, violates this principle\n",
      "\t\t* sol: creates a class that prints\n",
      "-----------------------------\n",
      "* Open Closed: Classes should be open for EXTENSION, closed for modification. Modification means changing the code of an existing class, and extension means adding new functionality.\n",
      "\t* If i add another object, should i modify the existing code ? I should not.. otherwise is not open closed\n",
      "\t*  ie. in a class that calculates the area of figure, adding another figure to calculate shape violates this principle\n",
      "\t* extending means that the area calculator class can recieve more shapes objects (interface) and works, but we are not modifing it\n",
      "\t* In order words, we should know how to re-write our existing class for implementing new features (re-write means the refactoring face)\n",
      "\t\t* sol: create a interface, that has the thing in common with all the other classes. In this case Interface Shape, because each figure has\n",
      "\t\tit owns shape\n",
      "\t\t\tInterface shape() has inside the area methods. and each class can implement it owns version of area, and area calculator recieve them\n",
      "-----------------------------\n",
      "* Liskov Substitution: this means that every subclass or derived class should be Sustitutable for their based or parent class\n",
      "\t* this means that: a class implementing an interface should be able to use all the methods, and not returning 0 or null. this is wrong\n",
      "\t* the class is not able to do(abstract methods) what the parent class (also the interface) must to.\n",
      "-----------------------------\n",
      "* Interface segreation: Interfaces should not force classes to implemetn what the class cannot do. Large interfaces (interfaces that are growing) should be divided into small ones\n",
      "\t* in other words, if a new shape is called cube implements shape, them shape added another abstract method called volumen, then all the previous figures using interface cannot use this method because they dont have volume. IN THIS CASE WE NEED TO CREATE A NEW INTERFACE CALLED \n",
      "\tThreeDimensionShape, and Cube implements the two interfaces, the shape and the ThreeDimensionShape.\n",
      "\t* Now the ThreeDimensionShape has the abstract method \"volume\" and the other figures will continue using the normal shape interface.\n",
      "-----------------------------\n",
      "* Dependency Inversionç Components should depend on abstraction not on concretions\n",
      "\t* ie. Components should depend on interfaces for example"
     ]
    }
   ],
   "source": [
    "import java.io.*;\n",
    "\n",
    "import static java.nio.charset.StandardCharsets.UTF_8;\n",
    "\n",
    "public class Main{\n",
    "    public static void main(String[]args) throws IOException {\n",
    "\n",
    "        //file path\n",
    "        String fileName = \"C:\\\\Users\\\\bbbolivar\\\\Documents\\\\MEGA\\\\MEGA\\\\all_here\\\\courses\\\\freeCodeCamp\\\\Java programming\\\\Bro Code\\\\Others\\\\resources\\\\solid.txt\";\n",
    "\n",
    "        try(Reader reader =  new FileReader(fileName, UTF_8)){\n",
    "        //try(Reader reader = new FileReader(fileName, UTF_8)){ //doesnt work in this way idk\n",
    "            int ch;\n",
    "            //int ch = -1; //same\n",
    "            while((ch = reader.read()) != -1) {\n",
    "                System.out.print((char)ch);\n",
    "            }\n",
    "        }\n",
    "    }\n",
    "}\n",
    "Main.main(new String[]{});"
   ]
  },
  {
   "cell_type": "markdown",
   "metadata": {},
   "source": [
    "* Using BufferedReader, by bytes"
   ]
  },
  {
   "cell_type": "code",
   "execution_count": 12,
   "metadata": {},
   "outputs": [
    {
     "name": "stdout",
     "output_type": "stream",
     "text": [
      "SOLID PRINCIPLES\n",
      "-----------------------------\n",
      "\n",
      "* Single responsability: Each class should have only one sole purpose, and not be filled with excessive functionality\n",
      "\t* ie. adding printing function to a class that calculates the area of a figure, violates this principle\n",
      "\t\t* sol: creates a class that prints\n",
      "-----------------------------\n",
      "* Open Closed: Classes should be open for EXTENSION, closed for modification. Modification means changing the code of an existing class, and extension means adding new functionality.\n",
      "\t* If i add another object, should i modify the existing code ? I should not.. otherwise is not open closed\n",
      "\t*  ie. in a class that calculates the area of figure, adding another figure to calculate shape violates this principle\n",
      "\t* extending means that the area calculator class can recieve more shapes objects (interface) and works, but we are not modifing it\n",
      "\t* In order words, we should know how to re-write our existing class for implementing new features (re-write means the refactoring face)\n",
      "\t\t* sol: create a interface, that has the thing in common with all the other classes. In this case Interface Shape, because each figure has\n",
      "\t\tit owns shape\n",
      "\t\t\tInterface shape() has inside the area methods. and each class can implement it owns version of area, and area calculator recieve them\n",
      "-----------------------------\n",
      "* Liskov Substitution: this means that every subclass or derived class should be Sustitutable for their based or parent class\n",
      "\t* this means that: a class implementing an interface should be able to use all the methods, and not returning 0 or null. this is wrong\n",
      "\t* the class is not able to do(abstract methods) what the parent class (also the interface) must to.\n",
      "-----------------------------\n",
      "* Interface segreation: Interfaces should not force classes to implemetn what the class cannot do. Large interfaces (interfaces that are growing) should be divided into small ones\n",
      "\t* in other words, if a new shape is called cube implements shape, them shape added another abstract method called volumen, then all the previous figures using interface cannot use this method because they dont have volume. IN THIS CASE WE NEED TO CREATE A NEW INTERFACE CALLED \n",
      "\tThreeDimensionShape, and Cube implements the two interfaces, the shape and the ThreeDimensionShape.\n",
      "\t* Now the ThreeDimensionShape has the abstract method \"volume\" and the other figures will continue using the normal shape interface.\n",
      "-----------------------------\n",
      "* Dependency Inversionç Components should depend on abstraction not on concretions\n",
      "\t* ie. Components should depend on interfaces for example"
     ]
    }
   ],
   "source": [
    "import java.io.*;\n",
    "\n",
    "import static java.nio.charset.StandardCharsets.UTF_8;\n",
    "\n",
    "public class Main{\n",
    "    public static void main(String[]args) throws IOException {\n",
    "\n",
    "        //file path\n",
    "        String fileName = \"C:\\\\Users\\\\bbbolivar\\\\Documents\\\\MEGA\\\\MEGA\\\\all_here\\\\courses\\\\freeCodeCamp\\\\Java programming\\\\Bro Code\\\\Others\\\\resources\\\\solid.txt\";\n",
    "        BufferedReader br = new BufferedReader(new FileReader(fileName, UTF_8));\n",
    "\n",
    "        try(Reader reader = br){\n",
    "            int ch;\n",
    "            //int ch = -1; //same\n",
    "            while((ch = reader.read()) != -1) {\n",
    "                System.out.print((char)ch);\n",
    "            }\n",
    "        }\n",
    "    }\n",
    "}\n",
    "Main.main(new String[]{});"
   ]
  },
  {
   "cell_type": "markdown",
   "metadata": {},
   "source": [
    "* by lines option1"
   ]
  },
  {
   "cell_type": "code",
   "execution_count": 13,
   "metadata": {},
   "outputs": [
    {
     "name": "stdout",
     "output_type": "stream",
     "text": [
      "SOLID PRINCIPLES\n",
      "-----------------------------\n",
      "\n",
      "* Single responsability: Each class should have only one sole purpose, and not be filled with excessive functionality\n",
      "\t* ie. adding printing function to a class that calculates the area of a figure, violates this principle\n",
      "\t\t* sol: creates a class that prints\n",
      "-----------------------------\n",
      "* Open Closed: Classes should be open for EXTENSION, closed for modification. Modification means changing the code of an existing class, and extension means adding new functionality.\n",
      "\t* If i add another object, should i modify the existing code ? I should not.. otherwise is not open closed\n",
      "\t*  ie. in a class that calculates the area of figure, adding another figure to calculate shape violates this principle\n",
      "\t* extending means that the area calculator class can recieve more shapes objects (interface) and works, but we are not modifing it\n",
      "\t* In order words, we should know how to re-write our existing class for implementing new features (re-write means the refactoring face)\n",
      "\t\t* sol: create a interface, that has the thing in common with all the other classes. In this case Interface Shape, because each figure has\n",
      "\t\tit owns shape\n",
      "\t\t\tInterface shape() has inside the area methods. and each class can implement it owns version of area, and area calculator recieve them\n",
      "-----------------------------\n",
      "* Liskov Substitution: this means that every subclass or derived class should be Sustitutable for their based or parent class\n",
      "\t* this means that: a class implementing an interface should be able to use all the methods, and not returning 0 or null. this is wrong\n",
      "\t* the class is not able to do(abstract methods) what the parent class (also the interface) must to.\n",
      "-----------------------------\n",
      "* Interface segreation: Interfaces should not force classes to implemetn what the class cannot do. Large interfaces (interfaces that are growing) should be divided into small ones\n",
      "\t* in other words, if a new shape is called cube implements shape, them shape added another abstract method called volumen, then all the previous figures using interface cannot use this method because they dont have volume. IN THIS CASE WE NEED TO CREATE A NEW INTERFACE CALLED \n",
      "\tThreeDimensionShape, and Cube implements the two interfaces, the shape and the ThreeDimensionShape.\n",
      "\t* Now the ThreeDimensionShape has the abstract method \"volume\" and the other figures will continue using the normal shape interface.\n",
      "-----------------------------\n",
      "* Dependency Inversionç Components should depend on abstraction not on concretions\n",
      "\t* ie. Components should depend on interfaces for example\n"
     ]
    }
   ],
   "source": [
    "import java.io.BufferedReader;\n",
    "import java.io.FileReader;\n",
    "import java.io.IOException;\n",
    "import static java.nio.charset.StandardCharsets.UTF_8;\n",
    "\n",
    "public class Main{\n",
    "    public static void main(String[]args) throws IOException {\n",
    "\n",
    "        //file path\n",
    "        String fileName = \"C:\\\\Users\\\\bbbolivar\\\\Documents\\\\MEGA\\\\MEGA\\\\all_here\\\\courses\\\\freeCodeCamp\\\\Java programming\\\\Bro Code\\\\Others\\\\resources\\\\solid.txt\";\n",
    "        BufferedReader br = new BufferedReader(new FileReader(fileName, UTF_8));\n",
    "\n",
    "        try(BufferedReader bReader = br){\n",
    "            String line;\n",
    "            while((line = bReader.readLine()) != null){\n",
    "                System.out.println(line);\n",
    "        \n",
    "                //or\n",
    "            //reader.lines().forEach(System.out::println);\n",
    "            //reader.lines().map(x-> x.split(\",\")forEach(a -> System.out.println(Arrays.toString(a)));\n",
    "                //System.out.println(line);\n",
    "\n",
    "        }\n",
    "        }\n",
    "    }\n",
    "}\n",
    "Main.main(new String[]{});"
   ]
  },
  {
   "cell_type": "markdown",
   "metadata": {},
   "source": [
    "* by line option2"
   ]
  },
  {
   "cell_type": "code",
   "execution_count": 2,
   "metadata": {},
   "outputs": [
    {
     "name": "stdout",
     "output_type": "stream",
     "text": [
      "SOLID PRINCIPLES\n",
      "-----------------------------\n",
      "\n",
      "* Single responsability: Each class should have only one sole purpose, and not be filled with excessive functionality\n",
      "\t* ie. adding printing function to a class that calculates the area of a figure, violates this principle\n",
      "\t\t* sol: creates a class that prints\n",
      "-----------------------------\n",
      "* Open Closed: Classes should be open for EXTENSION, closed for modification. Modification means changing the code of an existing class, and extension means adding new functionality.\n",
      "\t* If i add another object, should i modify the existing code ? I should not.. otherwise is not open closed\n",
      "\t*  ie. in a class that calculates the area of figure, adding another figure to calculate shape violates this principle\n",
      "\t* extending means that the area calculator class can recieve more shapes objects (interface) and works, but we are not modifing it\n",
      "\t* In order words, we should know how to re-write our existing class for implementing new features (re-write means the refactoring face)\n",
      "\t\t* sol: create a interface, that has the thing in common with all the other classes. In this case Interface Shape, because each figure has\n",
      "\t\tit owns shape\n",
      "\t\t\tInterface shape() has inside the area methods. and each class can implement it owns version of area, and area calculator recieve them\n",
      "-----------------------------\n",
      "* Liskov Substitution: this means that every subclass or derived class should be Sustitutable for their based or parent class\n",
      "\t* this means that: a class implementing an interface should be able to use all the methods, and not returning 0 or null. this is wrong\n",
      "\t* the class is not able to do(abstract methods) what the parent class (also the interface) must to.\n",
      "-----------------------------\n",
      "* Interface segreation: Interfaces should not force classes to implemetn what the class cannot do. Large interfaces (interfaces that are growing) should be divided into small ones\n",
      "\t* in other words, if a new shape is called cube implements shape, them shape added another abstract method called volumen, then all the previous figures using interface cannot use this method because they dont have volume. IN THIS CASE WE NEED TO CREATE A NEW INTERFACE CALLED \n",
      "\tThreeDimensionShape, and Cube implements the two interfaces, the shape and the ThreeDimensionShape.\n",
      "\t* Now the ThreeDimensionShape has the abstract method \"volume\" and the other figures will continue using the normal shape interface.\n",
      "-----------------------------\n",
      "* Dependency Inversionç Components should depend on abstraction not on concretions\n",
      "\t* ie. Components should depend on interfaces for example\n"
     ]
    }
   ],
   "source": [
    "import java.io.BufferedReader;\n",
    "import java.io.FileReader;\n",
    "import java.io.IOException;\n",
    "import static java.nio.charset.StandardCharsets.UTF_8;\n",
    "\n",
    "public class Main{\n",
    "    public static void main(String[]args) throws IOException {\n",
    "\n",
    "        //file path\n",
    "        String fileName = \"C:\\\\Users\\\\bbbolivar\\\\Documents\\\\MEGA\\\\MEGA\\\\all_here\\\\courses\\\\freeCodeCamp\\\\Java programming\\\\Bro Code\\\\Others\\\\resources\\\\solid.txt\";\n",
    "        BufferedReader br = new BufferedReader(new FileReader(fileName, UTF_8));\n",
    "\n",
    "        try(BufferedReader bReader = br){\n",
    "            bReader.lines().forEach(System.out::println);\n",
    "        }\n",
    "    }\n",
    "}\n",
    "Main.main(new String[]{});"
   ]
  },
  {
   "cell_type": "markdown",
   "metadata": {},
   "source": [
    "* by line, option3\n",
    "    * for me does not work"
   ]
  },
  {
   "cell_type": "code",
   "execution_count": null,
   "metadata": {},
   "outputs": [],
   "source": [
    "import java.io.BufferedReader;\n",
    "import java.io.FileReader;\n",
    "import java.io.IOException;\n",
    "import static java.nio.charset.StandardCharsets.UTF_8;\n",
    "\n",
    "public class Main{\n",
    "    public static void main(String[]args) throws IOException {\n",
    "\n",
    "        //file path\n",
    "        String fileName = \"C:\\\\Users\\\\bbbolivar\\\\Documents\\\\MEGA\\\\MEGA\\\\all_here\\\\courses\\\\freeCodeCamp\\\\Java programming\\\\Bro Code\\\\Others\\\\resources\\\\solid.txt\";\n",
    "        BufferedReader br = new BufferedReader(new FileReader(fileName, UTF_8));\n",
    "\n",
    "        try(BufferedReader bReader = br){\n",
    "            //bReader.lines().map(x-> x.split(\",\").forEach(a -> System.out.println(Arrays.toString(a))); //doesnt work for me\n",
    "        }\n",
    "    }\n",
    "}\n",
    "Main.main(new String[]{});"
   ]
  },
  {
   "cell_type": "markdown",
   "metadata": {},
   "source": [
    "* in term frequency assigment, create the term freq. table by reading text file"
   ]
  },
  {
   "cell_type": "markdown",
   "metadata": {},
   "source": [
    "---\n",
    "* Another way to read and write from console\n",
    "* `System.console` class to `read` and `write`\n",
    "* This part works only in IntellIj, or from command line, because in vs code there is not console"
   ]
  },
  {
   "cell_type": "code",
   "execution_count": null,
   "metadata": {},
   "outputs": [],
   "source": [
    "import java.io.PrintWriter;\n",
    "import java.util.Optional;\n",
    "\n",
    "public class Main{\n",
    "    // Instead of using Scanner, scanner.nextLine(); we can use this alternative.\n",
    "    public static void main(String[]args) {\n",
    "        //\n",
    "        PrintWriter writer = System.console().writer();\n",
    "        String line;\n",
    "        //while the user is not typing \"exit\", we read line\n",
    "        while(!\"exit\".equals(line = System.console().readLine())){\n",
    "\n",
    "            Optional<Integer> intValue = getInteger(line);\n",
    "            if(intValue.isPresent()){\n",
    "                writer.println(\"write.println is a sout\");\n",
    "                writer.println(\"we detected a integer from command line: \" + intValue.get());\n",
    "            }else{\n",
    "                Optional<Double> doubleValue = getDouble(line);\n",
    "                if(doubleValue.isPresent()){\n",
    "                    writer.println(\"we detected a double from command line: \" + doubleValue.get());\n",
    "                }else{\n",
    "                    writer.println(\"not number found\");\n",
    "                }\n",
    "            }\n",
    "        }\n",
    "    }\n",
    "    private static Optional<Integer> getInteger(String line) {\n",
    "        try{\n",
    "            return Optional.of(Integer.parseInt(line));\n",
    "        }catch (NumberFormatException ex){\n",
    "            return Optional.empty();\n",
    "        }\n",
    "    }\n",
    "\n",
    "    private static Optional<Double> getDouble(String line) {\n",
    "        try{\n",
    "            return Optional.of(Double.parseDouble(line));\n",
    "        }catch (NumberFormatException ex){\n",
    "            return Optional.empty();\n",
    "        }\n",
    "    }\n",
    "}\n",
    "Main.main(new String[]{});"
   ]
  },
  {
   "cell_type": "markdown",
   "metadata": {},
   "source": [
    "* Same as the block above but using functional programming"
   ]
  },
  {
   "cell_type": "code",
   "execution_count": null,
   "metadata": {},
   "outputs": [],
   "source": [
    "import java.io.PrintWriter;\n",
    "import java.util.Optional;\n",
    "\n",
    "public class Main {\n",
    "    // Instead of using Scanner, scanner.nextLine(); we can use this alternative.\n",
    "    public static void main(String[] args) {\n",
    "        PrintWriter writer = System.console().writer();\n",
    "        String line;\n",
    "\n",
    "        while(!\"exit\".equals(line = System.console().readLine())){\n",
    "            String text = line;\n",
    "            //getInteger(line).ifPresentOrElse(x -> writer.println(\"we detected a integer from command line: \" + x), () -> getDouble(text).ifPresentOrElse(x -> writer.println(\"we detected a double from command line: \" + x ), () -> writer.println(\"not number found\")));\n",
    "            \n",
    "            \n",
    "            //or in a more readable way\n",
    "            //try to get the intNumber -> returns on success Integer.parseInt(line), and Optional.empty in failure\n",
    "            getInteger(line) \n",
    "                    //if(number.isPresent()) --> returns the number if present, \n",
    "                    .ifPresentOrElse(\n",
    "                            x -> writer.println(\"we detected a integer from command line: \" + x), //if True, print the number\n",
    "                            () -> getDouble(text) //else: try to get the doubleNumber\n",
    "                                    //if(number.isPresent())\n",
    "                                    .ifPresentOrElse(\n",
    "                                            x -> writer.println(\"we detected a double from command line: \" + x ), //if True, print the number\n",
    "                                            () -> writer.println(\"not number found\"))); //else: try to get the doubleNumber\n",
    "        }\n",
    "    }\n",
    "    //---------- The functions -----------------\n",
    "    private static Optional<Integer> getInteger(String line) {\n",
    "        try{\n",
    "            return Optional.of(Integer.parseInt(line));\n",
    "        }catch (NumberFormatException ex){\n",
    "            return Optional.empty();\n",
    "        }\n",
    "    }\n",
    "    private static Optional<Double> getDouble(String line) {\n",
    "        try{\n",
    "            return Optional.of(Double.parseDouble(line));\n",
    "        }catch (NumberFormatException ex){\n",
    "            return Optional.empty();\n",
    "        }\n",
    "    }\n",
    "}\n",
    "Main.main(new String[]{});"
   ]
  }
 ],
 "metadata": {
  "kernelspec": {
   "display_name": "Java",
   "language": "java",
   "name": "java"
  },
  "language_info": {
   "codemirror_mode": "java",
   "file_extension": ".jshell",
   "mimetype": "text/x-java-source",
   "name": "java",
   "pygments_lexer": "java",
   "version": "11.0.21+9"
  }
 },
 "nbformat": 4,
 "nbformat_minor": 2
}
