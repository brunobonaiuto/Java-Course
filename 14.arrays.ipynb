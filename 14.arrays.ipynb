{
 "cells": [
  {
   "cell_type": "markdown",
   "metadata": {},
   "source": [
    "### arrays\n",
    "* are used to store multiple values in a single variable"
   ]
  },
  {
   "cell_type": "code",
   "execution_count": 5,
   "metadata": {},
   "outputs": [
    {
     "name": "stdout",
     "output_type": "stream",
     "text": [
      "mustang\n"
     ]
    }
   ],
   "source": [
    "import java.util.Arrays;\n",
    "\n",
    "public class Main {\n",
    "    public static void main (String[] args) {\n",
    "        //creating an array assigment\n",
    "        String[] cars = {\"camaro\",\"covertte\",\"tesla\"};\n",
    "      \n",
    "        cars[0] = \"mustang\";\n",
    "        System.out.println(cars[0]);\n",
    "\n",
    "    }\n",
    "}\n",
    "Main.main(new String[]{});"
   ]
  },
  {
   "cell_type": "code",
   "execution_count": 7,
   "metadata": {},
   "outputs": [
    {
     "name": "stdout",
     "output_type": "stream",
     "text": [
      "camaro\n",
      "covertte\n",
      "tesla\n"
     ]
    }
   ],
   "source": [
    "import java.util.Arrays;\n",
    "\n",
    "public class Main {\n",
    "    public static void main (String[] args) {\n",
    "        //creating an array object\n",
    "        //ReferenceType[] name = new objectType[size]\n",
    "        String[] cars = new String[3];\n",
    "      \n",
    "        cars[0] = \"camaro\";\n",
    "        cars[1] = \"covertte\";\n",
    "        cars[2] = \"tesla\";\n",
    "        //display all the elements in array\n",
    "        for (int i=0; i< cars.length; i++){\n",
    "            System.out.println(cars[i]);\n",
    "        }\n",
    "    }\n",
    "}\n",
    "Main.main(new String[]{});"
   ]
  }
 ],
 "metadata": {
  "kernelspec": {
   "display_name": "Java",
   "language": "java",
   "name": "java"
  },
  "language_info": {
   "codemirror_mode": "java",
   "file_extension": ".jshell",
   "mimetype": "text/x-java-source",
   "name": "java",
   "pygments_lexer": "java",
   "version": "11.0.21+9-post-Ubuntu-0ubuntu122.04"
  }
 },
 "nbformat": 4,
 "nbformat_minor": 2
}
