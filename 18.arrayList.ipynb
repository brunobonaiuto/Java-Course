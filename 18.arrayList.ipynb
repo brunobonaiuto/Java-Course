{
 "cells": [
  {
   "cell_type": "markdown",
   "metadata": {},
   "source": [
    "### ArrayList\n",
    "* An arrayList is a collection\n",
    "    * is a resizable array\n",
    "    * elements can be added and removed after compilation phase (normally not allow by standar array)\n",
    "    * store reference data types"
   ]
  },
  {
   "cell_type": "code",
   "execution_count": 1,
   "metadata": {
    "vscode": {
     "languageId": "java"
    }
   },
   "outputs": [
    {
     "name": "stdout",
     "output_type": "stream",
     "text": [
      "pizza\n",
      "hamburger\n",
      "hotdog\n"
     ]
    }
   ],
   "source": [
    "import java.util.ArrayList;\n",
    "public class Main {\n",
    "    public static void main (String[] args){\n",
    "        // create the object\n",
    "        // ArrayList<referenceType> name = new ArrayList<referenceType>();\n",
    "        // ArrayList<Integer> foods = new ArrayList<Integer>();\n",
    "\n",
    "        ArrayList<String> food = new ArrayList<String>();\n",
    "        //to add values use the .add method\n",
    "        food.add(\"pizza\");\n",
    "        food.add(\"hamburger\");\n",
    "        food.add(\"hotdog\");\n",
    "\n",
    "        //display elements in arrayList\n",
    "        //with a normal array use food.length; --> for arrayList use .size();\n",
    "        for (int i =0; i < food.size(); i++){\n",
    "            // for a normal array use food[index] --> for arrayList use .get(index)\n",
    "            System.out.println(food.get(i));\n",
    "        }\n",
    "    }\n",
    "}\n",
    "Main.main(new String[]{});"
   ]
  },
  {
   "cell_type": "markdown",
   "metadata": {},
   "source": [
    "* useful methods\n",
    "    * .set(index, element)"
   ]
  },
  {
   "cell_type": "code",
   "execution_count": 4,
   "metadata": {
    "vscode": {
     "languageId": "java"
    }
   },
   "outputs": [],
   "source": [
    "import java.util.ArrayList;\n",
    "public class Main {\n",
    "    public static void main (String[] args){\n",
    "        // create the object\n",
    "        // ArrayList<referenceType> name = new ArrayList<referenceType>();\n",
    "        // ArrayList<Integer> foods = new ArrayList<Integer>();\n",
    "\n",
    "        ArrayList<String> food = new ArrayList<String>();\n",
    "        //to add values use the .add method\n",
    "        food.add(\"pizza\");\n",
    "        food.add(\"hamburger\");\n",
    "        food.add(\"hotdog\");\n",
    "        \n",
    "        // to update index 0\n",
    "        food.set(0, \"sushi\");\n",
    "        // to remove index \n",
    "        food.remove(2);\n",
    "        // to clear the arrayList\n",
    "        food.clear();\n",
    "\n",
    "        for (int i =0; i < food.size(); i++){\n",
    "            System.out.println(food.get(i));\n",
    "        }\n",
    "    }\n",
    "}\n",
    "Main.main(new String[]{});"
   ]
  }
 ],
 "metadata": {
  "kernelspec": {
   "display_name": "Java",
   "language": "java",
   "name": "java"
  },
  "language_info": {
   "codemirror_mode": "java",
   "file_extension": ".jshell",
   "mimetype": "text/x-java-source",
   "name": "Java",
   "pygments_lexer": "java",
   "version": "11.0.1+13-LTS"
  }
 },
 "nbformat": 4,
 "nbformat_minor": 2
}
