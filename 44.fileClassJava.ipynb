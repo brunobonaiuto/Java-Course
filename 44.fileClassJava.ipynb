{
 "cells": [
  {
   "cell_type": "markdown",
   "metadata": {},
   "source": [
    "### File class Java\n",
    "* The file class is: An abstract representation of file and directory pathnames"
   ]
  },
  {
   "cell_type": "markdown",
   "metadata": {},
   "source": [
    "* `file.getPath()` : returns the name of the file\n",
    "* `file.getAbsolutePath()` : returns the full path of the file\n",
    "* `file.exits()`: returns true if the file exits\n",
    "* `file.isFile()`: returns true if the files is a file\n",
    "+ `file.delete()` : deletes the file from the computer"
   ]
  },
  {
   "cell_type": "code",
   "execution_count": 4,
   "metadata": {},
   "outputs": [
    {
     "name": "stdout",
     "output_type": "stream",
     "text": [
      "That file doesn't exist :(\n"
     ]
    }
   ],
   "source": [
    "import java.io.File;\n",
    "\n",
    "public class Main {\n",
    "\n",
    " public static void main(String[] args) {\n",
    "  \n",
    "  //File file = new File(\"C:\\\\Users\\\\bbbolivar\\\\Documents\\\\MEGA\\\\MEGA\\\\all_here\\\\courses\\\\freeCodeCamp\\\\foto1.png\");\n",
    "  \n",
    "  //also with forward slash\n",
    "  File file = new File(\"C:/Users/bbbolivar/Documents/MEGA/MEGA/all_here/courses/freeCodeCamp/foto1.png\");\n",
    "\n",
    "  if(file.exists()) {\n",
    "   System.out.println(\"That file exists! :O!\");\n",
    "   System.out.println(file.getPath()); //returns the name of the file\n",
    "   System.out.println(file.getAbsolutePath()); //returns the full path\n",
    "   System.out.println(file.isFile()); //returns if the file is a file\n",
    "   //file.delete(); //to delte the file inside from computer\n",
    "  }\n",
    "  else {\n",
    "   System.out.println(\"That file doesn't exist :(\");\n",
    "  }  \n",
    " }\n",
    "}\n",
    "Main.main(new String []{});\n"
   ]
  }
 ],
 "metadata": {
  "kernelspec": {
   "display_name": "Java",
   "language": "java",
   "name": "java"
  },
  "language_info": {
   "codemirror_mode": "java",
   "file_extension": ".jshell",
   "mimetype": "text/x-java-source",
   "name": "java",
   "pygments_lexer": "java",
   "version": "21.0.3+9-LTS"
  }
 },
 "nbformat": 4,
 "nbformat_minor": 2
}
