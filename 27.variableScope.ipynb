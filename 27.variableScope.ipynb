{
 "cells": [
  {
   "cell_type": "markdown",
   "metadata": {},
   "source": [
    "### Variable Scope (local and global)\n",
    "* everything that is `local` : is declared inside a method visible only to that method\n",
    "* everything that is `global` : decleared outside a method, but within a class visible to all parts of a class"
   ]
  },
  {
   "cell_type": "code",
   "execution_count": 14,
   "metadata": {},
   "outputs": [
    {
     "ename": "UnresolvedReferenceException",
     "evalue": "Attempt to use definition snippet with unresolved references in Snippet:ClassKey(DiceRoller)#13-\n\npublic class DiceRoller {\n\n    //create the constructor\n    //className(){}\n    DiceRoller(){\n        //create a instance of the random class (remember to import it)\n        Random random = new Random();\n        int number = 0;\n        //constructor will call this method at begining (when creating the object(instanciating))\n        roll();\n    }\n\n    void roll (){\n        number = random.nextInt(6)+1;\n        System.out.println(number);\n    }\n}",
     "output_type": "error",
     "traceback": [
      "\u001b[1m\u001b[30m|   \u001b[1m\u001b[30m\u001b[0m",
      "\u001b[1m\u001b[30m|   \u001b[1m\u001b[30m\u001b[0m",
      "\u001b[1m\u001b[30m|   \u001b[1m\u001b[30mpublic class DiceRoller {\u001b[0m",
      "\u001b[1m\u001b[30m|   \u001b[1m\u001b[30m\u001b[0m",
      "\u001b[1m\u001b[30m|   \u001b[1m\u001b[30m    //create the constructor\u001b[0m",
      "\u001b[1m\u001b[30m|   \u001b[1m\u001b[30m    //className(){}\u001b[0m",
      "\u001b[1m\u001b[30m|   \u001b[1m\u001b[30m    DiceRoller(){\u001b[0m",
      "\u001b[1m\u001b[30m|   \u001b[1m\u001b[30m        //create a instance of the random class (remember to import it)\u001b[0m",
      "\u001b[1m\u001b[30m|   \u001b[1m\u001b[30m        Random random = new Random();\u001b[0m",
      "\u001b[1m\u001b[30m|   \u001b[1m\u001b[30m        int number = 0;\u001b[0m",
      "\u001b[1m\u001b[30m|   \u001b[1m\u001b[30m        //constructor will call this method at begining (when creating the object(instanciating))\u001b[0m",
      "\u001b[1m\u001b[30m|   \u001b[1m\u001b[30m        roll();\u001b[0m",
      "\u001b[1m\u001b[30m|   \u001b[1m\u001b[30m    }\u001b[0m",
      "\u001b[1m\u001b[30m|   \u001b[1m\u001b[30m\u001b[0m",
      "\u001b[1m\u001b[30m|   \u001b[1m\u001b[30m    void roll (){\u001b[0m",
      "\u001b[1m\u001b[30m|   \u001b[1m\u001b[30m        number = random.nextInt(6)+1;\u001b[0m",
      "\u001b[1m\u001b[30m|   \u001b[1m\u001b[30m        System.out.println(number);\u001b[0m",
      "\u001b[1m\u001b[30m|   \u001b[1m\u001b[30m    }\u001b[0m",
      "\u001b[1m\u001b[30m|   \u001b[1m\u001b[30m}\u001b[0m",
      "\u001b[1m\u001b[31mUnresolved dependencies:\u001b[0m",
      "\u001b[1m\u001b[31m   - variable number\u001b[0m",
      "\u001b[1m\u001b[31m   - variable random\u001b[0m"
     ]
    }
   ],
   "source": [
    "import java.util.Random;\n",
    "\n",
    "public class DiceRoller {\n",
    "\n",
    "    //create the constructor\n",
    "    //className(){}\n",
    "    DiceRoller(){\n",
    "        //create a instance of the random class (remember to import it)\n",
    "        Random random = new Random();\n",
    "        int number = 0;\n",
    "        //constructor will call this method at begining (when creating the object(instanciating))\n",
    "        roll();\n",
    "    }\n",
    "\n",
    "    void roll (){\n",
    "        number = random.nextInt(6)+1;\n",
    "        System.out.println(number);\n",
    "    }\n",
    "}\n",
    "\n",
    "public class Main {\n",
    "    public static void main(String[]args){\n",
    "        //create a instance of the DiceRoller\n",
    "        DiceRoller diceRoller = new DiceRoller();\n",
    "    }\n",
    "}\n",
    "Main.main(new String[]{});"
   ]
  },
  {
   "cell_type": "markdown",
   "metadata": {},
   "source": [
    "* `random` and `number` are only visible for the constructor, even the `roll()` method below cannot access them\n",
    "    * to solve this: two ways\n",
    "        * passing `random` and `number` as arguments to our roll method\n",
    "        * declearing `random` and `number` as globals"
   ]
  },
  {
   "cell_type": "code",
   "execution_count": 44,
   "metadata": {},
   "outputs": [
    {
     "name": "stdout",
     "output_type": "stream",
     "text": [
      "2\n"
     ]
    }
   ],
   "source": [
    "import java.util.Random;\n",
    "\n",
    "public class DiceRoller {\n",
    "\n",
    "    //create the constructor\n",
    "    //className(){}\n",
    "    DiceRoller(){\n",
    "        //create a instance of the random class (remember to import it)\n",
    "        Random random = new Random();\n",
    "        int number = 0;\n",
    "        // roll();\n",
    "        roll(random, number); //calling the method --> passing as arguments\n",
    "    }\n",
    "\n",
    "    //also set that this will accept some args\n",
    "    // first arg of type `Random` called random,\n",
    "    // second arg of type `int` called number\n",
    "    void roll (Random random, int number){\n",
    "        number = random.nextInt(6)+1;\n",
    "        // or \n",
    "        // number = random.nextInt(6);\n",
    "        // number +=1;\n",
    "        System.out.println(number);\n",
    "    }\n",
    "}\n",
    "\n",
    "public class Main {\n",
    "    public static void main(String[]args){\n",
    "        //create a instance of the DiceRoller\n",
    "        DiceRoller diceRoller = new DiceRoller(); //returns the dice\n",
    "        // diceRoller.roll(); //DOES NOT WORK\n",
    "        \n",
    "        //experiments\n",
    "        //accessing the att\n",
    "        // System.out.println(diceRoller.number); //DOES NOT WORK\n",
    "        // System.out.println(diceRoller.random); //DOES NOT WORK\n",
    "    }\n",
    "}\n",
    "Main.main(new String[]{});"
   ]
  },
  {
   "cell_type": "markdown",
   "metadata": {},
   "source": [
    "* option 2: declearing `random` and `number` as globals"
   ]
  },
  {
   "cell_type": "code",
   "execution_count": 42,
   "metadata": {},
   "outputs": [
    {
     "name": "stdout",
     "output_type": "stream",
     "text": [
      "5\n"
     ]
    }
   ],
   "source": [
    "import java.util.Random;\n",
    "\n",
    "public class DiceRoller {\n",
    "    //declaring outside the constructor (GLOBAL)\n",
    "    Random random;\n",
    "    int number;  // 0 by default\n",
    "\n",
    "    //create the constructor\n",
    "    //className(){}\n",
    "    DiceRoller(){\n",
    "        //create a instance of the random class\n",
    "        random = new Random(); //no needed to define classRandom since was done Global\n",
    "        // int number = 0;\n",
    "        roll(); //calling the method --> no passing arguments since they are global\n",
    "    }\n",
    "    // Roll has access to our random the instance of the random class\n",
    "    // and also to the number, beacuse they are global\n",
    "    void roll (){ //no parameters definition, arguments are global they can be accessed\n",
    "        number = random.nextInt(6)+1;\n",
    "        System.out.println(number);\n",
    "    }\n",
    "}\n",
    "\n",
    "public class Main {\n",
    "    public static void main(String[]args){\n",
    "        //create a instance of the DiceRoller\n",
    "        DiceRoller diceRoller = new DiceRoller(); //returns the dice\n",
    "        //diceRoller.roll(); //also works\n",
    "\n",
    "        // experiments\n",
    "        // accessing the atts\n",
    "        // System.out.println(diceRoller.number); //also works\n",
    "        // System.out.println(diceRoller.random); //also works\n",
    "    }\n",
    "}\n",
    "Main.main(new String[]{});"
   ]
  }
 ],
 "metadata": {
  "kernelspec": {
   "display_name": "Java",
   "language": "java",
   "name": "java"
  },
  "language_info": {
   "codemirror_mode": "java",
   "file_extension": ".jshell",
   "mimetype": "text/x-java-source",
   "name": "java",
   "pygments_lexer": "java",
   "version": "11.0.21+9-post-Ubuntu-0ubuntu122.04"
  }
 },
 "nbformat": 4,
 "nbformat_minor": 2
}
