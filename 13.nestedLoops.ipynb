{
 "cells": [
  {
   "cell_type": "markdown",
   "metadata": {},
   "source": [
    "### nested loops\n",
    "* a loop inside another loop\n",
    "    * a rectangule given some rows and cols, made of symbols"
   ]
  },
  {
   "cell_type": "code",
   "execution_count": 10,
   "metadata": {},
   "outputs": [
    {
     "name": "stdout",
     "output_type": "stream",
     "text": [
      "Enter # of rows: \n"
     ]
    },
    {
     "name": "stdout",
     "output_type": "stream",
     "text": [
      "Enter # of columns: \n",
      "Enter symbol to use: \n",
      "$$$$ Next line\n",
      "$$$$ Next line\n",
      "$$$$ Next line\n",
      "$$$$ Next line\n"
     ]
    }
   ],
   "source": [
    "import java.util.Scanner;\n",
    "public class Main{\n",
    "    public static void main (String[]args){\n",
    "        Scanner scanner = new Scanner(System.in);\n",
    "\n",
    "        int rows;\n",
    "        int columns;\n",
    "        String symbol = \"\";\n",
    "        \n",
    "        System.out.println(\"Enter # of rows: \");\n",
    "        rows = scanner.nextInt();\n",
    "        System.out.println(\"Enter # of columns: \");\n",
    "        columns = scanner.nextInt();\n",
    "        //what symbol to display\n",
    "        System.out.println(\"Enter symbol to use: \");\n",
    "        symbol = scanner.next(); //next will store toke until space or enter\n",
    "\n",
    "        for (int i = 1; i<=rows; i++) {\n",
    "            System.out.println(\" Next line\");\n",
    "            for (int j = 1; j <= columns; j++){\n",
    "                System.out.print(symbol);\n",
    "            }//System.out.println(\" Next line\"); //also works \n",
    "        }\n",
    "    }\n",
    "}\n",
    "Main.main(new String[]{});"
   ]
  }
 ],
 "metadata": {
  "kernelspec": {
   "display_name": "Java",
   "language": "java",
   "name": "java"
  },
  "language_info": {
   "codemirror_mode": "java",
   "file_extension": ".jshell",
   "mimetype": "text/x-java-source",
   "name": "java",
   "pygments_lexer": "java",
   "version": "11.0.21+9-post-Ubuntu-0ubuntu122.04"
  }
 },
 "nbformat": 4,
 "nbformat_minor": 2
}
