{
 "cells": [
  {
   "cell_type": "markdown",
   "metadata": {},
   "source": [
    "### Anonymous Objects\n",
    "* Nameless objects, also known as anonymous objects"
   ]
  },
  {
   "cell_type": "code",
   "execution_count": 1,
   "metadata": {},
   "outputs": [],
   "source": [
    "import java.awt.*;\n",
    "import java.util.*;\n",
    "import javax.swing.*;\n",
    "\n",
    "public class Main {\n",
    "\t\n",
    "\tpublic static void main(String[] args) {\n",
    "\t\t\n",
    "\t\tJFrame frame = new JFrame();\n",
    "\t\tArrayList<JLabel> deck = new ArrayList<JLabel>();\n",
    "\t\t/*\n",
    "\t\tImageIcon AC = new ImageIcon(\"src\\\\cards\\\\1.png\");\n",
    "\t\tJLabel AClabel = new JLabel(AC);\n",
    "\t\tdeck.add(AClabel);\n",
    "\t\t\n",
    "\t\tImageIcon TwoC = new ImageIcon(\"src\\\\cards\\\\2.png\");\n",
    "\t\tJLabel TwoClabel = new JLabel(TwoC);\n",
    "\t\tdeck.add(TwoClabel);\n",
    "\t\t\n",
    "\t\t... repeat for all 52 cards :(\n",
    "\t\t*/\n",
    "\n",
    "\t\t// Or we can use a loop to add all the cards to the deck, using nameless objects\n",
    "\t\tfor(int i =1;i<=52;i++) {\n",
    "\t\t\tdeck.add(new JLabel(new ImageIcon(\"a path\"+i+\".png\"))); //nameless object\n",
    "\t\t\tframe.add(deck.get(i-1));\n",
    "\t\t}\n",
    "\t\t\t\n",
    "\t\t//frame.add(deck.get(0));\n",
    "\t\t//frame.add(deck.get(1));\n",
    "\t\tframe.setDefaultCloseOperation(JFrame.EXIT_ON_CLOSE);\n",
    "\t\tframe.setSize(420, 420);\n",
    "\t\tframe.setLayout(new FlowLayout());\n",
    "\t\tframe.setVisible(true);\n",
    "\t}\n",
    "}\n",
    "//Main.main(new String []{});"
   ]
  }
 ],
 "metadata": {
  "kernelspec": {
   "display_name": "Java",
   "language": "java",
   "name": "java"
  },
  "language_info": {
   "codemirror_mode": "java",
   "file_extension": ".jshell",
   "mimetype": "text/x-java-source",
   "name": "java",
   "pygments_lexer": "java",
   "version": "21.0.2+13-LTS-58"
  }
 },
 "nbformat": 4,
 "nbformat_minor": 2
}
