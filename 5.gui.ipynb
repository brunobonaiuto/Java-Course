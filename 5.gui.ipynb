{
 "cells": [
  {
   "cell_type": "markdown",
   "metadata": {},
   "source": [
    "* GUI: Graphical User Interface\n",
    "    * to type some user information (in a box) and store it"
   ]
  },
  {
   "cell_type": "code",
   "execution_count": 1,
   "metadata": {},
   "outputs": [],
   "source": [
    "import javax.swing.JOptionPane;\n",
    "\n",
    "public class Main{\n",
    "    public static void main (String[]args){\n",
    "            // create an `input dialog box`  \n",
    "            String name = JOptionPane.showInputDialog(\"Enter your name \");\n",
    "            //another `dialog box` to display name\n",
    "            JOptionPane.showMessageDialog(null, \"hello \"+ name);\n",
    "\n",
    "            \n",
    "            // // showInputDialog returns a string\n",
    "            // int age =  JOptionPane.showInputDialog(\"Enter your age\");\n",
    "\n",
    "            // to convert the integer to string use a rapper called parseInt\n",
    "            // ParseInt --> converts the string into int to store in the int variable\n",
    "            int age = Integer.parseInt(JOptionPane.showInputDialog(\"Enter your age\"));\n",
    "\n",
    "            JOptionPane.showMessageDialog(null, \"your are \" + age + \" years old\");\n",
    "    }\n",
    "}\n",
    "Main.main(new String[]{});"
   ]
  },
  {
   "cell_type": "markdown",
   "metadata": {},
   "source": [
    "* let's try it with a double data type"
   ]
  },
  {
   "cell_type": "code",
   "execution_count": 1,
   "metadata": {},
   "outputs": [],
   "source": [
    "import javax.swing.JOptionPane;\n",
    "\n",
    "public class Main{\n",
    "    public static void main (String[]args){\n",
    "            // create an `input dialog box`  \n",
    "            String name = JOptionPane.showInputDialog(\"Enter your name \");\n",
    "            //another `dialog box` to display name\n",
    "            JOptionPane.showMessageDialog(null, \"hello \"+ name);\n",
    "\n",
    "            \n",
    "            // // showInputDialog returns a string\n",
    "            // int age =  JOptionPane.showInputDialog(\"Enter your age\");\n",
    "\n",
    "            // to convert the integer to string use a rapper called parseInt\n",
    "            // ParseInt --> converts the string into int to store in the int variable\n",
    "            int age = Integer.parseInt(JOptionPane.showInputDialog(\"Enter your age\"));\n",
    "            //display age\n",
    "            JOptionPane.showMessageDialog(null, \"your are \" + age + \" years old\");\n",
    "            \n",
    "            double height = Double.parseDouble(JOptionPane.showInputDialog(\"Enter your height\"));\n",
    "            //display age\n",
    "            JOptionPane.showMessageDialog(null, \"your are \" +  height + \" cm tall\");\n",
    "    }\n",
    "}\n",
    "Main.main(new String[]{});"
   ]
  }
 ],
 "metadata": {
  "kernelspec": {
   "display_name": "Java",
   "language": "java",
   "name": "java"
  },
  "language_info": {
   "codemirror_mode": "java",
   "file_extension": ".jshell",
   "mimetype": "text/x-java-source",
   "name": "java",
   "pygments_lexer": "java",
   "version": "11.0.21+9-post-Ubuntu-0ubuntu122.04"
  }
 },
 "nbformat": 4,
 "nbformat_minor": 2
}
