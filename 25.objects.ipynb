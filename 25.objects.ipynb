{
 "cells": [
  {
   "cell_type": "markdown",
   "metadata": {},
   "source": [
    "### OOP\n",
    "* object : is an instance of a class that may contain **attributes** and **methods**\n",
    "    * we can use programming to imitate objects in a real world\n",
    "    * attributes: are the characteristics that this object has\n",
    "    * methods: are the differents actions that this object can perform"
   ]
  },
  {
   "cell_type": "markdown",
   "metadata": {},
   "source": [
    "* lets take as example cars"
   ]
  },
  {
   "cell_type": "code",
   "execution_count": 6,
   "metadata": {},
   "outputs": [
    {
     "name": "stdout",
     "output_type": "stream",
     "text": [
      "Convertte\n",
      "Chevrolet\n",
      "you drive the car\n",
      "you step on the break\n"
     ]
    }
   ],
   "source": [
    "public class Car {\n",
    "    // no main, since the main is inside Main.java\n",
    "    // public static void main(String[]args){\n",
    "\n",
    "        //intialize attributes (the defining characteristics)\n",
    "        String make = \"Chevrolet\";\n",
    "        String model = \"Convertte\";\n",
    "        int year = 2020;\n",
    "        String color = \"blue\";\n",
    "        double price = 5_000.00;\n",
    "\n",
    "        // methods: what actions our car object perform\n",
    "        void drive(){\n",
    "            System.out.println(\"you drive the car\");\n",
    "        }\n",
    "        void brake(){\n",
    "            System.out.println(\"you step on the break\");\n",
    "        }\n",
    "}\n",
    "/*\n",
    " * then in our Main.java\n",
    " */\n",
    "public class Main {\n",
    "    public static void main(String[]args){\n",
    "\n",
    "        //to construct an instance of another class\n",
    "        //so, construct a car object\n",
    "        //className uniqueNameInstanceOfClass = new NameOfClassAgain();\n",
    "        Car myCar = new Car();\n",
    "\n",
    "        //to display (or access) the characteristic (the attributes) of the car\n",
    "        //instance.attributeClass\n",
    "        System.out.println(myCar.model);\n",
    "        System.out.println(myCar.make);\n",
    "\n",
    "        //to perfrom methods is the same\n",
    "        //instance.methodClass\n",
    "        myCar.drive();\n",
    "        myCar.brake();\n",
    "    }\n",
    "}\n",
    "Main.main(new String[]{});"
   ]
  },
  {
   "cell_type": "markdown",
   "metadata": {},
   "source": [
    "* If we want to create more objects, we cannot. We need a constructor, next .ipynb"
   ]
  },
  {
   "cell_type": "code",
   "execution_count": 10,
   "metadata": {},
   "outputs": [
    {
     "name": "stdout",
     "output_type": "stream",
     "text": [
      "Convertte\n",
      "Chevrolet\n",
      "\n",
      "Convertte\n",
      "Chevrolet\n",
      "\n",
      "you drive the car\n",
      "you step on the break\n",
      "\n",
      "you drive the car\n",
      "you step on the break\n"
     ]
    }
   ],
   "source": [
    "public class Car {\n",
    "    // no main, since the main is inside Main.java\n",
    "    // public static void main(String[]args){\n",
    "\n",
    "        //intialize attributes (the defining characteristics)\n",
    "        String make = \"Chevrolet\";\n",
    "        String model = \"Convertte\";\n",
    "        int year = 2020;\n",
    "        String color = \"blue\";\n",
    "        double price = 5_000.00;\n",
    "\n",
    "        // methods: what actions our car object perform\n",
    "        void drive(){\n",
    "            System.out.println(\"you drive the car\");\n",
    "        }\n",
    "        void brake(){\n",
    "            System.out.println(\"you step on the break\");\n",
    "        }\n",
    "}\n",
    "/*\n",
    " * then in our Main.java\n",
    " */\n",
    "public class Main {\n",
    "    public static void main(String[]args){\n",
    "        //className uniqueNameInstanceOfClass = new NameOfClassAgain();\n",
    "        Car myCar1 = new Car();\n",
    "        Car myCar2 = new Car();\n",
    "\n",
    "        //to display (or access) the characteristic (the attributes) of the car\n",
    "        //instance.attributeClass\n",
    "        System.out.println(myCar1.model);\n",
    "        System.out.println(myCar1.make);\n",
    "        System.out.println();\n",
    "        System.out.println(myCar2.model);\n",
    "        System.out.println(myCar2.make);\n",
    "        System.out.println();\n",
    "        //to perfrom methods is the same\n",
    "        //instance.methodClass\n",
    "        myCar1.drive();\n",
    "        myCar1.brake();\n",
    "        System.out.println();\n",
    "        myCar2.drive();\n",
    "        myCar2.brake();\n",
    "    }\n",
    "}\n",
    "Main.main(new String[]{});"
   ]
  }
 ],
 "metadata": {
  "kernelspec": {
   "display_name": "Java",
   "language": "java",
   "name": "java"
  },
  "language_info": {
   "codemirror_mode": "java",
   "file_extension": ".jshell",
   "mimetype": "text/x-java-source",
   "name": "java",
   "pygments_lexer": "java",
   "version": "11.0.21+9-post-Ubuntu-0ubuntu122.04"
  }
 },
 "nbformat": 4,
 "nbformat_minor": 2
}
