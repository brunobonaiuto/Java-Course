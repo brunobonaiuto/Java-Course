{
 "cells": [
  {
   "cell_type": "markdown",
   "metadata": {},
   "source": [
    "### final keyword\n",
    "* the final is a constant, cannot be changed\n",
    "* `final type NAME`\n",
    "* remmember the var name in capital letters"
   ]
  },
  {
   "cell_type": "code",
   "execution_count": 1,
   "metadata": {},
   "outputs": [
    {
     "name": "stdout",
     "output_type": "stream",
     "text": [
      "4.0\n"
     ]
    }
   ],
   "source": [
    "public class Main {\n",
    "    public static void main(String[]args){\n",
    "       double pi  = 3.14159;\n",
    "       //updated to 4\n",
    "       pi = 4;\n",
    "       System.out.println(pi);\n",
    "    }\n",
    "}\n",
    "Main.main(new String[]{});"
   ]
  },
  {
   "cell_type": "markdown",
   "metadata": {},
   "source": [
    "* if we use the final keyword, it cannot be updated"
   ]
  },
  {
   "cell_type": "code",
   "execution_count": 2,
   "metadata": {},
   "outputs": [
    {
     "ename": "CompilationException",
     "evalue": "",
     "output_type": "error",
     "traceback": [
      "\u001b[1m\u001b[30m|   \u001b[1m\u001b[30m        \u001b[0m\u001b[1m\u001b[30m\u001b[41mpi\u001b[0m\u001b[1m\u001b[30m = 4;\u001b[0m",
      "\u001b[1m\u001b[31mcannot assign a value to final variable pi\u001b[0m",
      ""
     ]
    }
   ],
   "source": [
    "public class Main {\n",
    "    public static void main(String[]args){\n",
    "        final double PI  = 3.14159;\n",
    "        //cannot be updated\n",
    "        pi = 4;\n",
    "        System.out.println(pi);\n",
    "    }\n",
    "}\n",
    "Main.main(new String[]{});"
   ]
  }
 ],
 "metadata": {
  "kernelspec": {
   "display_name": "Java",
   "language": "java",
   "name": "java"
  },
  "language_info": {
   "codemirror_mode": "java",
   "file_extension": ".jshell",
   "mimetype": "text/x-java-source",
   "name": "java",
   "pygments_lexer": "java",
   "version": "11.0.21+9-post-Ubuntu-0ubuntu122.04"
  }
 },
 "nbformat": 4,
 "nbformat_minor": 2
}
