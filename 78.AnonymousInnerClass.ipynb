{
 "cells": [
  {
   "cell_type": "markdown",
   "metadata": {},
   "source": [
    "### Anonymous Inner Classes\n",
    "* An inner class without a name only a single object is created from one \n",
    "\t* The object may have “extras” or \"changes\" and no need to create a separate innerclass when it only need it once.\n",
    "\t* Helps us to avoid cluttering code with a class name\n",
    "\t* Syntax is similar to a constructor, except that there is also a class definition within a block of code. \n",
    "\t* GREAT FOR LISTENERS"
   ]
  },
  {
   "cell_type": "code",
   "execution_count": 2,
   "metadata": {
    "vscode": {
     "languageId": "java"
    }
   },
   "outputs": [
    {
     "name": "stdout",
     "output_type": "stream",
     "text": [
      "Hello World!\n",
      "Hello World! from Anonymous Class\n",
      "Hello World!\n"
     ]
    }
   ],
   "source": [
    "public class Greeting{\n",
    "\n",
    "\tpublic void welcome(){\n",
    "\t\tSystem.out.println(\"Hello World!\");\n",
    "\t}\n",
    "}\n",
    "\n",
    "\n",
    "public class Main {\n",
    "\tpublic static void main(String[] args) {\n",
    "\t\t//Normal way\n",
    "\t\tGreeting greeting = new Greeting();\n",
    "\t\tgreeting.welcome();\n",
    "\n",
    "\t\t//Anonymous Class\n",
    "\t\tGreeting greeting2 = new Greeting(){\n",
    "\t\t\t@Override\n",
    "\t\t\tpublic void welcome() {\n",
    "\t\t\t\tSystem.out.println(\"Hello World! from Anonymous Class\");\n",
    "\t\t\t}\n",
    "\t\t};\n",
    "\t\tgreeting2.welcome();\n",
    "\n",
    "\t\t//back to normal\n",
    "\t\tGreeting greeting3 = new Greeting();\n",
    "\t\tgreeting3.welcome();\n",
    "\n",
    "\n",
    "\t}\n",
    "}\n",
    "Main.main(new String []{});"
   ]
  }
 ],
 "metadata": {
  "kernelspec": {
   "display_name": "Java",
   "language": "java",
   "name": "java"
  },
  "language_info": {
   "codemirror_mode": "java",
   "file_extension": ".jshell",
   "mimetype": "text/x-java-source",
   "name": "Java",
   "pygments_lexer": "java",
   "version": "21.0.2+13-LTS-58"
  }
 },
 "nbformat": 4,
 "nbformat_minor": 2
}
