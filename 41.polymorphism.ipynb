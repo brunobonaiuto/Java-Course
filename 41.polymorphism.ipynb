{
 "cells": [
  {
   "cell_type": "markdown",
   "metadata": {},
   "source": [
    "### Polymorphism\n",
    "* The ability of an object to be identify as more than one type\n",
    "* Ex: A corvette can be identify as:\n",
    "    * A `Corvette`\n",
    "    * A `Car`\n",
    "    * A `Vehicle`\n",
    "    * An `Object`"
   ]
  },
  {
   "cell_type": "markdown",
   "metadata": {},
   "source": [
    "* To store different objects inside an Array, we can use `Polymorphism`\n",
    "* We can also call the same method for all the objects"
   ]
  },
  {
   "cell_type": "code",
   "execution_count": 2,
   "metadata": {},
   "outputs": [],
   "source": [
    "//Classes\n",
    "public class Vehicle { //Parent class\n",
    "\tpublic void go() {\n",
    "\t}\n",
    "}\n",
    "\n",
    "public class Car extends Vehicle{ //child class\n",
    "\t@Override\n",
    "\tpublic void go() {\n",
    "\t\tSystem.out.println(\"*The car begins moving*\");\n",
    "\t}\n",
    "}\n",
    "\n",
    "public class Bicycle extends Vehicle{ //child class\n",
    "\t@Override\n",
    "\tpublic void go() {\n",
    "\t\tSystem.out.println(\"*The bicycle begins moving*\");\n",
    "\t}\n",
    "}\n",
    "\n",
    "public class Boat extends Vehicle{ //child class\n",
    "\t@Override\n",
    "\tpublic void go() {\n",
    "\t\tSystem.out.println(\"*The boat begins moving*\");\n",
    "\t}\n",
    "}\n",
    "//**************************************\n",
    "public class Main {\n",
    "\tpublic static void main(String[] args) {\n",
    "\t\t\n",
    "\t\tCar car = new Car();\n",
    "\t\tBicycle bicycle = new Bicycle();\n",
    "\t\tBoat boat = new Boat();\n",
    "\t\t\n",
    "        //\n",
    "\t\tVehicle[] vehicles = {car,bicycle,boat};\n",
    "\t\n",
    "\t\tfor(Vehicle singleVehicle : vehicles) {\n",
    "\t\t\tsingleVehicle.go();\n",
    "\t\t}\t\t\n",
    "\t}\n",
    "}"
   ]
  }
 ],
 "metadata": {
  "kernelspec": {
   "display_name": "Java",
   "language": "java",
   "name": "java"
  },
  "language_info": {
   "codemirror_mode": "java",
   "file_extension": ".jshell",
   "mimetype": "text/x-java-source",
   "name": "java",
   "pygments_lexer": "java",
   "version": "21.0.3+9-LTS"
  }
 },
 "nbformat": 4,
 "nbformat_minor": 2
}
