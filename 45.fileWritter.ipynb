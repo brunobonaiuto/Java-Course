{
 "cells": [
  {
   "cell_type": "markdown",
   "metadata": {},
   "source": [
    "### FileWriter\n",
    "* The fileWriter class is: a class that allow us to write on a given file"
   ]
  },
  {
   "cell_type": "markdown",
   "metadata": {},
   "source": [
    "* `witer.write()`: to write line by line on a given file\n",
    "* `witer.append()`: to append at the end of the file\n",
    "* `witer.close()`: to close the writer at the end"
   ]
  },
  {
   "cell_type": "code",
   "execution_count": 1,
   "metadata": {
    "vscode": {
     "languageId": "java"
    }
   },
   "outputs": [],
   "source": [
    "import java.io.FileWriter;\n",
    "import java.io.IOException;\n",
    "\n",
    "public class Main {\n",
    "\n",
    " public static void main(String[] args) {\n",
    "  \n",
    "  try {\n",
    "   FileWriter writer = new FileWriter(\"poem.txt\");\n",
    "   writer.write(\"Writting on line one \\nThis gonna be on line two \\n...line three... \\n...line four...\");\n",
    "   writer.append(\"\\nwe did an append after line four\"); //to append to text at the end\n",
    "   writer.close(); //remember to close the writer\n",
    "  } \n",
    "  catch (IOException e) {\n",
    "   // TODO Auto-generated catch block\n",
    "   e.printStackTrace();\n",
    "  }\n",
    " }\n",
    "}\n",
    "Main.main(new String []{});\n"
   ]
  }
 ],
 "metadata": {
  "kernelspec": {
   "display_name": "Java",
   "language": "java",
   "name": "java"
  },
  "language_info": {
   "codemirror_mode": "java",
   "file_extension": ".jshell",
   "mimetype": "text/x-java-source",
   "name": "Java",
   "pygments_lexer": "java",
   "version": "21.0.3+9-LTS"
  }
 },
 "nbformat": 4,
 "nbformat_minor": 2
}
