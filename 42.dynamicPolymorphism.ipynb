{
 "cells": [
  {
   "cell_type": "markdown",
   "metadata": {},
   "source": [
    "### Dynamic Polymorphism\n",
    "* Also know as runtime polymorphism"
   ]
  },
  {
   "cell_type": "markdown",
   "metadata": {},
   "source": [
    "* `Polymorphism` = many shapes/forms -> It is the ability of an object to be identify as more than one type\n",
    "* `Dynamic` = means that, this polymorphism is after compilation (during runtime)"
   ]
  },
  {
   "cell_type": "code",
   "execution_count": 5,
   "metadata": {
    "vscode": {
     "languageId": "java"
    }
   },
   "outputs": [
    {
     "name": "stdout",
     "output_type": "stream",
     "text": [
      "What animal do you want?\n",
      "(1=dog) or (2=cat): dog goes *bark*\n"
     ]
    }
   ],
   "source": [
    "import java.util.Scanner;\n",
    "//Classes\n",
    "public class Animal { //Parent class\n",
    "    public void speak() {\n",
    "        System.out.println(\"animal goes *brrrr*\");\n",
    "    }\n",
    "}\n",
    "\n",
    "public class Dog extends Animal{ //Child class\n",
    "    @Override\n",
    "    public void speak() {\n",
    "        System.out.println(\"dog goes *bark*\");\n",
    "    }\n",
    "}\n",
    "\n",
    "public class Cat extends Animal{ //Child class\n",
    "    @Override\n",
    "    public void speak() {\n",
    "        System.out.println(\"cat goes *meow*\");\n",
    "    }\n",
    "}\n",
    "//**************************************\n",
    "public class Main {\n",
    "    public static void main(String[] args) {\n",
    "     //Dynamic Polymorphism\n",
    "\n",
    "     Scanner scanner = new Scanner(System.in);\n",
    "     Animal animal;\n",
    "     \n",
    "     System.out.println(\"What animal do you want?\"); \n",
    "     System.out.print(\"(1=dog) or (2=cat): \");\n",
    "     int choice = scanner.nextInt();\n",
    "     \n",
    "     //at runTime because of the scanner\n",
    "     if(choice==1) {\n",
    "      animal = new Dog();\n",
    "      animal.speak();\n",
    "     }\n",
    "     else if(choice==2) {\n",
    "      animal = new Cat();\n",
    "      animal.speak();\n",
    "     }\n",
    "     else {\n",
    "      animal = new Animal();\n",
    "      System.out.println(\"That choice was invalid\");\n",
    "      animal.speak();\n",
    "     }\n",
    "    }\n",
    "   }\n",
    "\n",
    "Main.main(new String[]{});\n",
    "   "
   ]
  }
 ],
 "metadata": {
  "kernelspec": {
   "display_name": "Java",
   "language": "java",
   "name": "java"
  },
  "language_info": {
   "codemirror_mode": "java",
   "file_extension": ".jshell",
   "mimetype": "text/x-java-source",
   "name": "Java",
   "pygments_lexer": "java",
   "version": "21.0.3+9-LTS"
  }
 },
 "nbformat": 4,
 "nbformat_minor": 2
}
