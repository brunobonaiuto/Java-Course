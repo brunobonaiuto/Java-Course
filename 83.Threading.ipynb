{
 "cells": [
  {
   "cell_type": "markdown",
   "metadata": {},
   "source": [
    "### Thread\n",
    "* Is a thread of execution in a program, its kind of like a virtual CPU\n",
    "* The JVM allows an application to have multiple threads running concurrently\n",
    "* Each thread can execute parts of you code in parallel with the main thread\n",
    "* Each thread has a priority\n",
    "* Threads with higher priority are executed in preference compared to threads with a lower priority\n",
    "* Note: The Java Virtual Machine continues to execute threads until either of the following occurs\n",
    "    * The exit method of class Runtime has been called\n",
    "    * or All user threads have died\n",
    "* Note 2: When a JVM starts up, there is a thread which calls the main method. This thread is called “main”    \n",
    "    "
   ]
  },
  {
   "cell_type": "markdown",
   "metadata": {},
   "source": [
    "* Working with the thread `main`"
   ]
  },
  {
   "cell_type": "code",
   "execution_count": 5,
   "metadata": {
    "vscode": {
     "languageId": "java"
    }
   },
   "outputs": [
    {
     "name": "stdout",
     "output_type": "stream",
     "text": [
      "5\n",
      "true\n"
     ]
    }
   ],
   "source": [
    "//*******************************************************************\n",
    "public class Main{\n",
    "    public static void main(String[] args) throws InterruptedException{  \n",
    "\t\t    \t\n",
    "    \t//Display the number of active threads \n",
    "    \t//System.out.println(Thread.activeCount());\n",
    "\n",
    "\t\t//get the name of the current thread running\n",
    "\t\t//System.out.println(Thread.currentThread().getName());\n",
    "    \t\n",
    "\t\t//we can set the name of the current thread running\n",
    "    \t//Thread.currentThread().setName(\"MAIN\");\n",
    "\n",
    "    \t//Each thread has a priority, the higher the number, the higher the priority (from 1 to 10)\n",
    "\t\t//get the priority of the current thread running\n",
    "    \tSystem.out.println(Thread.currentThread().getPriority());\n",
    "\n",
    "\t\t//set the priority of the current thread running\n",
    "    \t//Thread.currentThread().setPriority(10);\n",
    "    \t\n",
    "\t\t//to check if the current thread is alive, in this case the main thread\n",
    "    \tSystem.out.println(Thread.currentThread().isAlive());\n",
    "    \t\n",
    "\t\t/*\n",
    "    \tfor(int i =3;i>0;i--) {\n",
    "    \t\tSystem.out.println(i);\n",
    "\t\t\t//sleep the thread for 1 second\n",
    "    \t\tThread.sleep(1000);\n",
    "    \t}\n",
    "\t\t*/\n",
    "\t}\n",
    "}\n",
    "Main.main(new String[]{});"
   ]
  },
  {
   "cell_type": "markdown",
   "metadata": {},
   "source": [
    "* create a second thread, along with the main thread\n",
    "* For creating a second thread we need to create a `child class of Thread class`\n",
    "* Note: a second thread inherist the priority from the thread that creates this one. So, the main thread is creating the second thread, in that case: thread 2 will inherit the priority of main thread"
   ]
  },
  {
   "cell_type": "code",
   "execution_count": 4,
   "metadata": {
    "vscode": {
     "languageId": "java"
    }
   },
   "outputs": [
    {
     "name": "stdout",
     "output_type": "stream",
     "text": [
      "false\n"
     ]
    }
   ],
   "source": [
    "public class MyThread extends Thread{\n",
    "\n",
    "\t//we are overriding the run method of the Thread class\n",
    "\t@Override\n",
    "\tpublic void run() {\n",
    "\t\tif(this.isDaemon()) {\n",
    "\t\tSystem.out.println(\"This is a daemon thread that is running\");\n",
    "\t\t}\n",
    "\t\telse {\n",
    "\t\t\tSystem.out.println(\"This is a user thread that is running\");\n",
    "\t\t}\n",
    "\t}\n",
    "}\n",
    "\n",
    "public class Main{\n",
    "\tpublic static void main(String[] args) throws InterruptedException{\n",
    "\t\t\n",
    "    \t//we create the thread object\n",
    "    \tMyThread thread2 = new MyThread();\n",
    "\n",
    "\t\t//to check is the second thread is alive --> returns false, becase we need to start the thread\n",
    "\t\tSystem.out.println(thread2.isAlive());\n",
    "\n",
    "\t\t//after calling the start method, the thread is alive\n",
    "    \t//thread2.start();\n",
    "\n",
    "\t\t//get the name of the thread 2 --> returns Thread-0\n",
    "\t\t//System.out.println(thread2.getName());\n",
    "\n",
    "\t\t//set the name of the thread 2\n",
    "\t\t//thread2.setName(\"2nd thread\");\n",
    "\n",
    "\t\t//get the priority of the thread 2\n",
    "\t\t//System.out.println(thread2.getPriority());\n",
    "\n",
    "\t\t//after starting thread 2, we would have 2 active threads\n",
    "\t\t//System.out.println(Thread.activeCount());\n",
    "    } \n",
    "}\n",
    "Main.main(new String[]{});\n"
   ]
  },
  {
   "cell_type": "markdown",
   "metadata": {},
   "source": [
    "* There are two kind of threads, `users threads` and `daemon threads`\n",
    "* Daemon thread: Is a low priority thread that runs in background to perform tasks such as garbage collection, JVM terminates itself when all user threads (non-daemon threads) finish their execution\n",
    "    * So, if we were to create another thread, this would be by default a `user` thread and not a `daemon` thread. But if we want we can change it to be a daemon thread"
   ]
  },
  {
   "cell_type": "code",
   "execution_count": 3,
   "metadata": {
    "vscode": {
     "languageId": "java"
    }
   },
   "outputs": [
    {
     "name": "stdout",
     "output_type": "stream",
     "text": [
      "false\n",
      "This is a daemon thread that is running\n"
     ]
    }
   ],
   "source": [
    "public class MyThread extends Thread{\n",
    "\n",
    "\t//we are overriding the run method of the Thread class\n",
    "\t@Override\n",
    "\tpublic void run() {\n",
    "\t\tif(this.isDaemon()) {\n",
    "\t\tSystem.out.println(\"This is a daemon thread that is running\");\n",
    "\t\t}\n",
    "\t\telse {\n",
    "\t\t\tSystem.out.println(\"This is a user thread that is running\");\n",
    "\t\t}\n",
    "\t}\n",
    "}\n",
    "\n",
    "public class Main{\n",
    "\tpublic static void main(String[] args) throws InterruptedException{\n",
    "\t\n",
    "    \tMyThread thread2 = new MyThread();\n",
    "\n",
    "\t\t//check if the thread is a daemon thread\n",
    "\t\tSystem.out.println(thread2.isDaemon()); //returns false\n",
    "\n",
    "\t\t//set the thread to be a daemon thread\n",
    "\t\tthread2.setDaemon(true); //returns true\n",
    "\n",
    "\t\t//let's see the the daemon thread \n",
    "\t\tthread2.start();\n",
    "    } \n",
    "}\n",
    "Main.main(new String[]{});"
   ]
  }
 ],
 "metadata": {
  "kernelspec": {
   "display_name": "Java",
   "language": "java",
   "name": "java"
  },
  "language_info": {
   "codemirror_mode": "java",
   "file_extension": ".jshell",
   "mimetype": "text/x-java-source",
   "name": "Java",
   "pygments_lexer": "java",
   "version": "21.0.2+13-LTS-58"
  }
 },
 "nbformat": 4,
 "nbformat_minor": 2
}
