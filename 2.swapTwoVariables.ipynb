{
 "cells": [
  {
   "cell_type": "markdown",
   "metadata": {},
   "source": [
    "### Swap two variables\n",
    "* Use a \"temp\" variable to solve it "
   ]
  },
  {
   "cell_type": "code",
   "execution_count": 2,
   "metadata": {
    "vscode": {
     "languageId": "java"
    }
   },
   "outputs": [
    {
     "name": "stdout",
     "output_type": "stream",
     "text": [
      "x : kool-Aid\n",
      "y : water\n"
     ]
    }
   ],
   "source": [
    "public class Main {\n",
    "    public static void main (String[]args){\n",
    "\n",
    "        String x = \"water\";\n",
    "        String y = \"kool-Aid\";\n",
    "        //x = y; // both will be \"kool-Aid\"\n",
    "        //y = x; //both will be \"water\"\n",
    "        String temp = x;\n",
    "        x = y;\n",
    "        y = temp;\n",
    "        \n",
    "        System.out.println(\"x : \"+x);\n",
    "        System.out.println(\"y : \"+y);\n",
    "\n",
    "    }\n",
    "}\n",
    "\n",
    "Main mainInstance = new Main();\n",
    "mainInstance.main(new String[]{});"
   ]
  }
 ],
 "metadata": {
  "kernelspec": {
   "display_name": "Java",
   "language": "java",
   "name": "java"
  },
  "language_info": {
   "codemirror_mode": "java",
   "file_extension": ".jshell",
   "mimetype": "text/x-java-source",
   "name": "Java",
   "pygments_lexer": "java",
   "version": "21.0.2+13-LTS-58"
  }
 },
 "nbformat": 4,
 "nbformat_minor": 2
}
