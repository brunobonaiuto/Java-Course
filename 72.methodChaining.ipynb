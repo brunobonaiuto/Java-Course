{
 "cells": [
  {
   "cell_type": "markdown",
   "metadata": {},
   "source": [
    "### The method chaining\n",
    "* a common syntax for invoking multiples method calls in OOP condense code into less lines"
   ]
  },
  {
   "cell_type": "code",
   "execution_count": 1,
   "metadata": {
    "vscode": {
     "languageId": "java"
    }
   },
   "outputs": [
    {
     "name": "stdout",
     "output_type": "stream",
     "text": [
      "BROCODE\n"
     ]
    }
   ],
   "source": [
    "\n",
    "public class Main {\n",
    "\n",
    "    public static void main(String[] args) {\n",
    "     \n",
    "     // method chaining =  a common syntax for invoking multiple method calls in OOP\n",
    "     //      condense code into less lines\n",
    "     \n",
    "     String name = \"      bro\";\n",
    "     \n",
    "     //name = name.concat(\" code   \");\n",
    "     //name = name.toUpperCase();\n",
    "     //name = name.trim();\n",
    "     \n",
    "     //instead we do it in a single line:\n",
    "     name = name.concat(\"code\").toUpperCase().trim();\n",
    "     \n",
    "     System.out.println(name);\n",
    "      \n",
    "    }\n",
    "   }\n",
    "Main.main(new String []{});\n"
   ]
  }
 ],
 "metadata": {
  "kernelspec": {
   "display_name": "Java",
   "language": "java",
   "name": "java"
  },
  "language_info": {
   "codemirror_mode": "java",
   "file_extension": ".jshell",
   "mimetype": "text/x-java-source",
   "name": "Java",
   "pygments_lexer": "java",
   "version": "21.0.3+9-LTS"
  }
 },
 "nbformat": 4,
 "nbformat_minor": 2
}
