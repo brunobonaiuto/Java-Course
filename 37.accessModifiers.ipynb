{
 "cells": [
  {
   "cell_type": "markdown",
   "metadata": {},
   "source": [
    "### access modifiers\n",
    "* `public`: visible in all classes in all packages\n",
    "* `protected`: visible to all classes in the same package or classes in other packages that are a subclass(as long as they are subclasses)\n",
    "* `default`: visible to all classes in the same package \n",
    "* `private`: visible only in the same class"
   ]
  },
  {
   "cell_type": "code",
   "execution_count": null,
   "metadata": {
    "vscode": {
     "languageId": "java"
    }
   },
   "outputs": [],
   "source": [
    "package package1;\n",
    "import package2.*;\n",
    "//class A\n",
    "public class A {\n",
    "\tpublic static void main(String[] args) {\n",
    "\t\t//create a instance of class C\n",
    "\t\tC c = new C();\n",
    "\t\t//not visible for package1, only visible for package2 \n",
    "\t\tSystem.out.println(c.defaultMessage);\n",
    "\n",
    "\t\t//visible to any package within the project folder \n",
    "\t\tSystem.out.println(c.publicMessage); \n",
    "\t}\n",
    "}\n",
    "//class B\n",
    "public class B{\n",
    "\n",
    "}\n",
    "Main.main(new String[]{});"
   ]
  },
  {
   "cell_type": "code",
   "execution_count": null,
   "metadata": {
    "vscode": {
     "languageId": "java"
    }
   },
   "outputs": [],
   "source": [
    "package package2;\n",
    "import package1.*;\n",
    "\n",
    "//class C\n",
    "public class C{\n",
    "    public String publicMessage = \"This is public\";\n",
    "    //no access modifier\n",
    "    String defaultMessage = \"This is the default\";\n",
    "}\n",
    "//class ASubClass\n",
    "//we need an import to get class A\n",
    "public class A_sub_class extends A{\n",
    "    public static void main(String[] args) {\n",
    "\t\t//create a instance of class C\n",
    "\t\tC c = new C();\n",
    "\t\t//visible, because they are in the same package\n",
    "\t\tSystem.out.println(c.defaultMessage); \n",
    "\n",
    "        //visible to any package within the project folder \n",
    "\t\tSystem.out.println(c.publicMessage); \n",
    "\t}\n",
    "}"
   ]
  },
  {
   "cell_type": "markdown",
   "metadata": {},
   "source": [
    "* Same code but now class C is `default`"
   ]
  },
  {
   "cell_type": "code",
   "execution_count": null,
   "metadata": {
    "vscode": {
     "languageId": "java"
    }
   },
   "outputs": [],
   "source": [
    "package package1;\n",
    "import package2.*;\n",
    "//class A\n",
    "public class A {\n",
    "\tpublic static void main(String[] args) {\n",
    "\t\t//cannot create instance of class C, is default, and is visible only within the package2\n",
    "\t\tC c = new C();\n",
    "\t\t//not visible for package1, only visible for package2 \n",
    "\t\tSystem.out.println(c.defaultMessage);\n",
    "\n",
    "\t\t//not visible for package1, only visible for package2, because now c is default \n",
    "\t\tSystem.out.println(c.publicMessage); \n",
    "\t}\n",
    "}\n",
    "//class B\n",
    "public class B{\n",
    "\n",
    "}\n",
    "Main.main(new String[]{});"
   ]
  },
  {
   "cell_type": "code",
   "execution_count": null,
   "metadata": {
    "vscode": {
     "languageId": "java"
    }
   },
   "outputs": [],
   "source": [
    "package package2;\n",
    "import package1.*;\n",
    "\n",
    "//class C\n",
    "class C{\n",
    "    public String publicMessage = \"This is public\";\n",
    "    //no access modifier\n",
    "    String defaultMessage = \"This is the default\";\n",
    "}\n",
    "//class ASubClass\n",
    "//we need an import to get class A\n",
    "public class A_sub_class extends A{\n",
    "    public static void main(String[] args) {\n",
    "\t\t//create a instance of class C\n",
    "\t\tC c = new C();\n",
    "\t\t//visible, because they are in the same package\n",
    "\t\tSystem.out.println(c.defaultMessage); \n",
    "\n",
    "        //visible to any package within the project folder \n",
    "\t\tSystem.out.println(c.publicMessage); \n",
    "\t}\n",
    "}"
   ]
  },
  {
   "cell_type": "markdown",
   "metadata": {},
   "source": [
    "* Now, the `protected` access modifier\n",
    "    * class C is back to public\n",
    "* protected: visible to all classes in the same package or classes in other packages that are a subclass, AS LONG AS IS A subclass (as long as is extended) "
   ]
  },
  {
   "cell_type": "code",
   "execution_count": null,
   "metadata": {
    "vscode": {
     "languageId": "java"
    }
   },
   "outputs": [],
   "source": [
    "package package1;\n",
    "import package2.*;\n",
    "//class A\n",
    "public class A {\n",
    "    //protected\n",
    "    protected String protectedMessage = \"this is protected\"\n",
    "}\n",
    "//class B\n",
    "public class B{\n",
    "\n",
    "}\n",
    "Main.main(new String[]{});"
   ]
  },
  {
   "cell_type": "code",
   "execution_count": null,
   "metadata": {
    "vscode": {
     "languageId": "java"
    }
   },
   "outputs": [],
   "source": [
    "package package2;\n",
    "import package1.*;\n",
    "\n",
    "//class C\n",
    "public class C{\n",
    "\n",
    "}\n",
    "\n",
    "//class ASubClass\n",
    "public class A_sub_class extends A{\n",
    "\n",
    "\tpublic static void main(String[] args) {\n",
    "\t\t//create instances of Asub\n",
    "        A_sub_class asub = new A_sub_class();\n",
    "        //visible dentro del package solo, pero si hacemos extend entonces es visible para la subclass\n",
    "        System.out.println(asub.protectedMessage);\n",
    "\n",
    "\t}\n",
    "}"
   ]
  },
  {
   "cell_type": "markdown",
   "metadata": {},
   "source": [
    "* `private` \n",
    "*  only visible for that class that contains itself. (solo para su misma clase)"
   ]
  },
  {
   "cell_type": "code",
   "execution_count": null,
   "metadata": {
    "vscode": {
     "languageId": "java"
    }
   },
   "outputs": [],
   "source": [
    "package package1;\n",
    "import package2.*;\n",
    "//class A\n",
    "public class A {\n",
    "\n",
    "}\n",
    "//class B\n",
    "public class B{\n",
    "    //private-- ONLY B HAS ACCESS\n",
    "    private String privateMessage = \"this is private\"\n",
    "}\n",
    "Main.main(new String[]{});"
   ]
  },
  {
   "cell_type": "code",
   "execution_count": null,
   "metadata": {
    "vscode": {
     "languageId": "java"
    }
   },
   "outputs": [],
   "source": [
    "package package2;\n",
    "import package1.*;\n",
    "\n",
    "//class C\n",
    "public class C{\n",
    "\n",
    "}\n",
    "\n",
    "//class ASubClass\n",
    "public class A_sub_class extends A{\n",
    "\n",
    "\tpublic static void main(String[] args) {\n",
    "\t\tB b = new B();\n",
    "\t\t//not visible, its only visible for class B\n",
    "\t\tSystem.out.println(b.privateMessage);\n",
    "\t}\n",
    "}"
   ]
  }
 ],
 "metadata": {
  "kernelspec": {
   "display_name": "Java",
   "language": "java",
   "name": "java"
  },
  "language_info": {
   "codemirror_mode": "java",
   "file_extension": ".jshell",
   "mimetype": "text/x-java-source",
   "name": "Java",
   "pygments_lexer": "java",
   "version": "11.0.21+9"
  }
 },
 "nbformat": 4,
 "nbformat_minor": 2
}
