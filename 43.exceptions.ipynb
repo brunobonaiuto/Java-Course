{
 "cells": [
  {
   "cell_type": "markdown",
   "metadata": {},
   "source": [
    "### Exceptions\n",
    "* It is an event that occurs during the execution of a program that, disrupts the normal flow of instructions"
   ]
  },
  {
   "cell_type": "markdown",
   "metadata": {},
   "source": [
    "* `xx`"
   ]
  },
  {
   "cell_type": "code",
   "execution_count": 5,
   "metadata": {
    "vscode": {
     "languageId": "java"
    }
   },
   "outputs": [
    {
     "name": "stdout",
     "output_type": "stream",
     "text": [
      "What animal do you want?\n",
      "(1=dog) or (2=cat): dog goes *bark*\n"
     ]
    }
   ],
   "source": [
    "import java.util.InputMismatchException;\n",
    "import java.util.Scanner;\n",
    "\n",
    "public class Main {\n",
    "\n",
    "\tpublic static void main(String[] args) {\n",
    "\t\tScanner scanner = new Scanner(System.in);\n",
    "\t\t\n",
    "\t\ttry {\n",
    "\t\t\tSystem.out.println(\"Enter a whole number to divide: \");\n",
    "\t\t\tint x = scanner.nextInt();\n",
    "\t\t\n",
    "\t\t\tSystem.out.println(\"Enter a whole number to divide by: \");\n",
    "\t\t\tint y = scanner.nextInt();\n",
    "\t\t\n",
    "\t\t\tint z = x/y;\n",
    "\t\t\n",
    "\t\t\tSystem.out.println(\"result: \" + z);\n",
    "\t\t}\n",
    "\t\tcatch(ArithmeticException e) {\n",
    "\t\t\tSystem.out.println(\"You can't divide by zero! IDIOT!\");\n",
    "\t\t}\n",
    "\t\tcatch(InputMismatchException e) {\n",
    "\t\t\tSystem.out.println(\"PLEASE ENTER A NUMBER OMFG!!!\");\n",
    "\t\t}\n",
    "\t\tcatch(Exception e) {\n",
    "\t\t\tSystem.out.println(\"Something went wrong\");\n",
    "\t\t}\n",
    "\t\tfinally {\n",
    "\t\t\tscanner.close();\n",
    "\t\t}\t\t\t\n",
    "\t}\n",
    "}"
   ]
  }
 ],
 "metadata": {
  "kernelspec": {
   "display_name": "Java",
   "language": "java",
   "name": "java"
  },
  "language_info": {
   "codemirror_mode": "java",
   "file_extension": ".jshell",
   "mimetype": "text/x-java-source",
   "name": "Java",
   "pygments_lexer": "java",
   "version": "21.0.3+9-LTS"
  }
 },
 "nbformat": 4,
 "nbformat_minor": 2
}
