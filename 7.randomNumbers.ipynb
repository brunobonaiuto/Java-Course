{
 "cells": [
  {
   "cell_type": "markdown",
   "metadata": {},
   "source": [
    "### Random Numbers\n",
    "* import java.util.Random;\n",
    "* give us pseudo random numbers, and not real random numbers"
   ]
  },
  {
   "cell_type": "code",
   "execution_count": 11,
   "metadata": {
    "vscode": {
     "languageId": "java"
    }
   },
   "outputs": [
    {
     "name": "stdout",
     "output_type": "stream",
     "text": [
      "5\n",
      "6\n",
      "0.8864862969225302\n",
      "true\n"
     ]
    }
   ],
   "source": [
    "import java.util.Random;\n",
    "\n",
    "public class Main{\n",
    "    public static void main (String[] args){\n",
    "\n",
    "        //create a instance of the random class\n",
    "        Random random = new Random();\n",
    "\n",
    "        // int are from -2,147,483,648 to 2,147,483,647\n",
    "        int a = random.nextInt();\n",
    "        // // the output should be in that range\n",
    "        // System.out.println(a);\n",
    "\n",
    "        //to limit the size between (0 and 5)\n",
    "        int b = random.nextInt(6);\n",
    "        //print\n",
    "        System.out.println(b); //until 5\n",
    "\n",
    "        // to limit the size including the number use \n",
    "        int c = random.nextInt(6)+1;\n",
    "        //print\n",
    "        System.out.println(c); //until 6\n",
    "\n",
    "        //to generate a random double \n",
    "        double d = random.nextDouble();\n",
    "        //print\n",
    "        System.out.println(d);\n",
    "\n",
    "        //to generate a random boolean\n",
    "        boolean e =  random.nextBoolean();\n",
    "        System.out.println(e);\n",
    "    }\n",
    "}\n",
    "Main.main(new String[]{});"
   ]
  }
 ],
 "metadata": {
  "kernelspec": {
   "display_name": "Java",
   "language": "java",
   "name": "java"
  },
  "language_info": {
   "codemirror_mode": "java",
   "file_extension": ".jshell",
   "mimetype": "text/x-java-source",
   "name": "Java",
   "pygments_lexer": "java",
   "version": "11.0.1+13-LTS"
  }
 },
 "nbformat": 4,
 "nbformat_minor": 2
}
