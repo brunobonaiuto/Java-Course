{
 "cells": [
  {
   "cell_type": "markdown",
   "metadata": {},
   "source": [
    "### abstract keyword\n",
    "* abstract can be applied to classes and methods\n",
    "    * abstract classes cannot be instantiated, but they can have a subclass (can be extended)\n",
    "    * abstract methods are declared without implementation"
   ]
  },
  {
   "cell_type": "code",
   "execution_count": 1,
   "metadata": {
    "vscode": {
     "languageId": "java"
    }
   },
   "outputs": [
    {
     "name": "stdout",
     "output_type": "stream",
     "text": [
      "The driver is driving the car\n"
     ]
    }
   ],
   "source": [
    "public abstract class Vehicle {\n",
    "    //abstract method\n",
    "\tabstract void go();\n",
    "}\n",
    "//****************************************\n",
    "public class Car extends Vehicle{\n",
    "\t@Override\n",
    "\tvoid go() {\n",
    "        //implementation of abstract method \n",
    "\t\tSystem.out.println(\"The driver is driving the car\");\n",
    "\t}\n",
    "}\n",
    "//****************************************\n",
    "public class Main {\n",
    "\tpublic static void main(String[] args) {\n",
    "\t\t//vehicle is abstract, cannot be instanciated\n",
    "        //Vehicle vehicle = new Vehicle();\n",
    "\t\tCar car = new Car();\n",
    "\n",
    "\t\tcar.go();\n",
    "\t}\n",
    "}\n",
    "Main.main(new String[]{});"
   ]
  }
 ],
 "metadata": {
  "kernelspec": {
   "display_name": "Java",
   "language": "java",
   "name": "java"
  },
  "language_info": {
   "codemirror_mode": "java",
   "file_extension": ".jshell",
   "mimetype": "text/x-java-source",
   "name": "Java",
   "pygments_lexer": "java",
   "version": "11.0.21+9"
  }
 },
 "nbformat": 4,
 "nbformat_minor": 2
}
