{
 "cells": [
  {
   "cell_type": "markdown",
   "metadata": {},
   "source": [
    "### Overloaded Methods\n",
    "* are methods that share the same name but have differents paramters\n",
    "    * each method needs it's own signature\n",
    "        * method name + parameters = **method signature**\n",
    "    * this means even if they have the same name, with different paramters they have differents signatures then "
   ]
  },
  {
   "cell_type": "code",
   "execution_count": 4,
   "metadata": {
    "vscode": {
     "languageId": "java"
    }
   },
   "outputs": [
    {
     "name": "stdout",
     "output_type": "stream",
     "text": [
      "overloaded method #3\n",
      "10\n"
     ]
    }
   ],
   "source": [
    "public class Main {\n",
    "    public static void main (String[]args){\n",
    "        // int x = add(1) //error 2 args needs\n",
    "        \n",
    "        // int x = add(1,2);\n",
    "        // System.out.println(x);\n",
    "\n",
    "        // int x = add(1,2,3);\n",
    "        // System.out.println(x);\n",
    "        \n",
    "        int x = add(1,2,3,4);\n",
    "        System.out.println(x);\n",
    "\n",
    "    }\n",
    "    static int add(int a, int b){\n",
    "        System.out.println(\"overloaded method #1\");\n",
    "        return a + b;\n",
    "    }\n",
    "    static int add(int a, int b, int c){\n",
    "        System.out.println(\"overloaded method #2\");\n",
    "        return a + b + c;\n",
    "    }\n",
    "    static int add(int a, int b, int c, int d){\n",
    "        System.out.println(\"overloaded method #3\");\n",
    "        return a + b + c + d;\n",
    "    }\n",
    "}\n",
    "Main.main(new String[]{});"
   ]
  },
  {
   "cell_type": "markdown",
   "metadata": {},
   "source": [
    "* let's create 3 more method with type double"
   ]
  },
  {
   "cell_type": "code",
   "execution_count": 9,
   "metadata": {
    "vscode": {
     "languageId": "java"
    }
   },
   "outputs": [
    {
     "name": "stdout",
     "output_type": "stream",
     "text": [
      "overloaded method #5\n",
      "6.0\n"
     ]
    }
   ],
   "source": [
    "public class Main {\n",
    "    public static void main (String[]args){\n",
    "        double x = add(1.0,2.0,3.0);\n",
    "        System.out.println(x);\n",
    "\n",
    "    //ints\n",
    "    }\n",
    "    static int add(int a, int b){\n",
    "        System.out.println(\"overloaded method #1\");\n",
    "        return a + b;\n",
    "    }\n",
    "    static int add(int a, int b, int c){\n",
    "        System.out.println(\"overloaded method #2\");\n",
    "        return a + b + c;\n",
    "    }\n",
    "    static int add(int a, int b, int c, int d){\n",
    "        System.out.println(\"overloaded method #3\");\n",
    "        return a + b + c + d;\n",
    "    }\n",
    "    // doubles\n",
    "    static double add(double a, double b){\n",
    "        System.out.println(\"overloaded method #4\");\n",
    "        return a + b;\n",
    "    }\n",
    "    static double add(double a, double b, double c){\n",
    "        System.out.println(\"overloaded method #5\");\n",
    "        return a + b + c;\n",
    "    }\n",
    "    static double add(double a, double b, double c, double d){\n",
    "        System.out.println(\"overloaded method #6\");\n",
    "        return a + b + c + d;\n",
    "    }\n",
    "}\n",
    "Main.main(new String[]{});"
   ]
  }
 ],
 "metadata": {
  "kernelspec": {
   "display_name": "Java",
   "language": "java",
   "name": "java"
  },
  "language_info": {
   "codemirror_mode": "java",
   "file_extension": ".jshell",
   "mimetype": "text/x-java-source",
   "name": "Java",
   "pygments_lexer": "java",
   "version": "11.0.1+13-LTS"
  }
 },
 "nbformat": 4,
 "nbformat_minor": 2
}
