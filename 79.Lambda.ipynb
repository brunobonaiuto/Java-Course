{
 "cells": [
  {
   "cell_type": "markdown",
   "metadata": {},
   "source": [
    "### Lambda expression"
   ]
  },
  {
   "cell_type": "code",
   "execution_count": 1,
   "metadata": {},
   "outputs": [
    {
     "name": "stdout",
     "output_type": "stream",
     "text": [
      "Simple lambda\n",
      "\n",
      "Heello World!\n",
      "It is a nice day Bro!\n",
      "Hello Bro!\n"
     ]
    }
   ],
   "source": [
    "\n",
    "@FunctionalInterface\n",
    "public interface MyInterface {\n",
    "\n",
    "\tpublic void message(String name,char symbol);\n",
    "}\n",
    "\n",
    "@FunctionalInterface\n",
    "public interface MySimpleInterface {\n",
    "\n",
    "\tpublic void message();\n",
    "}\n",
    "\n",
    "//******************************* Example 1 **************************************\n",
    "public class Main {\n",
    "\tpublic static void main(String[] args) {\n",
    "\t\t/* lambda expression = \tfeature for Java 8 and above\n",
    "\t\t* \t\t\t\t\t\talso known as an anonymous method\n",
    "\t\t* \t\t\t\t\t\ta shorter way to write anonymous classes with only one method\n",
    "\t\t*\n",
    "\t\t*\t\t\t\t\t\tneed to use a functional interface or use a pre-defined functional interface\n",
    "\t\t*\t\t\t\t\t\tthey contain only one abstract method\n",
    "\t\t*\t\t\t\t\t\tex. ActionListener, Runnable, (user-defined)\n",
    "\t\t*\n",
    "\t\t*\t\t\t\t\t\tA Lambda expression can be used in any place where a functional interface is required\n",
    "\t\t*\t\t\t\t\t\tHow to use a lambda expression:\n",
    "\t\t*\t\t\t\t\t\t(arguments) -> {statement/s}\n",
    "\t\t*/\n",
    "\t\t\n",
    "\t\t// Example 1\n",
    "\t\tMySimpleInterface mySimpleInterface = () -> System.out.println(\"Simple lambda\\n\");\n",
    "\t\tmySimpleInterface.message();\n",
    "\n",
    "\t\tString name = \"Bro\";\n",
    "\t\tchar symbol = '!';\n",
    "\t\t\n",
    "\t\tMyInterface myInterface = (x,y) -> {\n",
    "\t\t\tSystem.out.println(\"Heello World!\");\n",
    "\t\t\tSystem.out.println(\"It is a nice day \"+x+y);\n",
    "\t\t};\n",
    "\t\t\t\n",
    "\t\tMyInterface myInterface2 = (x,y) -> {\n",
    "\t\t\tSystem.out.println(\"Hello \"+x+y);\n",
    "\t\t};\n",
    "\t\t\t\n",
    "\t\tmyInterface.message(name,symbol);\n",
    "\t\tmyInterface2.message(name,symbol);\n",
    "\t}\n",
    "}\n",
    "Main.main(new String[]{});"
   ]
  },
  {
   "cell_type": "code",
   "execution_count": 9,
   "metadata": {},
   "outputs": [
    {
     "ename": "",
     "evalue": "",
     "output_type": "error",
     "traceback": [
      "\u001b[1;31mThe Kernel crashed while executing code in the current cell or a previous cell. \n",
      "\u001b[1;31mPlease review the code in the cell(s) to identify a possible cause of the failure. \n",
      "\u001b[1;31mClick <a href='https://aka.ms/vscodeJupyterKernelCrash'>here</a> for more info. \n",
      "\u001b[1;31mView Jupyter <a href='command:jupyter.viewOutput'>log</a> for further details."
     ]
    }
   ],
   "source": [
    "//******************************* Example 2 **************************************\n",
    "import java.awt.event.*;\n",
    "import javax.swing.*;\n",
    "\n",
    "public class MyFrame extends JFrame{\n",
    "\n",
    "\tJButton myButton = new JButton(\"MY BUTTON 1\");\n",
    "\tJButton myButton2 = new JButton(\"MY BUTTON 2\");\n",
    "\t\n",
    "\tMyFrame(){\n",
    "\t\t\n",
    "\t\tmyButton.setBounds(100, 100, 200, 100);\n",
    "\t\tmyButton.addActionListener(\n",
    "\t\t\t\n",
    "\t\t\t(e) -> System.out.println(\"This is the first button\")\n",
    "\t\t\t\t\t\t\n",
    "\t\t);\t\n",
    "\t\t\n",
    "\t\tmyButton2.setBounds(100, 200, 200, 100);\n",
    "\t\tmyButton2.addActionListener(\n",
    "\t\t\t\n",
    "\t\t\t(e) -> System.out.println(\"This is the second button\")\n",
    "\t\t\t\t\t\t\n",
    "\t\t);\t\n",
    "\t\n",
    "\t\tthis.add(myButton);\n",
    "\t\tthis.add(myButton2);\n",
    "\t\tthis.setDefaultCloseOperation(JFrame.EXIT_ON_CLOSE);\n",
    "\t\tthis.setSize(420, 420);\n",
    "\t\tthis.setLayout(null);\n",
    "\t\tthis.setVisible(true);\n",
    "\t}\n",
    "}\n",
    "//************************************************************************************\n",
    "public class Main {\n",
    "\n",
    "\tpublic static void main(String[] args) {\n",
    "\t\t\n",
    "\t\tMyFrame myFrame = new MyFrame();\n",
    "\t}\n",
    "\n",
    "}\n",
    "//************************************************************************************\n",
    "Main.main(new String[]{});"
   ]
  }
 ],
 "metadata": {
  "kernelspec": {
   "display_name": "Java",
   "language": "java",
   "name": "java"
  },
  "language_info": {
   "codemirror_mode": "java",
   "file_extension": ".jshell",
   "mimetype": "text/x-java-source",
   "name": "java",
   "pygments_lexer": "java",
   "version": "21.0.2+13-LTS-58"
  }
 },
 "nbformat": 4,
 "nbformat_minor": 2
}
