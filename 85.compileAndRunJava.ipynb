{
 "cells": [
  {
   "cell_type": "markdown",
   "metadata": {},
   "source": [
    "### Compile and Run"
   ]
  },
  {
   "cell_type": "markdown",
   "metadata": {},
   "source": [
    "1. Make sure you have a Java JDK installed (we did this in lesson #1)\n",
    "2. (optional) use a text editor and save a file as .java\n",
    "3. Open Command Prompt (windows) or Terminal (Mac) on your computer\n",
    "4. set path=C:\\Program Files\\Java\\jdk-14.0.1\\bin (where JDK is located)\n",
    "5. cd C:\\Users\\Myname\\Desktop (or wherever you java file is)\n",
    "6. javac HelloWorld.java (to compile)\n",
    "7. java HelloWorld (to run a .class file, it's portable)"
   ]
  },
  {
   "cell_type": "markdown",
   "metadata": {},
   "source": [
    "* copy and paste this line on command line\n",
    "* set the pat to the JDK on cmd (already configured)\n",
    "* go to the dir of the java file\n",
    "    * ` cd C:\\Users\\bruno\\OneDrive\\Documents\\MEGA\\MEGA\\all_here\\courses\\freeCodeCamp\\Java programming\\Bro Code\\resources`\n",
    "* compile the java file to obtain a `.class` file\n",
    "    * `javac Main.java`\n",
    "* the byte code is inside the `.class` file\n",
    "* run the `.class` file and get the output\n",
    "    * `java Main`"
   ]
  }
 ],
 "metadata": {
  "kernelspec": {
   "display_name": "Java",
   "language": "java",
   "name": "java"
  },
  "language_info": {
   "codemirror_mode": "java",
   "file_extension": ".jshell",
   "mimetype": "text/x-java-source",
   "name": "Java",
   "pygments_lexer": "java",
   "version": "21.0.2+13-LTS-58"
  }
 },
 "nbformat": 4,
 "nbformat_minor": 2
}
