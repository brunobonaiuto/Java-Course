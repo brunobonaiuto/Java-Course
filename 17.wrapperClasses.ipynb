{
 "cells": [
  {
   "cell_type": "markdown",
   "metadata": {},
   "source": [
    "### wrapper classes\n",
    "* a wrapper class: provides a way to use primitive data types as reference data types\n",
    "    * wrapper are a bit slower than primitive data types\n",
    "* what are the advantages??\n",
    "    * a reference data types contains useful methods\n",
    "    * can be used with collections (ex. ArrayList)\n",
    "    * Note: `String` is already a reference data type\n",
    "\n",
    "* primitive: `boolean`,`char`,`int`,`double`\n",
    "* wrapper: `Boolean`,`Character`,`Integer`,`Double`\n",
    "* To access the value within a wrapper class(use autoboxing or unboxing). ie. \n",
    "* autoboxing : the automatic conversion that the java compiler makes between the primitive data type and the corresponding object wrapper classes\n",
    "    * we automatically converted the primitive to the corresponding wrapper class\n",
    "```java\n",
    "//autoboxing\n",
    "Integer b = 1;//b is within a wrapper class\n",
    "```\n",
    "* unboxing: the reverse of autoboxing. Automatic conversion of wrapper class to primitive\n",
    "    * we convert the wrapper class into is primitive value\n",
    "    * ie. Even that `a` is a reference data type it will still behave as a primitive data type\n",
    "```java \n",
    "//wrapper class\n",
    "Boolean a = true;\n",
    "\n",
    "//unboxing\n",
    "// converts the Wrapper class into a primitive data type (automatically)\n",
    "// we can still treat it like if were primitives\n",
    "if(a == true){\n",
    "    System.out.println(\"this is true\"); //true\n",
    "}\n",
    "```  "
   ]
  },
  {
   "cell_type": "code",
   "execution_count": 2,
   "metadata": {},
   "outputs": [
    {
     "name": "stdout",
     "output_type": "stream",
     "text": [
      "this is true\n"
     ]
    }
   ],
   "source": [
    "public class Main {\n",
    "    public static void main (String[] args){\n",
    "        //autoboxing\n",
    "        // creating four reference data types variables\n",
    "        Boolean a = true;\n",
    "        Character b = '@';\n",
    "        Integer c = 123;\n",
    "        Double d = 3.14;\n",
    "        //String is already Reference data type\n",
    "        String e = \"Bruno\";\n",
    "        //We can use methods\n",
    "        // name.methods()\n",
    "\n",
    "        //unboxing\n",
    "        if(a == true){ //Even that `a` is a reference data type it will still behave as a primitive data type\n",
    "            System.out.println(\"this is true\"); //true\n",
    "        }\n",
    "        // or also\n",
    "        // if(b == '@'){\n",
    "        //     System.out.println(\"this is true\") //true\n",
    "        // }\n",
    "    }\n",
    "}\n",
    "Main.main(new String[]{});"
   ]
  }
 ],
 "metadata": {
  "kernelspec": {
   "display_name": "Java",
   "language": "java",
   "name": "java"
  },
  "language_info": {
   "codemirror_mode": "java",
   "file_extension": ".jshell",
   "mimetype": "text/x-java-source",
   "name": "java",
   "pygments_lexer": "java",
   "version": "11.0.1+13-LTS"
  }
 },
 "nbformat": 4,
 "nbformat_minor": 2
}
