{
 "cells": [
  {
   "cell_type": "markdown",
   "metadata": {},
   "source": [
    "### Methods\n",
    "* is a block of code that is executed whenever it is called upon\n",
    "---\n",
    "```java\n",
    " void hello(){ //return type is void\n",
    "        System.out.println(\"Hello\");\n",
    "    }\n",
    "```\n",
    "* This method does not have the `public`, `private`, or `protected` access modifiers, which means it has package-private access. That means it can only be accessed by other classes in the same package.\n",
    "---"
   ]
  },
  {
   "cell_type": "code",
   "execution_count": 1,
   "metadata": {
    "vscode": {
     "languageId": "java"
    }
   },
   "outputs": [
    {
     "name": "stdout",
     "output_type": "stream",
     "text": [
      "Hello\n",
      "Hello\n"
     ]
    }
   ],
   "source": [
    "import java.util.*;\n",
    "\n",
    "public class Main {\n",
    "    //the main method\n",
    "    public static void main(String[] args){\n",
    "        //invoke hello\n",
    "        hello();\n",
    "        hello();\n",
    "    }\n",
    "    // to be called from a static main only calls static methods\n",
    "    static void hello(){\n",
    "        System.out.println(\"Hello\");\n",
    "    }\n",
    "}\n",
    "Main.main(new String[]{})"
   ]
  },
  {
   "cell_type": "markdown",
   "metadata": {},
   "source": [
    "* sending variables to a method --> `arguments`\n",
    "* the reciving variable is a `parameter`"
   ]
  },
  {
   "cell_type": "code",
   "execution_count": 4,
   "metadata": {
    "vscode": {
     "languageId": "java"
    }
   },
   "outputs": [
    {
     "name": "stdout",
     "output_type": "stream",
     "text": [
      "Hello Bruno\n"
     ]
    }
   ],
   "source": [
    "import java.util.*;\n",
    "\n",
    "public class Main {\n",
    "    //the main method\n",
    "    public static void main(String[] args){\n",
    "        //invoke hello  \n",
    "        String name = \"Bruno\";\n",
    "        hello(name); //arguments\n",
    "    }\n",
    "    // to be called from a static main only calls static methods\n",
    "    static void hello(String parameter){ //parameter\n",
    "        System.out.println(\"Hello \"+ parameter);\n",
    "    }\n",
    "}\n",
    "Main.main(new String[]{})"
   ]
  },
  {
   "cell_type": "markdown",
   "metadata": {},
   "source": [
    "* passing more variables"
   ]
  },
  {
   "cell_type": "code",
   "execution_count": null,
   "metadata": {
    "vscode": {
     "languageId": "java"
    }
   },
   "outputs": [],
   "source": [
    "import java.util.*;\n",
    "\n",
    "public class Main {\n",
    "    //the main method\n",
    "    public static void main(String[] args){\n",
    "        //invoke hello  \n",
    "        String name = \"Bruno\";\n",
    "        int age = 25;\n",
    "        hello(name, age); //arguments\n",
    "    }\n",
    "    // to be called from a static main only calls static methods\n",
    "    static void hello(String parameter, int age){ //parameter\n",
    "        System.out.println(\"Hello \"+ parameter);\n",
    "        System.out.println(\"you are : \"+ age);\n",
    "        \n",
    "    }\n",
    "}\n",
    "Main.main(new String[]{})"
   ]
  },
  {
   "cell_type": "markdown",
   "metadata": {},
   "source": [
    "* Return type\n",
    "    * we can return a value **back** to the area which we call the method"
   ]
  },
  {
   "cell_type": "code",
   "execution_count": 5,
   "metadata": {
    "vscode": {
     "languageId": "java"
    }
   },
   "outputs": [
    {
     "name": "stdout",
     "output_type": "stream",
     "text": [
      "7\n"
     ]
    }
   ],
   "source": [
    "import java.util.*;\n",
    "\n",
    "public class Main {\n",
    "    //the main method\n",
    "    public static void main(String[] args){\n",
    "        //local variables\n",
    "        int x = 3;\n",
    "        int y = 4;\n",
    "        //store the return in a variable z\n",
    "        int z = add(x,y);\n",
    "        //Displays the sum of x,y\n",
    "        System.out.println(z);\n",
    "    }\n",
    "    //method that sum two numbers\n",
    "    //staticMethod returnType\n",
    "    static int add(int x, int y){\n",
    "        //store the sum in z\n",
    "        int sum = x + y;\n",
    "        return sum;\n",
    "    }\n",
    "}\n",
    "Main.main(new String[]{});"
   ]
  },
  {
   "cell_type": "markdown",
   "metadata": {},
   "source": [
    "* another way"
   ]
  },
  {
   "cell_type": "code",
   "execution_count": 7,
   "metadata": {
    "vscode": {
     "languageId": "java"
    }
   },
   "outputs": [
    {
     "name": "stdout",
     "output_type": "stream",
     "text": [
      "7\n"
     ]
    }
   ],
   "source": [
    "import java.util.*;\n",
    "\n",
    "public class Main {\n",
    "    //the main method\n",
    "    public static void main(String[] args){\n",
    "        //local variables\n",
    "        int x = 3;\n",
    "        int y = 4;\n",
    "\n",
    "        //Displays directly the return of the method\n",
    "        System.out.println(add(x,y));\n",
    "    }\n",
    "    //method that sum two numbers\n",
    "    //staticMethod returnType\n",
    "    static int add(int x, int y){\n",
    "        //store the sum in z\n",
    "        int sum = x + y;\n",
    "        return sum;\n",
    "        // //or directly return the sum\n",
    "        // return x + y; \n",
    "    }\n",
    "}\n",
    "Main.main(new String[]{});"
   ]
  }
 ],
 "metadata": {
  "kernelspec": {
   "display_name": "Java",
   "language": "java",
   "name": "java"
  },
  "language_info": {
   "codemirror_mode": "java",
   "file_extension": ".jshell",
   "mimetype": "text/x-java-source",
   "name": "Java",
   "pygments_lexer": "java",
   "version": "11.0.1+13-LTS"
  }
 },
 "nbformat": 4,
 "nbformat_minor": 2
}
