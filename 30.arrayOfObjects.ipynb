{
 "cells": [
  {
   "cell_type": "markdown",
   "metadata": {},
   "source": [
    "### Array of objects\n",
    "* what if we have a class `Food` and we want to store some food objects"
   ]
  },
  {
   "cell_type": "code",
   "execution_count": null,
   "metadata": {
    "vscode": {
     "languageId": "java"
    }
   },
   "outputs": [],
   "source": [
    "public class Main{\n",
    "    public static void main(String[]args){\n",
    "\n",
    "        // arrays used in the lectures before\n",
    "        int[] number = new int[3];\n",
    "        char[] characters = new char[4];\n",
    "        String[] string = new String[5];\n",
    "    }\n",
    "}"
   ]
  },
  {
   "cell_type": "markdown",
   "metadata": {},
   "source": [
    "* Array of objects"
   ]
  },
  {
   "cell_type": "code",
   "execution_count": 7,
   "metadata": {
    "vscode": {
     "languageId": "java"
    }
   },
   "outputs": [
    {
     "name": "stdout",
     "output_type": "stream",
     "text": [
      "REPL.$JShell$16$Food@7bcbd9eb\n",
      "apple\n",
      "coke\n",
      "ketchup\n"
     ]
    }
   ],
   "source": [
    "//class food\n",
    "public class Food{\n",
    "    // att\n",
    "    String name;\n",
    "    \n",
    "    //constructor\n",
    "    Food(String name){\n",
    "        this.name = name;\n",
    "    }\n",
    "}\n",
    "//Main\n",
    "public class Main{\n",
    "    public static void main(String[]args){\n",
    "\n",
    "        // lets say that we want to store this food in the refrigerator\n",
    "        Food[] refrigerator =  new Food[3];\n",
    "        // create some food objects\n",
    "        Food food1 = new Food(\"apple\");\n",
    "        Food food2 = new Food(\"coke\");\n",
    "        Food food3 = new Food(\"ketchup\");\n",
    "\n",
    "        //store the objects in the array\n",
    "        refrigerator[0] = food1;\n",
    "        refrigerator[1] = food2;\n",
    "        refrigerator[2] = food3;\n",
    "\n",
    "        System.out.println(refrigerator[0]); //returns location in memory\n",
    "        System.out.println(refrigerator[0].name); //returns the actual object\n",
    "        System.out.println(refrigerator[1].name); //returns the actual object\n",
    "        System.out.println(refrigerator[2].name); //returns the actual object\n",
    "    }\n",
    "}\n",
    "Main.main(new String[]{});\n"
   ]
  },
  {
   "cell_type": "markdown",
   "metadata": {},
   "source": [
    "* another way to create the array directly is by:"
   ]
  },
  {
   "cell_type": "code",
   "execution_count": 10,
   "metadata": {
    "vscode": {
     "languageId": "java"
    }
   },
   "outputs": [
    {
     "name": "stdout",
     "output_type": "stream",
     "text": [
      "apple\n",
      "apple\n",
      "coke\n",
      "ketchup\n"
     ]
    }
   ],
   "source": [
    "//class food\n",
    "public class Food{\n",
    "    // att\n",
    "    String name;\n",
    "    \n",
    "    //constructor\n",
    "    Food(String name){\n",
    "        this.name = name;\n",
    "    }\n",
    "\n",
    "    @Override\n",
    "    public String toString(){\n",
    "        return name;\n",
    "    }\n",
    "}\n",
    "//Main\n",
    "public class Main{\n",
    "    public static void main(String[]args){\n",
    "\n",
    "        // lets say that we want to store this food in the refrigerator\n",
    "        // Food[] refrigerator =  new Food[3];\n",
    "        \n",
    "        // create some food objects\n",
    "        Food food1 = new Food(\"apple\");\n",
    "        Food food2 = new Food(\"coke\");\n",
    "        Food food3 = new Food(\"ketchup\");\n",
    "        //store the food in a refrigerator array\n",
    "        Food[] refrigerator = {food1, food2, food3};\n",
    "\n",
    "        //store the objects in the array\n",
    "        // refrigerator[0] = food1;\n",
    "        // refrigerator[1] = food2;\n",
    "        // refrigerator[2] = food3;\n",
    "\n",
    "        System.out.println(refrigerator[0]); //returns the object because of toString() called implicitly\n",
    "        System.out.println(refrigerator[0].name); //returns the actual object\n",
    "        System.out.println(refrigerator[1].toString()); //returns the actual object\n",
    "        System.out.println(refrigerator[2].name); //returns the actual object\n",
    "    }\n",
    "}\n",
    "Main.main(new String[]{});"
   ]
  }
 ],
 "metadata": {
  "kernelspec": {
   "display_name": "Java",
   "language": "java",
   "name": "java"
  },
  "language_info": {
   "codemirror_mode": "java",
   "file_extension": ".jshell",
   "mimetype": "text/x-java-source",
   "name": "Java",
   "pygments_lexer": "java",
   "version": "11.0.21+9-post-Ubuntu-0ubuntu122.04"
  }
 },
 "nbformat": 4,
 "nbformat_minor": 2
}
