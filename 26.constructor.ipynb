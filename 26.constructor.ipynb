{
 "cells": [
  {
   "cell_type": "markdown",
   "metadata": {},
   "source": [
    "### Constructor\n",
    "* is a special method that is called when an object instaciated\n",
    "    * instanciated is a fancy way of saying (created)\n",
    "    * an object is created == an object is instanciated\n",
    "* allows us to create differents objects with diff attributes"
   ]
  },
  {
   "cell_type": "code",
   "execution_count": 3,
   "metadata": {},
   "outputs": [
    {
     "name": "stdout",
     "output_type": "stream",
     "text": [
      "null\n"
     ]
    }
   ],
   "source": [
    "public class Human{\n",
    "    //define the attributes of the class (variables)\n",
    "    String name; //declaration only\n",
    "    int age;\n",
    "    double weight;\n",
    "\n",
    "    //to create the constructor(set the parameters inside parentesis)\n",
    "    Human(String name, int age, double weight){ //(values)\n",
    "        //assign all the values to each of the variables\n",
    "        name = name;\n",
    "        age = age;\n",
    "        weight = weight;\n",
    "    }\n",
    "\n",
    "}\n",
    "\n",
    "public class Main{\n",
    "    public static void main(String[]args){\n",
    "        //className uniqueNameInstanceOfClass = new NameOfClassAgain();\n",
    "        Human human = new Human(\"Bruno\", 25, 75); //name,age,weightKg\n",
    "        System.out.println(human.name); //null\n",
    "    }\n",
    "}\n",
    "Main.main(new String[]{});"
   ]
  },
  {
   "cell_type": "markdown",
   "metadata": {},
   "source": [
    "* we get `null` because we need to assign each of the values to the `human` object created(instanciated)\n",
    "    * use the `this` keyword"
   ]
  },
  {
   "cell_type": "code",
   "execution_count": 5,
   "metadata": {},
   "outputs": [
    {
     "name": "stdout",
     "output_type": "stream",
     "text": [
      "Bruno\n",
      "Mario\n"
     ]
    }
   ],
   "source": [
    "public class Human{\n",
    "    //define the attributes of the class (variables)\n",
    "    String name; //declaration only\n",
    "    int age;\n",
    "    double weight;\n",
    "\n",
    "    //to create the constructor(set the parameters inside parentesis)\n",
    "    Human(String name, int age, double weight){ //(values)\n",
    "        //assign all the values to each of the variables\n",
    "        //we need to imagine that we this = nameOfObjectCreated\n",
    "        //human.name = name or human2.name\n",
    "        this.name = name;\n",
    "        this.age = age;\n",
    "        this.weight = weight;\n",
    "    }\n",
    "\n",
    "}\n",
    "public class Main{\n",
    "    public static void main(String[]args){\n",
    "        //className uniqueNameInstanceOfClass = new NameOfClassAgain();\n",
    "        Human human = new Human(\"Bruno\", 25, 75); //name,age,weightKg\n",
    "        System.out.println(human.name); //Bruno\n",
    "\n",
    "        //create a new object\n",
    "        Human human2 = new Human(\"Mario\", 16, 50);\n",
    "        System.out.println(human2.name); //Bruno\n",
    "    }\n",
    "}\n",
    "Main.main(new String[]{});"
   ]
  },
  {
   "cell_type": "markdown",
   "metadata": {},
   "source": [
    "### **How to access the attributes of the object within(inside) its class**"
   ]
  },
  {
   "cell_type": "code",
   "execution_count": 11,
   "metadata": {},
   "outputs": [
    {
     "name": "stdout",
     "output_type": "stream",
     "text": [
      "Bruno is drinking *burp*\n",
      "Mario is eating\n"
     ]
    }
   ],
   "source": [
    "public class Human{\n",
    "    //define the attributes of the class (variables)\n",
    "    String name; //declaration only\n",
    "    int age;\n",
    "    double weight;\n",
    "\n",
    "    //to create the constructor(set the parameters inside parentesis)\n",
    "    Human(String name, int age, double weight){ //(values)\n",
    "        //assign all the values to each of the variables\n",
    "        //we need to imagine that we this = nameOfObjectCreated\n",
    "        //human.name = name or human2.name\n",
    "        this.name = name;\n",
    "        this.age = age;\n",
    "        this.weight = weight;\n",
    "    }\n",
    "\n",
    "    //accessing the attributes of the Human class (FROM INSIDE)\n",
    "    void eat(){\n",
    "        System.out.println(this.name + \" is eating\");\n",
    "    }\n",
    "    void drink(){\n",
    "        System.out.println(this.name + \" is drinking *burp*\");\n",
    "    }\n",
    "}\n",
    "\n",
    "public class Main{\n",
    "    public static void main(String[]args){\n",
    "        Human human1 = new Human(\"Bruno\", 25, 75);\n",
    "        Human human2 = new Human(\"Mario\", 16, 50);\n",
    "\n",
    "        human1.drink(); //bruno is drinking\n",
    "        human2.eat(); //mario is eating\n",
    "    \n",
    "    }\n",
    "}\n",
    "Main.main(new String[]{});"
   ]
  }
 ],
 "metadata": {
  "kernelspec": {
   "display_name": "Java",
   "language": "java",
   "name": "java"
  },
  "language_info": {
   "codemirror_mode": "java",
   "file_extension": ".jshell",
   "mimetype": "text/x-java-source",
   "name": "java",
   "pygments_lexer": "java",
   "version": "11.0.21+9-post-Ubuntu-0ubuntu122.04"
  }
 },
 "nbformat": 4,
 "nbformat_minor": 2
}
