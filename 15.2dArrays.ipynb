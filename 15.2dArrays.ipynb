{
 "cells": [
  {
   "cell_type": "markdown",
   "metadata": {},
   "source": [
    "### 2D arrays\n",
    "* an array of arrays\n",
    "* multi dimensional array\n",
    "--- \n",
    "* writing the array by allocating the memory"
   ]
  },
  {
   "cell_type": "code",
   "execution_count": 10,
   "metadata": {},
   "outputs": [
    {
     "name": "stdout",
     "output_type": "stream",
     "text": [
      "\n",
      "camaro | corvette | silverado | \n",
      "mustang | ranger | f-150 | \n",
      "ferrari | lambo | tesla | "
     ]
    }
   ],
   "source": [
    "import java.util.Arrays;\n",
    "\n",
    "public class Main{\n",
    "    public static void main (String[] args){\n",
    "\n",
    "        //2D array = an array of arrays\n",
    "        String[][] cars = new String[3][3];\n",
    "        \n",
    "        cars[0][0] = \"camaro\";\n",
    "        cars[0][1] = \"corvette\";\n",
    "        cars[0][2] = \"silverado\";\n",
    "\n",
    "        cars[1][0] = \"mustang\";\n",
    "        cars[1][1] = \"ranger\";\n",
    "        cars[1][2] = \"f-150\";\n",
    "\n",
    "        cars[2][0] = \"ferrari\";\n",
    "        cars[2][1] = \"lambo\";\n",
    "        cars[2][2] = \"tesla\";\n",
    "\n",
    "        //iterate over the arrays inside cars\n",
    "        for (int i = 0; i < cars.length; i++) {\n",
    "            //add a blank print to jump line\n",
    "            System.out.println();\n",
    "            for (int j = 0; j < cars[i].length; j++){\n",
    "                System.out.print(cars[i][j]+ \" | \");\n",
    "            }\n",
    "        }\n",
    "    }\n",
    "}\n",
    "Main.main(new String[]{});"
   ]
  },
  {
   "cell_type": "markdown",
   "metadata": {},
   "source": [
    "* assignment of the values instantly"
   ]
  },
  {
   "cell_type": "code",
   "execution_count": 12,
   "metadata": {},
   "outputs": [
    {
     "name": "stdout",
     "output_type": "stream",
     "text": [
      "\n",
      "camaro | corvette | silverado | \n",
      "mustang | ranger | f-150 | \n",
      "ferrari | lambo | tesla | "
     ]
    }
   ],
   "source": [
    "import java.util.Arrays;\n",
    "\n",
    "public class Main{\n",
    "    public static void main (String[] args){\n",
    "\n",
    "        //2D array = an array of arrays\n",
    "        String[][] cars = {\n",
    "            {\"camaro\",\"corvette\",\"silverado\"}, //array 1 (index 1)\n",
    "            {\"mustang\",\"ranger\",\"f-150\"}, //array 2\n",
    "            {\"ferrari\",\"lambo\",\"tesla\"} //array 3\n",
    "        };\n",
    "        //iterate over the arrays inside cars\n",
    "        for (int i = 0; i <cars.length; i++) {\n",
    "            //iterate over the indexes of a single array\n",
    "                // cars[index].length --> where a single index IS AN ARRAY\n",
    "            System.out.println();\n",
    "            for (int j =0;j< cars[i].length; j++){\n",
    "                System.out.print(cars[i][j]+ \" | \");\n",
    "            }\n",
    "        }\n",
    "    }\n",
    "}\n",
    "Main.main(new String[]{});"
   ]
  }
 ],
 "metadata": {
  "kernelspec": {
   "display_name": "Java",
   "language": "java",
   "name": "java"
  },
  "language_info": {
   "codemirror_mode": "java",
   "file_extension": ".jshell",
   "mimetype": "text/x-java-source",
   "name": "java",
   "pygments_lexer": "java",
   "version": "11.0.1+13-LTS"
  }
 },
 "nbformat": 4,
 "nbformat_minor": 2
}
