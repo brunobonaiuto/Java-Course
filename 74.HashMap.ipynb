{
 "cells": [
  {
   "cell_type": "markdown",
   "metadata": {},
   "source": [
    "### HashMap\n",
    "* it implements the Map interface (need import)\n",
    "* it is similar to ArrayList, but with key-value pairs\n",
    "* it stores objects, so you need to use Wrapper Class (Integer, Double ...)\n",
    "* ex: (name,email),(username,userID),(country,capital)"
   ]
  },
  {
   "cell_type": "code",
   "execution_count": 4,
   "metadata": {
    "vscode": {
     "languageId": "java"
    }
   },
   "outputs": [
    {
     "name": "stdout",
     "output_type": "stream",
     "text": [
      "Original HashMap: {USA=Washington DC, China=Beijing, India=New Delhi, Russia=Moscow}\n",
      "HashMap after removing USA:{China=Beijing, India=New Delhi, Russia=Moscow}\n",
      ".get(\"Russia\") returns the value: Moscow\n",
      ".size() returns number of keys: 3\n",
      ".replace(\"old\", \"new\")null\n",
      ".containsKey(\"England\") : false.containsValue(\"Beijing\") : truecountryChina, capital = BeijingcountryIndia, capital = New DelhicountryRussia, capital = Moscow.clear() returns the HashMap cleaned: {}\n"
     ]
    }
   ],
   "source": [
    "import java.util.HashMap;\n",
    "\n",
    "public class Main {\n",
    "\n",
    "\tpublic static void main(String[] args) {\n",
    "\t\t\n",
    "\t\tHashMap<String,String> countries = new HashMap<String,String>();\n",
    "\t\t\n",
    "\t\t//add a key and value\n",
    "\t\tcountries.put(\"USA\",\"Washington DC\");\n",
    "\t\tcountries.put(\"India\",\"New Delhi\");\n",
    "\t\tcountries.put(\"Russia\",\"Moscow\");\n",
    "\t\tcountries.put(\"China\",\"Beijing\");\n",
    "\t\t\n",
    "\t\tSystem.out.println(\"Original HashMap: \"+ countries);\n",
    "        countries.remove(\"USA\");\n",
    "        System.out.println(\"HashMap after removing USA:\" + countries);\n",
    "\t\tSystem.out.println(\".get(\\\"Russia\\\") returns the value: \" + countries.get(\"Russia\"));\n",
    "\t\tSystem.out.println(\".size() returns number of keys: \" + countries.size());\n",
    "\t\tSystem.out.println(\".replace(\\\"old\\\", \\\"new\\\")\" + countries.replace(\"USA\", \"Detroit\"));\n",
    "\t\tSystem.out.print(\".containsKey(\\\"England\\\") : \" + countries.containsKey(\"England\"));\n",
    "\t\tSystem.out.print(\".containsValue(\\\"Beijing\\\") : \" + countries.containsValue(\"Beijing\"));\n",
    "\t\t\n",
    "\t\tfor(String country : countries.keySet()) {\n",
    "\t\t\tSystem.out.print(\"country\" + country + \", capital = \" + countries.get(country));\n",
    "\t\t}\n",
    "        countries.clear();\n",
    "        System.out.println(\".clear() returns the HashMap cleaned: \" + countries);\n",
    "\t}\n",
    "}\n",
    "Main.main(new String[]{});"
   ]
  }
 ],
 "metadata": {
  "kernelspec": {
   "display_name": "Java",
   "language": "java",
   "name": "java"
  },
  "language_info": {
   "codemirror_mode": "java",
   "file_extension": ".jshell",
   "mimetype": "text/x-java-source",
   "name": "Java",
   "pygments_lexer": "java",
   "version": "21.0.3+9-LTS"
  }
 },
 "nbformat": 4,
 "nbformat_minor": 2
}
