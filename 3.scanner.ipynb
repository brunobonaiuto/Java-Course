{
 "cells": [
  {
   "cell_type": "markdown",
   "metadata": {},
   "source": [
    "### Scanner\n",
    "* import java.util.Scanner;\n",
    "* after scanning an integer remember to add a scanner.nextLine(); to solve the problem."
   ]
  },
  {
   "cell_type": "code",
   "execution_count": 1,
   "metadata": {},
   "outputs": [
    {
     "name": "stdout",
     "output_type": "stream",
     "text": [
      "what is your name: \n",
      "how old are you: \n",
      "what is your fav food: \n",
      "hello bruno\n",
      "cool that you have 25 years old\n",
      "I also love pizza\n"
     ]
    }
   ],
   "source": [
    "//import the librery\n",
    "import java.util.Scanner;\n",
    "\n",
    "public class Main {\n",
    "    public static void main (String[]args){\n",
    "        //createdObject objectName = new object(System.in)\n",
    "        Scanner scannerName = new Scanner(System.in);\n",
    "\n",
    "        System.out.println(\"what is your name: \");\n",
    "        //assign user input to a variable\n",
    "        String name = scannerName.nextLine();\n",
    "        System.out.println(\"how old are you: \");\n",
    "        //save the input in var age\n",
    "        int age = scannerName.nextInt(); // will break the system with a line \n",
    "        //add one scanner to clear the line of Int()\n",
    "        scannerName.nextLine(); \n",
    "        System.out.println(\"what is your fav food: \");\n",
    "        //It wont work, we need to clear out the \\n (the line from int)\n",
    "        String food = scannerName.nextLine();\n",
    "\n",
    "        //prints \n",
    "        System.out.println(\"hello \"+name);\n",
    "        System.out.println(\"cool that you have \"+age+\" years old\");\n",
    "        System.out.println(\"I also love \"+ food);\n",
    "        // scannerName.close();\n",
    "    }\n",
    "}\n",
    "// instanciating the class\n",
    "// Main mainInstance = new Main();\n",
    "// mainInstance.main(new String[]{});\n",
    "\n",
    "// Static method can be called without creating an object of the class\n",
    "Main.main(new String[]{});"
   ]
  }
 ],
 "metadata": {
  "kernelspec": {
   "display_name": "Java",
   "language": "java",
   "name": "java"
  },
  "language_info": {
   "codemirror_mode": "java",
   "file_extension": ".jshell",
   "mimetype": "text/x-java-source",
   "name": "java",
   "pygments_lexer": "java",
   "version": "11.0.21+9-post-Ubuntu-0ubuntu122.04"
  }
 },
 "nbformat": 4,
 "nbformat_minor": 2
}
