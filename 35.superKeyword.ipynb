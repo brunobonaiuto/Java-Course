{
 "cells": [
  {
   "cell_type": "markdown",
   "metadata": {},
   "source": [
    "### Super keyword\n",
    "* is a keyword that refers to the superclass (parent) of an object\n",
    "* is very similar to the \"this\" keyword\n",
    "    * `this` refers to the current class.\n",
    "    * `super` refers to the parent class"
   ]
  },
  {
   "cell_type": "code",
   "execution_count": 4,
   "metadata": {
    "vscode": {
     "languageId": "java"
    }
   },
   "outputs": [
    {
     "name": "stdout",
     "output_type": "stream",
     "text": [
      "Batman\n",
      "42\n",
      "Money is my power\n"
     ]
    }
   ],
   "source": [
    "//******************************************\n",
    "public class Person {\n",
    "\tString name;\n",
    "\tint age;\n",
    "    \n",
    "\tPerson(String name,int age){\n",
    "\t\tthis.name = name;\n",
    "\t\tthis.age = age;\n",
    "\t}\n",
    "}\n",
    "//******************************************\n",
    "public class Hero extends Person{\n",
    "\tString power;\n",
    "\t\n",
    "    //I need to recieve the fields from parent class\n",
    "\tHero(String name, int age, String power){\t\n",
    "        super(name,age);\n",
    "        this.power = power;\n",
    "\n",
    "        //wrong\n",
    "\t\t// this.name = name;\n",
    "        // this.age = age;\n",
    "\n",
    "        //also wrong \n",
    "        //super(name);\n",
    "        //super(age);\n",
    "\t}\n",
    "}\n",
    "//******************************************\n",
    "public class Main {\n",
    "\tpublic static void main(String[] args) {\t\t\n",
    "\t\tHero hero = new Hero(\"Batman\", 42, \"Money is my power\");\n",
    "\t\t\n",
    "\t\tSystem.out.println(hero.name);\n",
    "\t\tSystem.out.println(hero.age);\n",
    "\t\tSystem.out.println(hero.power);\n",
    "\t}\n",
    "}\n",
    "Main.main(new String[]{});"
   ]
  },
  {
   "cell_type": "markdown",
   "metadata": {},
   "source": [
    "* What if we have to many objects, we cannot add to many printlns... solution is:"
   ]
  },
  {
   "cell_type": "code",
   "execution_count": 12,
   "metadata": {
    "vscode": {
     "languageId": "java"
    }
   },
   "outputs": [
    {
     "name": "stdout",
     "output_type": "stream",
     "text": [
      "Batman\n",
      "42\n",
      "Money is my power\n",
      " \n",
      "Superman\n",
      "43\n",
      "everything\n"
     ]
    }
   ],
   "source": [
    "//******************************************\n",
    "public class Person {\n",
    "\tString name;\n",
    "\tint age;\n",
    "    \n",
    "\tPerson(String name,int age){\n",
    "\t\tthis.name = name;\n",
    "\t\tthis.age = age;\n",
    "\t}\n",
    "\t// a method that just return the name and age\n",
    "\tpublic String toString() {\n",
    "\t\treturn this.name + \"\\n\" + this.age + \"\\n\";\n",
    "\t}\n",
    "}\n",
    "//******************************************\n",
    "public class Hero extends Person{\n",
    "\tString power;\n",
    "\n",
    "    //I need to recieve the fields from parent class\n",
    "\tHero(String name, int age, String power){\t\n",
    "        super(name,age);\n",
    "        this.power = power;\n",
    "\n",
    "\t}\n",
    "\t@Override\n",
    "\tpublic String toString() {\n",
    "\t\t//call the toString of the Parent class (PLUS) the power\n",
    "\t\treturn super.toString() + this.power;\n",
    "\t}\n",
    "}\n",
    "//******************************************\n",
    "public class Main {\n",
    "\tpublic static void main(String[] args) {\t\t\n",
    "\t\tHero hero1 = new Hero(\"Batman\", 42, \"Money is my power\");\n",
    "\t\tHero hero2 = new Hero(\"Superman\", 43, \"everything\");\n",
    "\t\t\n",
    "\t\tSystem.out.println(hero1.toString());\n",
    "\t\tSystem.out.println(\" \");\n",
    "\t\tSystem.out.println(hero2.toString());\n",
    "\t}\n",
    "}\n",
    "Main.main(new String[]{});"
   ]
  }
 ],
 "metadata": {
  "kernelspec": {
   "display_name": "Java",
   "language": "java",
   "name": "java"
  },
  "language_info": {
   "codemirror_mode": "java",
   "file_extension": ".jshell",
   "mimetype": "text/x-java-source",
   "name": "Java",
   "pygments_lexer": "java",
   "version": "11.0.21+9"
  }
 },
 "nbformat": 4,
 "nbformat_minor": 2
}
