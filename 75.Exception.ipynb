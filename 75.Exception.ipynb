{
 "cells": [
  {
   "cell_type": "markdown",
   "metadata": {},
   "source": [
    "### Exception\n",
    "* Exception: an event, after execution, that disrupts the normal flow of the program\n",
    "* Ex: arithmeticException, ArrayIndexOutOfBoundsExceptions....\n",
    "\n",
    "* user defined exceptions = custom exceptions\n",
    "* ex: duplicatedEmail, InvalidNumber, and so on..."
   ]
  },
  {
   "cell_type": "code",
   "execution_count": 1,
   "metadata": {
    "vscode": {
     "languageId": "java"
    }
   },
   "outputs": [
    {
     "name": "stdout",
     "output_type": "stream",
     "text": [
      "Enter your age: A problem occured: REPL.$JShell$12$AgeException: \n",
      "You must be 18+ to sign up\n"
     ]
    }
   ],
   "source": [
    "// ***************************************************\n",
    "public class AgeException extends Exception{\n",
    "\t\n",
    "\tAgeException(String message){  \n",
    "\t\tsuper(message);  \n",
    "\t}  \n",
    "}\n",
    "// ***************************************************\n",
    "import java.util.Scanner;\n",
    "\n",
    "public class Main {\n",
    "    public static void main(String args[]){\n",
    "    \n",
    "        Scanner scan = new Scanner(System.in);\n",
    "        System.out.print(\"Enter your age: \");\n",
    "        int age = scan.nextInt();\n",
    "    \n",
    "        try{  \n",
    "            checkAge(age);  \n",
    "        }\n",
    "        catch(Exception e)\n",
    "        {\n",
    "            System.out.println(\"A problem occured: \"+e);\n",
    "        }   \n",
    "    }  \n",
    "        \n",
    "    static void checkAge(int age)throws AgeException{ \n",
    "        if(age<18) {\n",
    "            throw new AgeException(\"\\n\"+\"You must be 18+ to sign up\");  \n",
    "        }\n",
    "        else {\n",
    "            System.out.println(\"You are now signed up!\"); \n",
    "        }       \n",
    "    }  \n",
    "}\n",
    "Main.main(new String []{});"
   ]
  }
 ],
 "metadata": {
  "kernelspec": {
   "display_name": "Java",
   "language": "java",
   "name": "java"
  },
  "language_info": {
   "codemirror_mode": "java",
   "file_extension": ".jshell",
   "mimetype": "text/x-java-source",
   "name": "Java",
   "pygments_lexer": "java",
   "version": "21.0.3+9-LTS"
  }
 },
 "nbformat": 4,
 "nbformat_minor": 2
}
