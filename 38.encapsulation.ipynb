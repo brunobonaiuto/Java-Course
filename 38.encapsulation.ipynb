{
 "cells": [
  {
   "cell_type": "markdown",
   "metadata": {},
   "source": [
    "### Encapsulation\n",
    "* Attributes of a class will be hidden or private, can be accessed only throught methods (getters and setters)\n",
    "* You should make attributes privates if you dont have a reason to make them public/protected"
   ]
  },
  {
   "cell_type": "code",
   "execution_count": 2,
   "metadata": {},
   "outputs": [
    {
     "ename": "CompilationException",
     "evalue": "",
     "output_type": "error",
     "traceback": [
      "\u001b[1m\u001b[30m|   \u001b[1m\u001b[30m        System.out.println(\u001b[0m\u001b[1m\u001b[30m\u001b[41mcar.model\u001b[0m\u001b[1m\u001b[30m);\u001b[0m",
      "\u001b[1m\u001b[31mmodel has private access in Car\u001b[0m",
      ""
     ]
    }
   ],
   "source": [
    "public class Car {\n",
    "    \n",
    "    private String make;\n",
    "    private String model;\n",
    "    private int year;\n",
    "\n",
    "    Car(String make, String model, int year){\n",
    "        this.make = make;\n",
    "        this.model = model;\n",
    "        this.year = year;\n",
    "    }\n",
    "}\n",
    "\n",
    "public class Main {\n",
    "    public static void main(String[]args){\n",
    "        Car car = new Car(\"Chevrolet\",\"Camaro\", 2021);\n",
    "        //But if I try to access a field\n",
    "        System.out.println(car.model); //this is private\n",
    "    }\n",
    "}\n",
    "Main.main(new String[]{});"
   ]
  },
  {
   "cell_type": "markdown",
   "metadata": {},
   "source": [
    "* Use `getters` to retrieve content of a private variable"
   ]
  },
  {
   "cell_type": "code",
   "execution_count": 4,
   "metadata": {},
   "outputs": [
    {
     "name": "stdout",
     "output_type": "stream",
     "text": [
      "Chevrolet\n"
     ]
    }
   ],
   "source": [
    "public class Car {\n",
    "    \n",
    "    private String make;\n",
    "    private String model;\n",
    "    private int year;\n",
    "\n",
    "    Car(String make, String model, int year){\n",
    "        this.make = make;\n",
    "        this.model = model;\n",
    "        this.year = year;\n",
    "    }\n",
    "\n",
    "    public String getMake(){\n",
    "        return make;\n",
    "    }\n",
    "    public String getModel(){\n",
    "        return model;\n",
    "    }\n",
    "    public int getYear(){\n",
    "        return year;\n",
    "    }\n",
    "}\n",
    "\n",
    "public class Main {\n",
    "    public static void main(String[]args){\n",
    "        Car car = new Car(\"Chevrolet\",\"Camaro\", 2021);\n",
    "        //Now im able to get this field\n",
    "        System.out.println(car.getMake()); //this is private\n",
    "        System.out.println(car.getModel());\n",
    "        System.out.println(car.getMake());\n",
    "    }\n",
    "}\n",
    "Main.main(new String[]{});"
   ]
  },
  {
   "cell_type": "markdown",
   "metadata": {},
   "source": [
    "* Use `setters` to assing content of a private variable"
   ]
  },
  {
   "cell_type": "code",
   "execution_count": 14,
   "metadata": {},
   "outputs": [],
   "source": [
    "public class Car {\n",
    "    \n",
    "    private String make;\n",
    "    private String model;\n",
    "    private int year;\n",
    "\n",
    "    Car(String make, String model, int year){\n",
    "        //this.make = make;\n",
    "        setMake(make);\n",
    "        this.model = model;\n",
    "        this.year = year;\n",
    "    }\n",
    "\n",
    "    public void setMake(String make){\n",
    "        this.make = make;\n",
    "    }\n",
    "    //and the same for others fields\n",
    "\n",
    "}\n",
    "\n",
    "public class Main {\n",
    "\n",
    "    public static void main(String[]args){\n",
    "        Car car = new Car(\"Chevrolet\",\"Camaro\", 2021);\n",
    "        //or\n",
    "        car.setMake(\"Ford\");\n",
    "    }\n",
    "}\n",
    "\n",
    "Main.main(new String[]{});"
   ]
  }
 ],
 "metadata": {
  "kernelspec": {
   "display_name": "Java",
   "language": "java",
   "name": "java"
  },
  "language_info": {
   "codemirror_mode": "java",
   "file_extension": ".jshell",
   "mimetype": "text/x-java-source",
   "name": "java",
   "pygments_lexer": "java",
   "version": "21.0.3+9-LTS"
  }
 },
 "nbformat": 4,
 "nbformat_minor": 2
}
